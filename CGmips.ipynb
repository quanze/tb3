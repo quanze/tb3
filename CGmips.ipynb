{
 "cells": [
  {
   "cell_type": "markdown",
   "metadata": {},
   "source": [
    "### P0 Code Generator for MIPS\n",
    "#### Emil Sekerinski, March 2017; updated March 2020\n",
    "\n",
    "The generated code is kept in memory and all code generation procedures continuously append to that code: procedure `genProgStart` initializes the generator, then `gen`-prefixed procedures are to be called for P0 constructs in the same order in which they are recognized by a recursive descent parser, and finally procedure `genProgExit` returns the generated code in assembly language as a string in a format that can be read in by the SPIM simulator. The generation procedures are:\n",
    "- `genBool`, `genInt`, `genRec`, `genArray`\n",
    "- `genProgStart`, `genGlobalVars`, `genProgEntry`, `genProgExit`\n",
    "- `genProcStart`, `genFormalParams`, `genLocalVars`, `genProcEntry`, `genProcExit`\n",
    "- `genSelect`, `genIndex`, `genVar`, `genConst`, `genUnaryOp`, `genBinaryOp`, `genRelation`\n",
    "- `genAssign`, `genActualPara`, `genCall`, `genRead`, `genWrite`, `genWriteln`\n",
    "- `genSeq`, `genThen`, `genIfThen`, `genElse`, `genIfElse`, `genWhile`, `genDo`, `genWhileDo`\n",
    "\n",
    "Errors in the code generator are reported by calling `mark` of the scanner. The data types of the symbol table are used to specify the P0 constructs for which code is to be generated."
   ]
  },
  {
   "cell_type": "code",
   "execution_count": null,
   "metadata": {},
   "outputs": [],
   "source": [
    "import nbimporter; nbimporter.options[\"only_defs\"] = False\n",
    "from SC import TIMES, DIV, MOD, AND, PLUS, MINUS, OR, EQ, NE, LT, GT, LE, \\\n",
    "     GE, NOT, mark\n",
    "from ST import Var, Ref, Const, Type, Proc, StdProc, Int, Bool"
   ]
  },
  {
   "cell_type": "markdown",
   "metadata": {
    "collapsed": true
   },
   "source": [
    "Following variables determine the state of the code generator:\n",
    "\n",
    "- `curlev` is the current level of nesting of P0 procedures\n",
    "- `regs` is the set of available MIPS registers for expression evaluation\n",
    "- `label` is a counter for generating new labels\n",
    "- `asm` is a list of triples; each triple consists of three (possibly empty) strings:\n",
    "  - a label\n",
    "  - an instruction, possibly with operands\n",
    "  - a target (for branch and jump instructions)"
   ]
  },
  {
   "cell_type": "markdown",
   "metadata": {},
   "source": [
    "Procedure `genProgStart()` initializes these variables. Registers `$t0` to `$t9` are used as general-purpose registers."
   ]
  },
  {
   "cell_type": "code",
   "execution_count": null,
   "metadata": {},
   "outputs": [],
   "source": [
    "GPregs = {'$t0', '$t1', '$t2', '$t3', '$t4', '$t5', '$t6', '$t7', '$t8'}\n",
    "\n",
    "def genProgStart():\n",
    "    global asm, curlev, label, regs, reguse\n",
    "    asm, curlev, label = [], 0, 0\n",
    "    regs = set(GPregs) # make copy\n",
    "    reguse = {}\n",
    "    putInstr('.data')"
   ]
  },
  {
   "cell_type": "markdown",
   "metadata": {},
   "source": [
    "Reserved registers are `$0` for the constant `0`, `$fp` for the frame pointer, `$sp` for the stack pointer, and `$ra` for the return address (dynamic link)."
   ]
  },
  {
   "cell_type": "code",
   "execution_count": null,
   "metadata": {},
   "outputs": [],
   "source": [
    "R0 = '$0'; FP = '$fp'; SP = '$sp'; LNK = '$ra'\n",
    "A0 = '$a0'; A1 = '$a1'; A2 = '$a2'; A3 = '$a3'\n",
    "\n",
    "def obtainReg():\n",
    "    if len(regs) == 0: mark('MIPS: out of registers')\n",
    "    else: return regs.pop()\n",
    "\n",
    "def releaseReg(r):\n",
    "    if r in GPregs: regs.add(r)"
   ]
  },
  {
   "cell_type": "code",
   "execution_count": null,
   "metadata": {},
   "outputs": [],
   "source": [
    "def putLab(lab, instr = ''):\n",
    "    \"\"\"Emit label lab with optional instruction; lab may be a single\n",
    "    label or a non-empty list of labels\"\"\"\n",
    "    if type(lab) == list:\n",
    "        for l in lab[:-1]: asm.append((l, '', ''))\n",
    "        asm.append((lab[-1], instr, ''))\n",
    "    else: asm.append((lab, instr, ''))\n",
    "\n",
    "def putInstr(instr, target = ''):\n",
    "    \"\"\"Emit an instruction\"\"\"\n",
    "    asm.append(('', instr, target))\n",
    "\n",
    "def putOp(op, a, b, c):\n",
    "    \"\"\"Emit instruction op with three operands, a, b, c; c can be register or immediate\"\"\"\n",
    "    putInstr(op + ' ' + a + ', ' + b + ', ' + str(c))\n",
    "\n",
    "def putBranchOp(op, a, b, lab):\n",
    "#    \"\"\"Emit branch to lab, a list of labels of the same location; if lab is empty, generate a label\"\"\"\n",
    "    if len(lab) == 0: lab.append(newLabel())\n",
    "    putInstr(op + ' ' + a + ', ' + b, lab[0])\n",
    "\n",
    "def putMemOp(op, a, b, c):\n",
    "    \"\"\"Emit load/store instruction at location or register b + offset c\"\"\"\n",
    "    if b == R0: putInstr(op + ' ' + a + ', ' + str(c))\n",
    "    else: putInstr(op + ' ' + a + ', ' + str(c) + '(' + b + ')')"
   ]
  },
  {
   "cell_type": "markdown",
   "metadata": {},
   "source": [
    "Following procedures \"generate code\" for all P0 types by determining the size of objects and store in the `size` field.\n",
    "- Integers and booleans occupy 4 bytes\n",
    "- The size of a record is the sum of the sizes of its field; the offset of a field is the sum of the size of the preceding fields\n",
    "- The size of an array is its length times the size of the base type."
   ]
  },
  {
   "cell_type": "code",
   "execution_count": null,
   "metadata": {},
   "outputs": [],
   "source": [
    "def genBool(b):\n",
    "    # b is Bool\n",
    "    b.size = 4; return b\n",
    "\n",
    "def genInt(i):\n",
    "    # i is Int\n",
    "    i.size = 4; return i\n",
    "\n",
    "def genRec(r):\n",
    "    # r is Record\n",
    "    s = 0\n",
    "    for f in r.fields:\n",
    "        f.offset, s = s, s + f.tp.size\n",
    "    r.size = s\n",
    "    return r\n",
    "\n",
    "def genArray(a):\n",
    "    # a is Array\n",
    "    a.size = a.length * a.base.size\n",
    "    return a"
   ]
  },
  {
   "cell_type": "markdown",
   "metadata": {},
   "source": [
    "For each global variable, `genGlobalVars(sc, start)` generates the assembler _directive_ `.space`, consisting of the identifier as the label and the size of the variable as the operand. The parameter `sc` contains the top scope with all declarations parsed so far; only variable declarations from index `start` on in the top scope are considered. As MIPS instructions are not allowed to be identifiers, all variables get `_` as suffix to avoid a name clash."
   ]
  },
  {
   "cell_type": "code",
   "execution_count": null,
   "metadata": {},
   "outputs": [],
   "source": [
    "def genGlobalVars(sc, start):\n",
    "    for i in range(len(sc) - 1, start - 1, - 1):\n",
    "        if type(sc[i]) == Var:\n",
    "            sc[i].reg, sc[i].adr = R0, sc[i].name + '_'\n",
    "            putLab(sc[i].adr, '.space ' + str(sc[i].tp.size))\n",
    "    putInstr('.text')"
   ]
  },
  {
   "cell_type": "markdown",
   "metadata": {},
   "source": [
    "Procedure `genProgEntry(ident)` takes the program's name as a parameter. Directives for marking the beginning of the main program are generated; the program's name is it not used. "
   ]
  },
  {
   "cell_type": "code",
   "execution_count": null,
   "metadata": {},
   "outputs": [],
   "source": [
    "def genProgEntry(ident):\n",
    "    putInstr('.globl main')\n",
    "    putLab('main')"
   ]
  },
  {
   "cell_type": "markdown",
   "metadata": {},
   "source": [
    "Procedure `genProgExit(x)` takes parameter `x` with the result of previous `gen-` calls, generates code for exiting the program, directives for marking the end of the main program, and returns the complete assembly code."
   ]
  },
  {
   "cell_type": "code",
   "execution_count": null,
   "metadata": {},
   "outputs": [],
   "source": [
    "def assembly(l, i, t):\n",
    "    \"\"\"Convert label l, instruction i, target t to assembly format\"\"\"\n",
    "    return (l + ':\\t' if l else '\\t') + i + (', ' + t if t else '')\n",
    "\n",
    "def genProgExit(x):\n",
    "    putInstr('li $v0, 10')\n",
    "    putInstr('syscall')\n",
    "    putInstr('.end main')\n",
    "    return '\\n'.join(assembly(l, i, t) for (l, i, t) in asm)"
   ]
  },
  {
   "cell_type": "markdown",
   "metadata": {},
   "source": [
    "Procedure `newLabel()` generates a new unique label on each call."
   ]
  },
  {
   "cell_type": "code",
   "execution_count": null,
   "metadata": {},
   "outputs": [],
   "source": [
    "def newLabel():\n",
    "    global label\n",
    "    label += 1\n",
    "    return 'L' + str(label)"
   ]
  },
  {
   "cell_type": "markdown",
   "metadata": {},
   "source": [
    "The code generator _delays the generation of code_ until it is clear that no better code can be generated. For this, the not-yet-generated result of an expressions and the location of a variable is stored in _items_. In addition to the symbol table types `Var`, `Ref`, `Const`, the generator uses two more item types:\n",
    "- `Reg(tp, reg)` for integers or boolean values stored in a register; the register can be `$0` for constants `0` and `false`.\n",
    "- `Cond(cond, left, right)` for short-circuited Boolean expressions with two branch targets. The relation `cond` must be one of `'EQ'`, `'NE'`, `'LT'`, `'GT'`, `'LE'`, `'GE'`. The operands `left`, `right` are either registers or constants, but one has to be a register. The result of the comparison is represented by two branch targets, stored as fields, where the evaluation continues if the result of the comparison is true or false. The branch targets are lists of unique labels, with targets in each list denoting the same location. If `right` is `$0`, then `'EQ'` and `'NE'` for `cond` can be used for branching depending on whether `left` is `true` or `false`."
   ]
  },
  {
   "cell_type": "code",
   "execution_count": null,
   "metadata": {},
   "outputs": [],
   "source": [
    "class Reg:\n",
    "    def __init__(self, tp, reg):\n",
    "        # tp is Bool or Int\n",
    "        self.tp, self.reg = tp, reg\n",
    "\n",
    "class Cond:\n",
    "    # labA, labB are lists of branch targets for when the result is true or false\n",
    "    def __init__(self, cond, left, right):\n",
    "        self.tp, self.cond, self.left, self.right = Bool, cond, left, right\n",
    "        self.labA, self.labB = [], []"
   ]
  },
  {
   "cell_type": "markdown",
   "metadata": {},
   "source": [
    "Procedure `loadItemReg(x, r)` generates code for loading item `x` to register `r`, assuming `x` is `Var`, `Const`, or `Reg`. If a constant is too large to fit in 16 bits immediate addressing, an error message is generated."
   ]
  },
  {
   "cell_type": "code",
   "execution_count": null,
   "metadata": {},
   "outputs": [],
   "source": [
    "def testRange(x):\n",
    "    if x.val >= 0x8000 or x.val < -0x8000: mark('MIPS: value too large')\n",
    "\n",
    "def loadItemReg(x, r):\n",
    "    if type(x) == Var: \n",
    "        putMemOp('lw', r, x.reg, x.adr)# ; releaseReg(x.reg)\n",
    "    elif type(x) == Const:\n",
    "        testRange(x); putOp('addi', r, R0, x.val)\n",
    "    elif type(x) == Reg: # move to register r\n",
    "        putOp('add', r, x.reg, R0)\n",
    "    else: assert False"
   ]
  },
  {
   "cell_type": "markdown",
   "metadata": {},
   "source": [
    "Procedure `loadItem(x)` generates code for loading item `x`, which has to be `Var` or `Const`, into a new register and returns a `Reg` item; if `x` is `Const` and has value `0`, no code is generated and register `R0` is used instead. For procedure `loadBool(x)`, the type of item `x` has to be `Bool`; if `x` is not a constant, it is loaded into a register and a new `Cond` item is returned."
   ]
  },
  {
   "cell_type": "code",
   "execution_count": null,
   "metadata": {},
   "outputs": [],
   "source": [
    "def loadItem(x):\n",
    "    if type(x) == Const and x.val == 0: r = R0 # use R0 for \"0\"\n",
    "    elif x in reguse: r = reguse[x]\n",
    "    else: r = obtainReg(); loadItemReg(x, r); reguse[x] = r\n",
    "    return Reg(x.tp, r)\n",
    "\n",
    "# def loadItem(x):\n",
    "#     if type(x) == Const and x.val == 0: r = R0 # use R0 for \"0\"\n",
    "#     else: r = obtainReg(); loadItemReg(x, r)\n",
    "#     return Reg(x.tp, r)\n",
    "\n",
    "def loadBool(x):\n",
    "    if type(x) == Const and x.val == 0: r = R0 # use R0 for \"false\"\n",
    "    else: r = obtainReg(); loadItemReg(x, r)\n",
    "    return Cond(NE, r, R0)"
   ]
  },
  {
   "cell_type": "markdown",
   "metadata": {},
   "source": [
    "Procedure `put(cd, x, y)` generates code for `x op y`, where `op` is an operation with mnemonic `cd`. Items `x`, `y` have to be `Var`, `Const`, `Reg`. An updated item `x` is returned."
   ]
  },
  {
   "cell_type": "code",
   "execution_count": null,
   "metadata": {},
   "outputs": [],
   "source": [
    "def put(cd, x, y):\n",
    "    if type(x) != Reg: x = loadItem(x) # first operand needs to be in register\n",
    "    if type(y) == Const: # x is Reg, y is Const\n",
    "        if (cd, x.reg, y.val) in reguse: x.reg = reguse[(cd, x.reg, y.val)]\n",
    "        else:\n",
    "            x.reg, r = obtainReg(), x.reg # r is source, x.reg is destination\n",
    "            testRange(y); putOp(cd, x.reg, r, y.val)\n",
    "            reguse[(cd, r, y.val)] = x.reg\n",
    "    else:\n",
    "        if type(y) != Reg: y = loadItem(y) # x is Reg, y is Reg\n",
    "        if (cd, x.reg, y.reg) in reguse: x.reg = reguse[(cd, x.reg, y.reg)]\n",
    "        else:\n",
    "            x.reg, r = obtainReg(), x.reg # r is source, x.reg is destination\n",
    "            putOp(cd, x.reg, r, y.reg)#; releaseReg(y.reg)\n",
    "            reguse[(cd, r, y.reg)] = x.reg\n",
    "    return x\n",
    "\n",
    "# def put(cd, x, y):\n",
    "#     if type(x) != Reg: x = loadItem(x) # check if already in some register\n",
    "#     if x.reg in (R0, A0, A1, A2, A3): # find new destination register\n",
    "#         r = x.reg; x.reg = obtainReg()\n",
    "#     else: r = x.reg # r is source, x.reg is destination\n",
    "#     if type(y) == Const:\n",
    "#         testRange(y); putOp(cd, x.reg, r, y.val)   ### was putOp(cd, r, x.reg, y.val)\n",
    "#     else:\n",
    "#         if type(y) != Reg: y = loadItem(y)\n",
    "#         putOp(cd, x.reg, r, y.reg); releaseReg(y.reg)\n",
    "#     return x"
   ]
  },
  {
   "cell_type": "markdown",
   "metadata": {},
   "source": [
    "Procedures `genVar`, `genConst`, `genUnaryOp`, `genBinaryOp`, `genRelation`, `genSelect`, and `genIndex` generate code for expressions (e.g. right hand side of assignments) and for  locations (e.g. left hand side of assignments).\n",
    "\n",
    "Procedure `genVar(x)` allows `x` to refer to a global variable, local variable, or procedure parameter: the assumption is that `x.reg` (which can be `R0`) and `x.adr` (which can be 0) refer to the variable. References to variables on intermediate level is not supported. For global variables, the reference is kept symbolic, to be resolved later by the assembler. Item `x` is `Var` or `Ref`; if it is `Ref`, the reference is loaded into a new register. A new `Var` item with the location is returned."
   ]
  },
  {
   "cell_type": "code",
   "execution_count": null,
   "metadata": {},
   "outputs": [],
   "source": [
    "def genVar(x): # version not supporting parameters in registers\n",
    "    if 0 < x.lev < curlev: mark('MIPS: level!')\n",
    "    y = Var(x.tp); y.lev = x.lev\n",
    "    if type(x) == Ref: # reference is loaded into register\n",
    "        y.reg, y.adr = obtainReg(), 0 # variable at M[y.reg]\n",
    "        putMemOp('lw', y.reg, x.reg, x.adr)\n",
    "    elif type(x) == Var:\n",
    "        y.reg, y.adr = x.reg, x.adr \n",
    "    else: assert False\n",
    "    return y\n",
    "\n",
    "\"\"\"\n",
    "def genVar(x): # version supporting parameters in registers\n",
    "    if 0 < x.lev < curlev: mark('MIPS: level!')\n",
    "    if type(x) == Ref:\n",
    "        y = Var(x.tp); y.lev = x.lev\n",
    "        if x.reg in (A0, A1, A2, A3): # reference already in register, use it\n",
    "            y.reg, y.adr = x.reg, 0 # variable at M[y.reg]\n",
    "        else: # reference is loaded into register\n",
    "            y.reg, y.adr = obtainReg(), 0 # variable at M[y.reg]\n",
    "            putMemOp('lw', y.reg, x.reg, x.adr)\n",
    "    elif type(x) == Var:\n",
    "        if x.reg in (A0, A1, A2, A3): # value already in register, use it\n",
    "            y = Reg(x.tp, x.reg) #; y.lev, x.adr = x.lev, x.adr\n",
    "        else:\n",
    "            y = Var(x.tp); y.lev, y.reg, y.adr = x.lev, x.reg, x.adr\n",
    "    else: assert False\n",
    "    return y\n",
    "\"\"\""
   ]
  },
  {
   "cell_type": "markdown",
   "metadata": {},
   "source": [
    "Procedure `genConst(x)` does not need to generate any code."
   ]
  },
  {
   "cell_type": "code",
   "execution_count": null,
   "metadata": {},
   "outputs": [],
   "source": [
    "def genConst(x):\n",
    "    # x is Const\n",
    "    return x"
   ]
  },
  {
   "cell_type": "markdown",
   "metadata": {},
   "source": [
    "Procedure `genUnaryOp(op, x)` generates code for `op x` if `op` is `MINUS`, `NOT` and `x` is `Int`, `Bool`; if `op` is `AND`, `OR`, item `x` is the first operand. If it is not already a `Cond` item, it is made so which is loaded into a register. A branch instruction is generated for `OR` and a branch instruction with a negated condition for `AND`."
   ]
  },
  {
   "cell_type": "code",
   "execution_count": null,
   "metadata": {},
   "outputs": [],
   "source": [
    "def negate(cd):\n",
    "    return {EQ: NE, NE: EQ, LT: GE, LE: GT, GT: LE, GE: LT}[cd]\n",
    "\n",
    "def condOp(cd):\n",
    "    return {EQ: 'beq', NE: 'bne', LT: 'blt', LE: 'ble', GT: 'bgt', GE: 'bge'}[cd]\n",
    "\n",
    "def genUnaryOp(op, x):\n",
    "    if op == MINUS: # subtract from 0\n",
    "        if type(x) == Var: x = loadItem(x)\n",
    "        putOp('sub', x.reg, R0, x.reg)\n",
    "    elif op == NOT: # switch condition and branch targets, no code\n",
    "        if type(x) != Cond: x = loadBool(x)\n",
    "        x.cond = negate(x.cond); x.labA, x.labB = x.labB, x.labA\n",
    "    elif op == AND: # load first operand into register and branch\n",
    "        if type(x) != Cond: x = loadBool(x)\n",
    "        putBranchOp(condOp(negate(x.cond)), x.left, x.right, x.labA)\n",
    "        releaseReg(x.left); releaseReg(x.right)\n",
    "        if len(x.labB) > 0: putLab(x.labB)\n",
    "    elif op == OR: # load first operand into register and branch\n",
    "        if type(x) != Cond: x = loadBool(x)\n",
    "        putBranchOp(condOp(x.cond), x.left, x.right, x.labB)\n",
    "        releaseReg(x.left); releaseReg(x.right)\n",
    "        if len(x.labA) > 0: putLab(x.labA)\n",
    "    else: assert False\n",
    "    return x"
   ]
  },
  {
   "cell_type": "markdown",
   "metadata": {},
   "source": [
    "Procedure `genBinaryOp(op, x, y)` generates code for `x op y` if `op` is `PLUS`, `MINUS`, `TIMES`, `DIV`, `MOD`. If `op` is `AND`, `OR`, operand `y` is made a `Cond` item it if is not so already and the branch targets are merged. "
   ]
  },
  {
   "cell_type": "code",
   "execution_count": null,
   "metadata": {},
   "outputs": [],
   "source": [
    "def genBinaryOp(op, x, y):\n",
    "    if op == PLUS: y = put('add', x, y)\n",
    "    elif op == MINUS: y = put('sub', x, y)\n",
    "    elif op == TIMES: y = put('mul', x, y)\n",
    "    elif op == DIV: y = put('div', x, y)\n",
    "    elif op == MOD: y = put('mod', x, y)\n",
    "    elif op == AND: # load second operand into register \n",
    "        if type(y) != Cond: y = loadBool(y)\n",
    "        y.labA += x.labA # update branch targets\n",
    "    elif op == OR: # load second operand into register\n",
    "        if type(y) != Cond: y = loadBool(y)\n",
    "        y.labB += x.labB # update branch targets\n",
    "    else: assert False\n",
    "    return y"
   ]
  },
  {
   "cell_type": "markdown",
   "metadata": {},
   "source": [
    "Procedure `genRelation(op, x, y)` generates code for `x op y` if `op` is `EQ`, `NE`, `LT`, `LE`, `GT`, `GE`. Items `x` and `y` cannot be both constants. A new `Cond` item is returned."
   ]
  },
  {
   "cell_type": "code",
   "execution_count": null,
   "metadata": {},
   "outputs": [],
   "source": [
    "def genRelation(op, x, y):\n",
    "    if type(x) != Reg: x = loadItem(x)\n",
    "    if type(y) != Reg: y = loadItem(y)\n",
    "    return Cond(op, x.reg, y.reg)"
   ]
  },
  {
   "cell_type": "markdown",
   "metadata": {},
   "source": [
    "Procedure `genSelect(x, f)` \"generates code\" for `x.f`, provided `f` is in `x.fields`. Only `x.adr` is updated, no code is generated. An updated item is returned."
   ]
  },
  {
   "cell_type": "code",
   "execution_count": null,
   "metadata": {},
   "outputs": [],
   "source": [
    "def genSelect(x, f):\n",
    "    x.tp, x.adr = f.tp, x.adr + f.offset if type(x.adr) == int else \\\n",
    "                        x.adr + '+' + str(f.offset)\n",
    "    return x"
   ]
  },
  {
   "cell_type": "markdown",
   "metadata": {},
   "source": [
    "Procedure `genIndex(x, y)` generates code for `x[y]`, assuming `x` is `Var` or `Ref`, `x.tp` is `Array`, and `y.tp` is `Int`. If `y` is `Const`, only `x.adr` is updated and no code is generated, otherwise code for array index calculation is generated."
   ]
  },
  {
   "cell_type": "code",
   "execution_count": null,
   "metadata": {},
   "outputs": [],
   "source": [
    "def genIndex(x, y):\n",
    "    if type(y) == Const:\n",
    "        offset = (y.val - x.tp.lower) * x.tp.base.size\n",
    "        x.adr = x.adr + (offset if type(x.adr) == int else '+' + str(offset))\n",
    "    else:\n",
    "        if type(y) != Reg: y = loadItem(y)\n",
    "        putOp('sub', y.reg, y.reg, x.tp.lower)\n",
    "        putOp('mul', y.reg, y.reg, x.tp.base.size)\n",
    "        if x.reg != R0:\n",
    "            putOp('add', y.reg, x.reg, y.reg); releaseReg(x.reg)\n",
    "        x.reg = y.reg\n",
    "    x.tp = x.tp.base\n",
    "    return x"
   ]
  },
  {
   "cell_type": "markdown",
   "metadata": {},
   "source": [
    "Procedure `genAssign(x, y)` generates code for `x := y`, provided `x` is `Var`. Item `x` is loaded into a register if it is not already there; if `y` is `Cond`, then either `0` or `1` is loaded into a register."
   ]
  },
  {
   "cell_type": "code",
   "execution_count": null,
   "metadata": {},
   "outputs": [],
   "source": [
    "def genAssign(x, y):\n",
    "    if type(x) == Var:\n",
    "        if type(y) == Cond:\n",
    "            putBranchOp(condOp(negate(y.cond)), y.left, y.right, y.labA)\n",
    "            releaseReg(y.left); releaseReg(y.right); r = obtainReg()\n",
    "            putLab(y.labB); putOp('addi', r, R0, 1) # load true\n",
    "            lab = newLabel()\n",
    "            putInstr('b', lab)\n",
    "            putLab(y.labA); putOp('addi', r, R0, 0) # load false \n",
    "            putLab(lab)\n",
    "            releaseReg(r) # r still being used below\n",
    "        elif type(y) != Reg: y = loadItem(y); r = y.reg\n",
    "        else: r = y.reg\n",
    "        putMemOp('sw', r, x.reg, x.adr)\n",
    "        for i in reguse: # register holding x.adr previously is now invalid\n",
    "            if type(i) == Var and i.adr == x.adr: del reguse[i]; break\n",
    "    # solution\n",
    "    elif type(x) == Reg:\n",
    "        if type(y) == Cond:\n",
    "            putBranchOp(condOp(negate(y.cond)), y.left, y.right, y.labA)\n",
    "            releaseReg(y.left); releaseReg(y.right)\n",
    "            putLab(y.labB); putOp('addi', x.reg, R0, 1) # load true\n",
    "            lab = newLabel()\n",
    "            putInstr('b', lab)\n",
    "            putLab(y.labA); putOp('addi', x.reg, R0, 0) # load false \n",
    "            putLab(lab)\n",
    "        elif type(y) != Reg: loadItemReg(y, x.reg)\n",
    "        else: # type(y) == Reg\n",
    "            putOp('addi', x.reg, y.reg, 0)\n",
    "    # end solution\n",
    "    else: assert False"
   ]
  },
  {
   "cell_type": "markdown",
   "metadata": {
    "collapsed": true
   },
   "source": [
    "The procedure calling convention is as follows:\n",
    "- last parameter at `0($fp)`, 2nd last at `4($fp)`, ...\n",
    "- previous frame pointer at `-4($fp)`\n",
    "- return address at `-8($fp)`\n",
    "- 1st local at `-12($fp)`, ...\n",
    "\n",
    "The Stack pointer `$sp` points to last used location on the stack.\n",
    "\n",
    "On procedure entry:\n",
    "- caller pushes 1st parameter at `-4($sp)`, 2nd at `-8($sp)`, ...\n",
    "- caller calls callee\n",
    "- callee saves `$fp` at `$sp - parameter size - 4`\n",
    "- callee saves `$ra` at `$sp - parameter size - 8`\n",
    "- callee sets `$fp` to `$sp - parameter size`\n",
    "- callee sets `$sp` to `$fp - local var size - 8`\n",
    "\n",
    "On procedure exit:\n",
    "- callee sets `$sp` to `$fp + parameter size`\n",
    "- callee loads `$ra` from `$fp - 8`\n",
    "- callee loads `$fp` from `$fp - 4`\n",
    "- callee returns\n",
    "\n",
    "For each local variable, `genLocalVars(sc, start)` updates the entry of the variable with the FP-relative address and returns their total size. The parameter `sc` contains the top scope with all local declarations parsed so far; only variable declarations from index `start` on in the top scope are considered."
   ]
  },
  {
   "cell_type": "code",
   "execution_count": null,
   "metadata": {},
   "outputs": [],
   "source": [
    "def genLocalVars(sc, start):\n",
    "    s = 0 # local block size\n",
    "    for i in range(start, len(sc)):\n",
    "        if type(sc[i]) == Var:\n",
    "            s = s + sc[i].tp.size\n",
    "            sc[i].reg, sc[i].adr = FP, - s - 8\n",
    "    return s"
   ]
  },
  {
   "cell_type": "markdown",
   "metadata": {},
   "source": [
    "Procedure `genProcStart(ident, fp)` sets the register for the first four parameters and determines the FP-relative address of the remaining parameters in the list `fp` of procedure parameters. Each parameter must be of type `Int` or `Bool` or must be a reference parameter. Returns the size of the parameters on the stack."
   ]
  },
  {
   "cell_type": "code",
   "execution_count": null,
   "metadata": {},
   "outputs": [],
   "source": [
    "def genProcStart(ident, fp, rp):\n",
    "    global curlev\n",
    "    curlev = curlev + 1\n",
    "    if len(rp) > 0: mark('MIPS: no result parameters')\n",
    "    n = len(fp) # parameter block length\n",
    "    for i in range(n):\n",
    "        if fp[i].tp in (Int, Bool) or type(fp[i]) == Ref:\n",
    "            fp[i].reg, fp[i].adr = FP, (n - i - 1) * 4\n",
    "        else: mark('MIPS: no structured value parameters')\n",
    "    return n * 4\n",
    "\"\"\"\n",
    "    # In this version, the first 4 parameters are assumed to be in registers;\n",
    "    # The parameters are not saved locally, which implies that before a call in the\n",
    "    # prodedure body, these would have to be saved.\n",
    "    n = len(fp) # parameter block length\n",
    "    for i in range(n):\n",
    "        if fp[i].tp in (Int, Bool) or type(fp[i]) == Ref:\n",
    "            fp[i].reg, fp[i].adr = ('$a' + str(i), 0) if i < 4 else (FP, (n - i - 1) * 4)\n",
    "        else: mark('MIPS: no structured value parameters')\n",
    "    return max((n - 4) * 4, 0)\n",
    "\"\"\""
   ]
  },
  {
   "cell_type": "markdown",
   "metadata": {},
   "source": [
    "Procedures `genProcEntry(ident, parsize, localsize)` and `genProcExit(x, parsize, localsize)` generate the procedure prologue and epilogue."
   ]
  },
  {
   "cell_type": "code",
   "execution_count": null,
   "metadata": {},
   "outputs": [],
   "source": [
    "def genProcEntry(ident, parsize, localsize):\n",
    "    putInstr('.globl ' + ident)            # global declaration directive\n",
    "    putLab(ident)                          # procedure entry label\n",
    "    putMemOp('sw', FP, SP, - parsize - 4)  # push frame pointer\n",
    "    putMemOp('sw', LNK, SP, - parsize - 8) # push return address\n",
    "    putOp('sub', FP, SP, parsize)          # set frame pointer\n",
    "    putOp('sub', SP, FP, localsize + 8)    # set stack pointer\n",
    "\n",
    "def genProcExit(x, parsize, localsize):\n",
    "    global curlev, regs, reguse\n",
    "    curlev = curlev - 1\n",
    "    putOp('add', SP, FP, parsize) # restore stack pointer\n",
    "    putMemOp('lw', LNK, FP, - 8)  # pop return address\n",
    "    putMemOp('lw', FP, FP, - 4)   # pop frame pointer\n",
    "    putInstr('jr $ra')            # return\n",
    "    regs, reguse = set(GPregs), {}"
   ]
  },
  {
   "cell_type": "markdown",
   "metadata": {},
   "source": [
    "Procedure `genActualPara(ap, fp, n)` assume that `ap` is an item with the actual parameter, `fp` is the entry for the formal parameter, and `n` is the parameter number. The parameters are pushed SP-relative on the stack. The formal parameter is either `Var` or `Ref`."
   ]
  },
  {
   "cell_type": "code",
   "execution_count": null,
   "metadata": {},
   "outputs": [],
   "source": [
    "def genActualPara(ap, fp, n):\n",
    "    if type(fp) == Ref:  #  reference parameter, assume ap is Var\n",
    "        if ap.adr != 0:  #  load address in register\n",
    "            r = obtainReg(); putMemOp('la', r, ap.reg, ap.adr)\n",
    "        else: r = ap.reg  #  address already in register\n",
    "        putMemOp('sw', r, SP, - 4 * (n + 1)) # ; releaseReg(r)\n",
    "    else:  #  value parameter\n",
    "        if type(ap) != Cond:\n",
    "            if type(ap) != Reg: ap = loadItem(ap)\n",
    "            putMemOp('sw', ap.reg, SP, - 4 * (n + 1)) # ; releaseReg(ap.reg)\n",
    "        else: mark('MIPS: unsupported parameter type')\n",
    "\n",
    "\"\"\" \n",
    "def genActualPara(ap, fp, n):\n",
    "    # In this version, the first 4 parameters are passed in registers $a0 .. $a3\n",
    "    # However, if these registers were in use from a previous call, they are not first\n",
    "    # saved (on the stack) so this only works if a procedure that is called from the\n",
    "    # main program does not make any further calls.\n",
    "    if type(fp) == Ref:  #  reference parameter, assume ap is Var\n",
    "        if ap.adr == 0:  #  address already in register\n",
    "            if n < 4:    #  move actual parameter to register $an\n",
    "                putOp('add', '$a' + str(n), ap.reg, R0)\n",
    "            else:        #  push actual parameter on stack\n",
    "                putMemOp('sw', ap.reg, SP, - 4 * (n + 1 - 4))\n",
    "            releaseReg(ap.reg)\n",
    "        else: #  load address in register\n",
    "            if n < 4:    #  load address of actual parameter in register $an\n",
    "                putMemOp('la', '$a' + str(n), ap.reg, ap.adr)\n",
    "            else:        #  push actual parameter on stack\n",
    "                r = obtainReg(); putMemOp('la', r, ap.reg, ap.adr)\n",
    "                putMemOp('sw', r, SP, - 4 * (n + 1 - 4)); releaseReg(r)\n",
    "    else:  #  value parameter\n",
    "        if type(ap) != Cond:\n",
    "            if n < 4:    #  move actual parameter to register $an\n",
    "                loadItemReg(ap, '$a' + str(n))\n",
    "            else:        #  push actual parameter on stack\n",
    "                if type(ap) != Reg: ap = loadItem(ap)\n",
    "                putMemOp('sw', ap.reg, SP, - 4 * (n + 1 - 4)); releaseReg(ap.reg)\n",
    "        else: mark('MIPS: unsupported parameter type')\n",
    "\"\"\""
   ]
  },
  {
   "cell_type": "markdown",
   "metadata": {},
   "source": [
    "Procedure `genCall(r, pr, ap)` assumes `r` is the result parameter, `pr` is `Proc` and `ap` is a list of actual parameters."
   ]
  },
  {
   "cell_type": "code",
   "execution_count": null,
   "metadata": {},
   "outputs": [],
   "source": [
    "def genCall(r, pr, ap):\n",
    "    global reguse\n",
    "    if r: mark('MIPS: no result parameters')\n",
    "    putInstr('jal', pr.name)\n",
    "    reguse = {}"
   ]
  },
  {
   "cell_type": "markdown",
   "metadata": {},
   "source": [
    "Procedures `genRead(x)`, `genWrite(x)`, `genWriteln()` generate code for SPIM-defined \"syscalls\"; `genRead(x)` and assumes that `x` is `Var` and `genWrite(x)` assumes that `x` is `Ref`, `Var`, `Reg`.  "
   ]
  },
  {
   "cell_type": "code",
   "execution_count": null,
   "metadata": {},
   "outputs": [],
   "source": [
    "def genRead(x):\n",
    "    global reguse\n",
    "    putInstr('li $v0, 5'); putInstr('syscall')\n",
    "    putMemOp('sw', '$v0', x.reg, x.adr)\n",
    "    reguse = {}\n",
    "\n",
    "def genWrite(x):\n",
    "    global reguse\n",
    "    loadItemReg(x, '$a0'); putInstr('li $v0, 1'); putInstr('syscall')\n",
    "    reguse = {}\n",
    "\n",
    "def genWriteln():\n",
    "    global reguse\n",
    "    putInstr('li $v0, 11'); putInstr(\"li $a0, '\\\\n'\"); putInstr('syscall')\n",
    "    reguse = {}"
   ]
  },
  {
   "cell_type": "markdown",
   "metadata": {},
   "source": [
    "For control structures:\n",
    "- `genSeq(x, y)` generates `x ; y`, assuming `x`, `y` are statements\n",
    "- `genThen(x)` generates code for branching on `x`, assuming that `x` is of type `Bool`\n",
    "- `genIfThen(x, y)` generates code for `y` in `if x then y`\n",
    "- `genElse(x, y)` generates code for `y` in `if x then y else z`\n",
    "- `genIfElse(x, y, z)` generates code for `z` in `if x then y else z`\n",
    "- `genWhile()` generates and returns a target for backward branches\n",
    "- `genDo(x)` generates code for branching on `x`, assuming that `x` is of type `Bool`\n",
    "- `genWhile(lab, x, y)` generates code for `y` in `while x do y`, assuming that target `lab` was generated before `x`."
   ]
  },
  {
   "cell_type": "code",
   "execution_count": null,
   "metadata": {},
   "outputs": [],
   "source": [
    "def genSeq(x, y):\n",
    "    pass\n",
    "\n",
    "def genThen(x):\n",
    "    global regs, reguse\n",
    "    if type(x) != Cond: x = loadBool(x)\n",
    "    putBranchOp(condOp(negate(x.cond)), x.left, x.right, x.labA)\n",
    "    releaseReg(x.left); releaseReg(x.right)\n",
    "    if len(x.labB) > 0: putLab(x.labB); regs, reguse = set(GPregs), {}\n",
    "    return x\n",
    "    \n",
    "def genIfThen(x, y):\n",
    "    global regs, reguse\n",
    "    putLab(x.labA)\n",
    "    regs, reguse = set(GPregs), {}\n",
    "\n",
    "def genElse(x, y):\n",
    "    global regs, reguse\n",
    "    lab = newLabel()\n",
    "    putInstr('b', lab)\n",
    "    putLab(x.labA)\n",
    "    regs, reguse = set(GPregs), {}\n",
    "    return lab\n",
    "\n",
    "def genIfElse(x, y, z):\n",
    "    global regs, reguse\n",
    "    putLab(y)\n",
    "    regs, reguse = set(GPregs), {}\n",
    "\n",
    "def genWhile():\n",
    "    global regs, reguse\n",
    "    lab = newLabel()\n",
    "    putLab(lab)\n",
    "    regs, reguse = set(GPregs), {}\n",
    "    return lab\n",
    "\n",
    "def genDo(x):\n",
    "    return genThen(x)\n",
    "\n",
    "def genWhileDo(lab, x, y):\n",
    "    global regs, reguse\n",
    "    putInstr('b', lab)\n",
    "    putLab(x.labA)\n",
    "    regs, reguse = set(GPregs), {}"
   ]
  }
 ],
 "metadata": {
  "kernelspec": {
   "display_name": "Python 3",
   "language": "python",
   "name": "python3"
  },
  "language_info": {
   "codemirror_mode": {
    "name": "ipython",
    "version": 3
   },
   "file_extension": ".py",
   "mimetype": "text/x-python",
   "name": "python",
   "nbconvert_exporter": "python",
   "pygments_lexer": "ipython3",
   "version": "3.6.9"
  },
  "toc": {
   "base_numbering": 1,
   "nav_menu": {},
   "number_sections": false,
   "sideBar": false,
   "skip_h1_title": true,
   "title_cell": "Table of Contents",
   "title_sidebar": "Contents",
   "toc_cell": false,
   "toc_position": {},
   "toc_section_display": true,
   "toc_window_display": false
  }
 },
 "nbformat": 4,
 "nbformat_minor": 2
}
