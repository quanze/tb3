{
 "cells": [
  {
   "cell_type": "code",
   "execution_count": 1,
   "metadata": {},
   "outputs": [
    {
     "name": "stdout",
     "output_type": "stream",
     "text": [
      "Importing Jupyter notebook from P0.ipynb\n",
      "Importing Jupyter notebook from SC.ipynb\n",
      "Importing Jupyter notebook from ST.ipynb\n"
     ]
    }
   ],
   "source": [
    "import nbimporter; nbimporter.options[\"only_defs\"] = False\n",
    "from P0 import compileString"
   ]
  },
  {
   "cell_type": "code",
   "execution_count": 11,
   "metadata": {},
   "outputs": [
    {
     "name": "stdout",
     "output_type": "stream",
     "text": [
      "(module\n",
      "(import \"P0lib\" \"write\" (func $write (param i32)))\n",
      "(import \"P0lib\" \"writeln\" (func $writeln))\n",
      "(import \"P0lib\" \"read\" (func $read (result i32)))\n",
      "(func $fact (param $n i32) (result i32)\n",
      "(local $f i32)\n",
      "local.get $n\n",
      "i32.const 0\n",
      "i32.eq\n",
      "if\n",
      "i32.const 1\n",
      "local.set $f\n",
      "i32.const 2\n",
      "local.get $f\n",
      "i32.mul\n",
      "local.set $d\n",
      "i32.const 2\n",
      "local.set $d\n",
      "else\n",
      "local.get $n\n",
      "i32.const 1\n",
      "i32.sub\n",
      "call $fact\n",
      "local.set $f\n",
      "local.get $f\n",
      "local.get $n\n",
      "i32.mul\n",
      "local.set $f\n",
      "end\n",
      "local.get $f)\n",
      "(func $program\n",
      "(local $y i32)\n",
      "(local $z i32)\n",
      "call $read\n",
      "local.set $y\n",
      "local.get $y\n",
      "call $fact\n",
      "local.set $z\n",
      "local.get $z\n",
      "call $write\n",
      ")\n",
      "(memory 1)\n",
      "(start $program)\n",
      ")\n"
     ]
    }
   ],
   "source": [
    "compileString(\"\"\"\n",
    "procedure fact(n: integer) → (f: integer)\n",
    "    if n = 0 then\n",
    "        f := 1;\n",
    "        malloc d: integer := 2 × f;\n",
    "        d := 2\n",
    "    else\n",
    "        f ← fact(n - 1);\n",
    "        f := f × n\n",
    "program factorial\n",
    "    var y, z: integer\n",
    "        y ← read(); z ← fact(y); write(z)\n",
    "\"\"\", target = 'wat')"
   ]
  },
  {
   "cell_type": "code",
   "execution_count": null,
   "metadata": {},
   "outputs": [],
   "source": []
  }
 ],
 "metadata": {
  "kernelspec": {
   "display_name": "Python 3",
   "language": "python",
   "name": "python3"
  },
  "language_info": {
   "codemirror_mode": {
    "name": "ipython",
    "version": 3
   },
   "file_extension": ".py",
   "mimetype": "text/x-python",
   "name": "python",
   "nbconvert_exporter": "python",
   "pygments_lexer": "ipython3",
   "version": "3.7.7"
  }
 },
 "nbformat": 4,
 "nbformat_minor": 4
}
