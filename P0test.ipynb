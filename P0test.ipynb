{
 "cells": [
  {
   "cell_type": "markdown",
   "metadata": {},
   "source": [
    "## P0 Test Suite\n",
    "#### Original Author: Emil Sekerinski, McMaster University, revised March 2020"
   ]
  },
  {
   "cell_type": "code",
   "execution_count": null,
   "metadata": {},
   "outputs": [],
   "source": [
    "import nbimporter; nbimporter.options[\"only_defs\"] = False\n",
    "from P0 import compileString\n",
    "from ST import printSymTab\n",
    "\n",
    "def runpywasm(wasmfile):\n",
    "    import pywasm\n",
    "    def write(i): print(i)\n",
    "    def writeln(): print('\\n')\n",
    "    def read(): return int(input())\n",
    "    vm = pywasm.load(wasmfile, {'P0lib': {'write': write, 'writeln': writeln, 'read': read}})"
   ]
  },
  {
   "cell_type": "markdown",
   "metadata": {},
   "source": [
    "### Scanner Tests"
   ]
  },
  {
   "cell_type": "code",
   "execution_count": null,
   "metadata": {},
   "outputs": [],
   "source": [
    "import SC\n",
    "def scanString(src):\n",
    "    SC.init(src); syms = []\n",
    "    while SC.sym != SC.EOF:\n",
    "        syms.append(('INDENT' if SC.sym == SC.INDENT else \\\n",
    "                     'DEDENT' if SC.sym == SC.DEDENT else \\\n",
    "                     'IDENT' if SC.sym == SC.IDENT else SC.sym, SC.newline))\n",
    "        SC.getSym()\n",
    "    return syms"
   ]
  },
  {
   "cell_type": "code",
   "execution_count": null,
   "metadata": {},
   "outputs": [],
   "source": [
    "scanString(\"\"\"\n",
    "\n",
    "program p\n",
    "\n",
    "  if a then\n",
    "    writeln()\n",
    "  else\n",
    "    writeln()\n",
    "  if a then writeln() else writeln()\n",
    "\"\"\")"
   ]
  },
  {
   "cell_type": "code",
   "execution_count": null,
   "metadata": {},
   "outputs": [],
   "source": [
    "scanString(\"\"\"\n",
    "type T = 1..10 → integer\n",
    "var a: T\n",
    "procedure r()\n",
    "    a[3] := 9\n",
    "program p\n",
    "  a[3] := 9\n",
    "\"\"\")"
   ]
  },
  {
   "cell_type": "code",
   "execution_count": null,
   "metadata": {},
   "outputs": [],
   "source": [
    "scanString(\"\"\"\n",
    "program\n",
    "y := 5\n",
    "if a then\n",
    "  if b then\n",
    "    a := b\n",
    "x := 3\n",
    "\"\"\")"
   ]
  },
  {
   "cell_type": "code",
   "execution_count": null,
   "metadata": {},
   "outputs": [],
   "source": [
    "scanString(\"\"\"\n",
    "program p\n",
    "  while 2 > 3 do\n",
    "    write(1)\n",
    "\"\"\")"
   ]
  },
  {
   "cell_type": "markdown",
   "metadata": {},
   "source": [
    "#### Error \"number too large\""
   ]
  },
  {
   "cell_type": "code",
   "execution_count": null,
   "metadata": {},
   "outputs": [],
   "source": [
    "compileString(\"\"\"\n",
    "const c = 12345678901234567890\n",
    "\"\"\")"
   ]
  },
  {
   "cell_type": "markdown",
   "metadata": {},
   "source": [
    "#### Error \"comment not terminated\""
   ]
  },
  {
   "cell_type": "code",
   "execution_count": null,
   "metadata": {},
   "outputs": [],
   "source": [
    "compileString(\"\"\"\n",
    "const c = 1234 {\n",
    "\"\"\")"
   ]
  },
  {
   "cell_type": "markdown",
   "metadata": {},
   "source": [
    "#### Error \"illegal character\""
   ]
  },
  {
   "cell_type": "code",
   "execution_count": null,
   "metadata": {},
   "outputs": [],
   "source": [
    "compileString(\"\"\"\n",
    "program p_\n",
    "  writeln()\n",
    "\"\"\")"
   ]
  },
  {
   "cell_type": "markdown",
   "metadata": {},
   "source": [
    "### Syntax Checks"
   ]
  },
  {
   "cell_type": "markdown",
   "metadata": {},
   "source": [
    "#### Error \"] expected\""
   ]
  },
  {
   "cell_type": "code",
   "execution_count": null,
   "metadata": {},
   "outputs": [],
   "source": [
    "compileString(\"\"\"\n",
    "var a: 1..10 → integer\n",
    "var x: integer\n",
    "program p\n",
    "    x := a[4\n",
    "\"\"\")"
   ]
  },
  {
   "cell_type": "markdown",
   "metadata": {},
   "source": [
    "#### Error \") expected\""
   ]
  },
  {
   "cell_type": "code",
   "execution_count": null,
   "metadata": {},
   "outputs": [],
   "source": [
    "compileString(\"\"\"\n",
    "program p\n",
    "  var x: integer\n",
    "    x := (5\n",
    "\"\"\")"
   ]
  },
  {
   "cell_type": "markdown",
   "metadata": {},
   "source": [
    "#### Error \"expression expected\""
   ]
  },
  {
   "cell_type": "code",
   "execution_count": null,
   "metadata": {},
   "outputs": [],
   "source": [
    "compileString(\"\"\"\n",
    "program p\n",
    "  var x: integer\n",
    "    x := +\n",
    "\"\"\")"
   ]
  },
  {
   "cell_type": "markdown",
   "metadata": {},
   "source": [
    "#### Error \"(indented) statement expected\""
   ]
  },
  {
   "cell_type": "code",
   "execution_count": null,
   "metadata": {},
   "outputs": [],
   "source": [
    "compileString(\"\"\"\n",
    "procedure p()\n",
    "  if 3 > 4 then\n",
    "writeln()\n",
    "\"\"\")"
   ]
  },
  {
   "cell_type": "markdown",
   "metadata": {},
   "source": [
    "#### Error \":= or ← expected\""
   ]
  },
  {
   "cell_type": "code",
   "execution_count": null,
   "metadata": {},
   "outputs": [],
   "source": [
    "compileString(\"\"\"\n",
    "var a: 5 .. 7 → integer\n",
    "program p\n",
    "  var b: boolean\n",
    "    a[5] +\n",
    "\"\"\")"
   ]
  },
  {
   "cell_type": "markdown",
   "metadata": {},
   "source": [
    "#### Error \"'(' expected\""
   ]
  },
  {
   "cell_type": "code",
   "execution_count": null,
   "metadata": {},
   "outputs": [],
   "source": [
    "compileString(\"\"\"\n",
    "program p\n",
    "  writeln\n",
    "\"\"\")"
   ]
  },
  {
   "cell_type": "markdown",
   "metadata": {},
   "source": [
    "#### Error \"')' expected\""
   ]
  },
  {
   "cell_type": "code",
   "execution_count": null,
   "metadata": {},
   "outputs": [],
   "source": [
    "compileString(\"\"\"\n",
    "program p\n",
    "  writeln(\n",
    "\"\"\")"
   ]
  },
  {
   "cell_type": "markdown",
   "metadata": {},
   "source": [
    "#### Error \"'then' expected\""
   ]
  },
  {
   "cell_type": "code",
   "execution_count": null,
   "metadata": {},
   "outputs": [],
   "source": [
    "compileString(\"\"\"\n",
    "program p\n",
    "  if true write(5)\n",
    "\"\"\")"
   ]
  },
  {
   "cell_type": "markdown",
   "metadata": {},
   "source": [
    "#### Error \"'do' expected\""
   ]
  },
  {
   "cell_type": "code",
   "execution_count": null,
   "metadata": {},
   "outputs": [],
   "source": [
    "compileString(\"\"\"\n",
    "program p\n",
    "  while true write(5)\n",
    "\"\"\")"
   ]
  },
  {
   "cell_type": "markdown",
   "metadata": {},
   "source": [
    "#### Error \"statement expected\""
   ]
  },
  {
   "cell_type": "code",
   "execution_count": null,
   "metadata": {},
   "outputs": [],
   "source": [
    "compileString(\"\"\"\n",
    "program p\n",
    "  write(3)\n",
    "  const c = 5\n",
    "\"\"\")"
   ]
  },
  {
   "cell_type": "markdown",
   "metadata": {},
   "source": [
    "#### Error \"'.' expected\""
   ]
  },
  {
   "cell_type": "code",
   "execution_count": null,
   "metadata": {},
   "outputs": [],
   "source": [
    "compileString(\"\"\"\n",
    "var a: 5 → integer\n",
    "program p\n",
    "  writeln()\n",
    "\"\"\")"
   ]
  },
  {
   "cell_type": "markdown",
   "metadata": {},
   "source": [
    "#### Error \"'→' expected\""
   ]
  },
  {
   "cell_type": "code",
   "execution_count": null,
   "metadata": {},
   "outputs": [],
   "source": [
    "compileString(\"\"\"\n",
    "var a: 3 .. 7 of integer\n",
    "program p\n",
    "  writeln()\n",
    "\"\"\")"
   ]
  },
  {
   "cell_type": "markdown",
   "metadata": {},
   "source": [
    "#### Error \"bad lower bound\""
   ]
  },
  {
   "cell_type": "code",
   "execution_count": null,
   "metadata": {},
   "outputs": [],
   "source": [
    "compileString(\"\"\"\n",
    "const l = -1\n",
    "const u = 5\n",
    "var a: l .. u → integer\n",
    "program p\n",
    "  writeln()\n",
    "\"\"\")"
   ]
  },
  {
   "cell_type": "markdown",
   "metadata": {},
   "source": [
    "#### Error \"bad upper bound\""
   ]
  },
  {
   "cell_type": "code",
   "execution_count": null,
   "metadata": {},
   "outputs": [],
   "source": [
    "compileString(\"\"\"\n",
    "const l = 7\n",
    "const u = 5\n",
    "var a: l .. u → integer\n",
    "program p\n",
    "  writeln()\n",
    "\"\"\")"
   ]
  },
  {
   "cell_type": "markdown",
   "metadata": {},
   "source": [
    "#### Error \"identifier expected\""
   ]
  },
  {
   "cell_type": "code",
   "execution_count": null,
   "metadata": {},
   "outputs": [],
   "source": [
    "compileString(\"\"\"\n",
    "program p\n",
    "  var if: integer\n",
    "\"\"\")"
   ]
  },
  {
   "cell_type": "markdown",
   "metadata": {},
   "source": [
    "#### Error \"':' expected\""
   ]
  },
  {
   "cell_type": "code",
   "execution_count": null,
   "metadata": {},
   "outputs": [],
   "source": [
    "compileString(\"\"\"\n",
    "program p\n",
    "  var x integer\n",
    "\"\"\")"
   ]
  },
  {
   "cell_type": "markdown",
   "metadata": {},
   "source": [
    "#### Error \"identifier expected\""
   ]
  },
  {
   "cell_type": "code",
   "execution_count": null,
   "metadata": {},
   "outputs": [],
   "source": [
    "compileString(\"\"\"\n",
    "program p\n",
    "  var i, j: integer, b, if: boolean\n",
    "\"\"\")"
   ]
  },
  {
   "cell_type": "markdown",
   "metadata": {},
   "source": [
    "#### Error \"constant name expected\""
   ]
  },
  {
   "cell_type": "code",
   "execution_count": null,
   "metadata": {},
   "outputs": [],
   "source": [
    "compileString(\"\"\"\n",
    "program p\n",
    "  const 5 = 7\n",
    "  write(3)\n",
    "\"\"\")"
   ]
  },
  {
   "cell_type": "markdown",
   "metadata": {},
   "source": [
    "#### Error \"= expected\""
   ]
  },
  {
   "cell_type": "code",
   "execution_count": null,
   "metadata": {},
   "outputs": [],
   "source": [
    "compileString(\"\"\"\n",
    "program p\n",
    "  const c: 5\n",
    "  write(5)\n",
    "\"\"\")"
   ]
  },
  {
   "cell_type": "markdown",
   "metadata": {},
   "source": [
    "#### Error \"type name expected\""
   ]
  },
  {
   "cell_type": "code",
   "execution_count": null,
   "metadata": {},
   "outputs": [],
   "source": [
    "compileString(\"\"\"\n",
    "program p\n",
    "  type 5 = integer\n",
    "  write(3)\n",
    "\"\"\")"
   ]
  },
  {
   "cell_type": "markdown",
   "metadata": {},
   "source": [
    "#### Error \"= expected\""
   ]
  },
  {
   "cell_type": "code",
   "execution_count": null,
   "metadata": {},
   "outputs": [],
   "source": [
    "compileString(\"\"\"\n",
    "program p\n",
    "  type T: integer\n",
    "  writeln()\n",
    "\"\"\")"
   ]
  },
  {
   "cell_type": "markdown",
   "metadata": {},
   "source": [
    "#### Error  \"procedure name expected\""
   ]
  },
  {
   "cell_type": "code",
   "execution_count": null,
   "metadata": {},
   "outputs": [],
   "source": [
    "compileString(\"\"\"\n",
    "procedure\n",
    "  writeln()\n",
    "program p\n",
    "  writeln()\n",
    "\"\"\")"
   ]
  },
  {
   "cell_type": "markdown",
   "metadata": {},
   "source": [
    "#### Error  \"( expected\""
   ]
  },
  {
   "cell_type": "code",
   "execution_count": null,
   "metadata": {},
   "outputs": [],
   "source": [
    "compileString(\"\"\"\n",
    "procedure q\n",
    "  writeln()\n",
    "program p\n",
    "  writeln()\n",
    "\"\"\")"
   ]
  },
  {
   "cell_type": "markdown",
   "metadata": {},
   "source": [
    "#### Error  \") expected\""
   ]
  },
  {
   "cell_type": "code",
   "execution_count": null,
   "metadata": {},
   "outputs": [],
   "source": [
    "compileString(\"\"\"\n",
    "procedure q(\n",
    "  writeln()\n",
    "program p\n",
    "  writeln()\n",
    "\"\"\")"
   ]
  },
  {
   "cell_type": "markdown",
   "metadata": {},
   "source": [
    "#### Error  \"( expected\""
   ]
  },
  {
   "cell_type": "code",
   "execution_count": null,
   "metadata": {},
   "outputs": [],
   "source": [
    "compileString(\"\"\"\n",
    "procedure q(x: integer) → boolean\n",
    "  writeln()\n",
    "program p\n",
    "  writeln()\n",
    "\"\"\")"
   ]
  },
  {
   "cell_type": "markdown",
   "metadata": {},
   "source": [
    "#### Error  \") expected\""
   ]
  },
  {
   "cell_type": "code",
   "execution_count": null,
   "metadata": {},
   "outputs": [],
   "source": [
    "compileString(\"\"\"\n",
    "procedure q(x: integer) → (y: boolean\n",
    "  writeln()\n",
    "program p\n",
    "  writeln()\n",
    "\"\"\")"
   ]
  },
  {
   "cell_type": "markdown",
   "metadata": {},
   "source": [
    "#### Error  \"indent expected\""
   ]
  },
  {
   "cell_type": "code",
   "execution_count": null,
   "metadata": {},
   "outputs": [],
   "source": [
    "compileString(\"\"\"\n",
    "program p\n",
    "writeln()\n",
    "\"\"\")"
   ]
  },
  {
   "cell_type": "markdown",
   "metadata": {},
   "source": [
    "#### Error \"dedent expected\""
   ]
  },
  {
   "cell_type": "code",
   "execution_count": null,
   "metadata": {},
   "outputs": [],
   "source": [
    "compileString(\"\"\"\n",
    "program p\n",
    "  const c = 5\n",
    "    writeln()\n",
    "      writeln()\n",
    "\"\"\")"
   ]
  },
  {
   "cell_type": "markdown",
   "metadata": {},
   "source": [
    "#### Error \"statement expected\""
   ]
  },
  {
   "cell_type": "code",
   "execution_count": null,
   "metadata": {},
   "outputs": [],
   "source": [
    "compileString(\"\"\"\n",
    "program p\n",
    "  program q\n",
    "\"\"\")"
   ]
  },
  {
   "cell_type": "markdown",
   "metadata": {},
   "source": [
    "#### Error \"dedent expected\""
   ]
  },
  {
   "cell_type": "code",
   "execution_count": null,
   "metadata": {},
   "outputs": [],
   "source": [
    "compileString(\"\"\"\n",
    "program p\n",
    "  writeln()\n",
    "    writeln()\n",
    "\"\"\")"
   ]
  },
  {
   "cell_type": "markdown",
   "metadata": {},
   "source": [
    "#### Error \"'program' expected'\""
   ]
  },
  {
   "cell_type": "code",
   "execution_count": null,
   "metadata": {},
   "outputs": [],
   "source": [
    "compileString(\"\"\"\n",
    "var x: integer\n",
    "\"\"\")"
   ]
  },
  {
   "cell_type": "markdown",
   "metadata": {},
   "source": [
    "#### Error \"program name expected\""
   ]
  },
  {
   "cell_type": "code",
   "execution_count": null,
   "metadata": {},
   "outputs": [],
   "source": [
    "compileString(\"\"\"\n",
    "program\n",
    "  writeln()\n",
    "\"\"\")"
   ]
  },
  {
   "cell_type": "markdown",
   "metadata": {},
   "source": [
    "#### Multiple Indentations\n",
    "\n",
    "```\n",
    "(module\n",
    "(import \"P0lib\" \"write\" (func $write (param i32)))\n",
    "(import \"P0lib\" \"writeln\" (func $writeln))\n",
    "(import \"P0lib\" \"read\" (func $read (result i32)))\n",
    "(func $q  \n",
    "(local $b i32)\n",
    "i32.const 1\n",
    "local.set $b\n",
    "local.get $b\n",
    "if\n",
    "i32.const 3\n",
    "call $write\n",
    "else\n",
    "i32.const 5\n",
    "call $write\n",
    "end\n",
    "local.get $b\n",
    "i32.eqz\n",
    "if\n",
    "i32.const 5\n",
    "call $write\n",
    "else\n",
    "local.get $b\n",
    "if\n",
    "i32.const 7\n",
    "call $write\n",
    "else\n",
    "i32.const 9\n",
    "call $write\n",
    "end\n",
    "end\n",
    "loop\n",
    "local.get $b\n",
    "if\n",
    "local.get $b\n",
    "if\n",
    "i32.const 0\n",
    "local.set $b\n",
    "i32.const 1\n",
    "call $write\n",
    "end\n",
    "br 1\n",
    "end\n",
    "end\n",
    ")\n",
    "(func $program\n",
    "i32.const False\n",
    "if\n",
    "call $writeln\n",
    "else\n",
    "call $q\n",
    "end\n",
    ")\n",
    "(memory 1)\n",
    "(start $program)\n",
    ")\n",
    "```"
   ]
  },
  {
   "cell_type": "code",
   "execution_count": null,
   "metadata": {},
   "outputs": [],
   "source": [
    "compileString(\"\"\"\n",
    "procedure q()\n",
    "  var b: boolean\n",
    "    b := true\n",
    "    if b then write(3)\n",
    "    else write(5)\n",
    "    if ¬b then write(5)\n",
    "    else if b then write(7)\n",
    "    else write(9)\n",
    "    while b do\n",
    "      if b then\n",
    "        b := false; write(1)\n",
    "program p\n",
    "  if 3 > 4 then writeln() else\n",
    "    q()\n",
    "\"\"\")"
   ]
  },
  {
   "cell_type": "markdown",
   "metadata": {},
   "source": [
    "### Symbol Table Tests"
   ]
  },
  {
   "cell_type": "markdown",
   "metadata": {},
   "source": [
    "#### Error \"multiple definition\""
   ]
  },
  {
   "cell_type": "code",
   "execution_count": null,
   "metadata": {},
   "outputs": [],
   "source": [
    "compileString(\"\"\"\n",
    "program p\n",
    "  const x = 9\n",
    "  var x : integer\n",
    "    x := 7\n",
    "\"\"\")"
   ]
  },
  {
   "cell_type": "markdown",
   "metadata": {},
   "source": [
    "#### Error \"undefined identifier\""
   ]
  },
  {
   "cell_type": "code",
   "execution_count": null,
   "metadata": {},
   "outputs": [],
   "source": [
    "compileString(\"\"\"\n",
    "program p\n",
    "  var y: bool\n",
    "    y := true\n",
    "\"\"\")"
   ]
  },
  {
   "cell_type": "markdown",
   "metadata": {},
   "source": [
    "#### Symbol Table Dump\n",
    "\n",
    "```\n",
    "Type(name = boolean, val = <class 'ST.Bool'>)\n",
    "Type(name = integer, val = <class 'ST.Int'>)\n",
    "Const(name = true, tp = <class 'ST.Bool'>, val = 1)\n",
    "Const(name = false, tp = <class 'ST.Bool'>, val = 0)\n",
    "StdProc(name = read, lev = 0, par = [], res = [Var(name = , lev = , tp = <class 'ST.Int'>)])\n",
    "StdProc(name = write, lev = 0, par = [Var(name = , lev = , tp = <class 'ST.Int'>)], res = [])\n",
    "StdProc(name = writeln, lev = 0, par = [], res = [])\n",
    "Const(name = N, tp = <class 'ST.Int'>, val = 10)\n",
    "Type(name = T, val = Array(lower = 1, length = 10, base = <class 'ST.Int'>))\n",
    "Var(name = x, lev = -2, tp = Array(lower = 1, length = 10, base = <class 'ST.Int'>))\n",
    "Var(name = y, lev = 0, tp = <class 'ST.Bool'>)\n",
    "Proc(name = q, lev = 0, par = [Var(name = v, lev = 1, tp = <class 'ST.Bool'>)], res = [Var(name = r, lev = 1, tp = <class 'ST.Int'>)])\n",
    "```"
   ]
  },
  {
   "cell_type": "code",
   "execution_count": null,
   "metadata": {},
   "outputs": [],
   "source": [
    "compileString(\"\"\"\n",
    "const N = 10\n",
    "type T =  1 .. N → integer\n",
    "var x: T\n",
    "var y: boolean\n",
    "procedure q(v: boolean) → (r: integer)\n",
    "  var z: boolean\n",
    "    z := false\n",
    "program p\n",
    "  y := true\n",
    "\"\"\", \"/dev/null\") # discard target code\n",
    "printSymTab()"
   ]
  },
  {
   "cell_type": "markdown",
   "metadata": {},
   "source": [
    "### Type Checking Tests"
   ]
  },
  {
   "cell_type": "markdown",
   "metadata": {},
   "source": [
    "#### Error \"designator expected\""
   ]
  },
  {
   "cell_type": "code",
   "execution_count": null,
   "metadata": {},
   "outputs": [],
   "source": [
    "compileString(\"\"\"\n",
    "program p\n",
    "  var x: integer\n",
    "    x := write\n",
    "\"\"\")"
   ]
  },
  {
   "cell_type": "markdown",
   "metadata": {},
   "source": [
    "#### Error \"index out of bounds\""
   ]
  },
  {
   "cell_type": "code",
   "execution_count": null,
   "metadata": {},
   "outputs": [],
   "source": [
    "compileString(\"\"\"\n",
    "var x: 5 .. 7 → integer\n",
    "program p\n",
    "  x[4] := 3\n",
    "\"\"\")"
   ]
  },
  {
   "cell_type": "markdown",
   "metadata": {},
   "source": [
    "#### Error \"index not integer\""
   ]
  },
  {
   "cell_type": "code",
   "execution_count": null,
   "metadata": {},
   "outputs": [],
   "source": [
    "compileString(\"\"\"\n",
    "var x: 5 .. 7 → integer\n",
    "program p\n",
    "  x[x] := 3\n",
    "\"\"\")"
   ]
  },
  {
   "cell_type": "markdown",
   "metadata": {},
   "source": [
    "#### Error \"not an array\""
   ]
  },
  {
   "cell_type": "code",
   "execution_count": null,
   "metadata": {},
   "outputs": [],
   "source": [
    "compileString(\"\"\"\n",
    "program p\n",
    "  var x: integer\n",
    "    x[9] := 3\n",
    "\"\"\")"
   ]
  },
  {
   "cell_type": "markdown",
   "metadata": {},
   "source": [
    "#### Error \"not boolean\""
   ]
  },
  {
   "cell_type": "code",
   "execution_count": null,
   "metadata": {},
   "outputs": [],
   "source": [
    "compileString(\"\"\"\n",
    "program p\n",
    "  var b: boolean\n",
    "    b := ¬ 3\n",
    "\"\"\")"
   ]
  },
  {
   "cell_type": "markdown",
   "metadata": {},
   "source": [
    "#### Error \"bad type\""
   ]
  },
  {
   "cell_type": "code",
   "execution_count": null,
   "metadata": {},
   "outputs": [],
   "source": [
    "compileString(\"\"\"\n",
    "program p\n",
    "  var b: boolean\n",
    "    b := 3 and true\n",
    "\"\"\")"
   ]
  },
  {
   "cell_type": "markdown",
   "metadata": {},
   "source": [
    "#### Error \"bad type\""
   ]
  },
  {
   "cell_type": "code",
   "execution_count": null,
   "metadata": {},
   "outputs": [],
   "source": [
    "compileString(\"\"\"\n",
    "program p\n",
    "  var x: integer\n",
    "    x := 3 + true\n",
    "\"\"\")"
   ]
  },
  {
   "cell_type": "markdown",
   "metadata": {},
   "source": [
    "#### Error \"bad type\""
   ]
  },
  {
   "cell_type": "code",
   "execution_count": null,
   "metadata": {},
   "outputs": [],
   "source": [
    "compileString(\"\"\"\n",
    "program p\n",
    "  var b: boolean\n",
    "    b := 3 > true\n",
    "\"\"\")"
   ]
  },
  {
   "cell_type": "markdown",
   "metadata": {},
   "source": [
    "#### Error \"designator for result expected\""
   ]
  },
  {
   "cell_type": "code",
   "execution_count": null,
   "metadata": {},
   "outputs": [],
   "source": [
    "compileString(\"\"\"\n",
    "program p\n",
    "  read()\n",
    "\"\"\")"
   ]
  },
  {
   "cell_type": "markdown",
   "metadata": {},
   "source": [
    "#### Error \"incompatible assignment\""
   ]
  },
  {
   "cell_type": "code",
   "execution_count": null,
   "metadata": {},
   "outputs": [],
   "source": [
    "compileString(\"\"\"\n",
    "program p\n",
    "  var b: boolean\n",
    "    b := 3\n",
    "\"\"\")"
   ]
  },
  {
   "cell_type": "markdown",
   "metadata": {},
   "source": [
    "#### Error \"procedure expected\""
   ]
  },
  {
   "cell_type": "code",
   "execution_count": null,
   "metadata": {},
   "outputs": [],
   "source": [
    "compileString(\"\"\"\n",
    "program p\n",
    "  var b: boolean\n",
    "    b ← true\n",
    "\"\"\")"
   ]
  },
  {
   "cell_type": "markdown",
   "metadata": {},
   "source": [
    "#### Error \"incompatible call\""
   ]
  },
  {
   "cell_type": "code",
   "execution_count": null,
   "metadata": {},
   "outputs": [],
   "source": [
    "compileString(\"\"\"\n",
    "program p\n",
    "  var b: boolean\n",
    "    b ← read()\n",
    "\"\"\")"
   ]
  },
  {
   "cell_type": "markdown",
   "metadata": {},
   "source": [
    "#### Error \"procedure expected\""
   ]
  },
  {
   "cell_type": "code",
   "execution_count": null,
   "metadata": {},
   "outputs": [],
   "source": [
    "compileString(\"\"\"\n",
    "program p\n",
    "  var b: boolean\n",
    "    b ← integer()\n",
    "\"\"\")"
   ]
  },
  {
   "cell_type": "markdown",
   "metadata": {},
   "source": [
    "#### Error \"variable or procedure expected\""
   ]
  },
  {
   "cell_type": "code",
   "execution_count": null,
   "metadata": {},
   "outputs": [],
   "source": [
    "compileString(\"\"\"\n",
    "program p\n",
    "  const c = 7\n",
    "    c := 4\n",
    "\"\"\")"
   ]
  },
  {
   "cell_type": "markdown",
   "metadata": {},
   "source": [
    "#### Error \"incompatible parameter\""
   ]
  },
  {
   "cell_type": "code",
   "execution_count": null,
   "metadata": {},
   "outputs": [],
   "source": [
    "compileString(\"\"\"\n",
    "program p\n",
    "  write(true)\n",
    "\"\"\")"
   ]
  },
  {
   "cell_type": "markdown",
   "metadata": {},
   "source": [
    "#### Error \"extra parameter\""
   ]
  },
  {
   "cell_type": "code",
   "execution_count": null,
   "metadata": {},
   "outputs": [],
   "source": [
    "compileString(\"\"\"\n",
    "program p\n",
    "  writeln(5)\n",
    "\"\"\")"
   ]
  },
  {
   "cell_type": "markdown",
   "metadata": {},
   "source": [
    "#### Error \"incompatible parameter\""
   ]
  },
  {
   "cell_type": "code",
   "execution_count": null,
   "metadata": {},
   "outputs": [],
   "source": [
    "compileString(\"\"\"\n",
    "procedure q(x, y: integer)\n",
    "  writeln()\n",
    "program p\n",
    "  q(3, true)\n",
    "\"\"\")"
   ]
  },
  {
   "cell_type": "markdown",
   "metadata": {},
   "source": [
    "#### Error \"extra parameter\""
   ]
  },
  {
   "cell_type": "code",
   "execution_count": null,
   "metadata": {},
   "outputs": [],
   "source": [
    "compileString(\"\"\"\n",
    "program p\n",
    "  write(5, 7)\n",
    "\"\"\")"
   ]
  },
  {
   "cell_type": "markdown",
   "metadata": {},
   "source": [
    "#### Error \"too few parameters\""
   ]
  },
  {
   "cell_type": "code",
   "execution_count": null,
   "metadata": {},
   "outputs": [],
   "source": [
    "compileString(\"\"\"\n",
    "program p\n",
    "  write()\n",
    "\"\"\")"
   ]
  },
  {
   "cell_type": "markdown",
   "metadata": {},
   "source": [
    "#### Error \"boolean expected\""
   ]
  },
  {
   "cell_type": "code",
   "execution_count": null,
   "metadata": {},
   "outputs": [],
   "source": [
    "compileString(\"\"\"\n",
    "program p\n",
    "  if 5 then writeln()\n",
    "\"\"\")"
   ]
  },
  {
   "cell_type": "markdown",
   "metadata": {},
   "source": [
    "#### Error \"boolean expected\""
   ]
  },
  {
   "cell_type": "code",
   "execution_count": null,
   "metadata": {},
   "outputs": [],
   "source": [
    "compileString(\"\"\"\n",
    "program p\n",
    "  while 5 do writeln()\n",
    "\"\"\")"
   ]
  },
  {
   "cell_type": "markdown",
   "metadata": {},
   "source": [
    "#### Error \"expression not constant\""
   ]
  },
  {
   "cell_type": "code",
   "execution_count": null,
   "metadata": {},
   "outputs": [],
   "source": [
    "compileString(\"\"\"\n",
    "var v: integer\n",
    "program p\n",
    "  const c = v\n",
    "  writeln()\n",
    "\"\"\")"
   ]
  },
  {
   "cell_type": "markdown",
   "metadata": {},
   "source": [
    "### AST Demos"
   ]
  },
  {
   "cell_type": "markdown",
   "metadata": {},
   "source": [
    "#### Control Structures\n",
    "```\n",
    "seq\n",
    "  seq\n",
    "    call Var(name = x, lev = 1, tp = <class 'ST.Int'>) read\n",
    "    ifelse\n",
    "      >\n",
    "        Var(name = x, lev = 1, tp = <class 'ST.Int'>)\n",
    "        Const(name = , tp = <class 'ST.Int'>, val = 0)\n",
    "      while\n",
    "        <\n",
    "          Var(name = a, lev = 0, tp = Array(lower = 1, length = 10, base = <class 'ST.Int'>))[]\n",
    "             Var(name = x, lev = 1, tp = <class 'ST.Int'>)\n",
    "          Const(name = , tp = <class 'ST.Int'>, val = 7)\n",
    "        :=\n",
    "          Var(name = x, lev = 1, tp = <class 'ST.Int'>)\n",
    "          +\n",
    "            Var(name = x, lev = 1, tp = <class 'ST.Int'>)\n",
    "            Const(name = , tp = <class 'ST.Int'>, val = 1)\n",
    "      call  write\n",
    "        Var(name = x, lev = 1, tp = <class 'ST.Int'>)\n",
    "  call  writeln\n",
    "symbol table:\n",
    "Type(name = boolean, val = <class 'ST.Bool'>)\n",
    "Type(name = integer, val = <class 'ST.Int'>)\n",
    "Const(name = true, tp = <class 'ST.Bool'>, val = 1)\n",
    "Const(name = false, tp = <class 'ST.Bool'>, val = 0)\n",
    "StdProc(name = read, lev = 0, par = [], res = [Var(name = , lev = , tp = <class 'ST.Int'>)])\n",
    "StdProc(name = write, lev = 0, par = [Var(name = , lev = , tp = <class 'ST.Int'>)], res = [])\n",
    "StdProc(name = writeln, lev = 0, par = [], res = [])\n",
    "Var(name = a, lev = 0, tp = Array(lower = 1, length = 10, base = <class 'ST.Int'>))\n",
    "```"
   ]
  },
  {
   "cell_type": "code",
   "execution_count": null,
   "metadata": {},
   "outputs": [],
   "source": [
    "compileString(\"\"\"\n",
    "var a: 1..10 → integer\n",
    "program p\n",
    "  var x: integer\n",
    "    x ← read()\n",
    "    if x > 0 then\n",
    "      while a[x] < 7 do\n",
    "        x := x + 1\n",
    "    else write(x)\n",
    "    writeln()\n",
    "\"\"\", target='ast')\n",
    "printSymTab()"
   ]
  },
  {
   "cell_type": "markdown",
   "metadata": {},
   "source": [
    "#### Arrays\n",
    "```\n",
    "seq\n",
    "  seq\n",
    "    :=\n",
    "      Var(name = a, lev = 0, tp = Array(lower = 1, length = 10, base = <class 'ST.Int'>))[]\n",
    "         Const(name = , tp = <class 'ST.Int'>, val = 5)\n",
    "      Const(name = , tp = <class 'ST.Int'>, val = 3)\n",
    "    :=\n",
    "      Var(name = a, lev = 0, tp = Array(lower = 1, length = 10, base = <class 'ST.Int'>))[]\n",
    "         Var(name = i, lev = 1, tp = <class 'ST.Int'>)\n",
    "      Const(name = , tp = <class 'ST.Int'>, val = 5)\n",
    "  :=\n",
    "    Var(name = a, lev = 0, tp = Array(lower = 1, length = 10, base = <class 'ST.Int'>))[]\n",
    "       +\n",
    "        Var(name = i, lev = 1, tp = <class 'ST.Int'>)\n",
    "        Const(name = , tp = <class 'ST.Int'>, val = 7)\n",
    "    +\n",
    "      Var(name = i, lev = 1, tp = <class 'ST.Int'>)\n",
    "      Const(name = , tp = <class 'ST.Int'>, val = 9)\n",
    "```"
   ]
  },
  {
   "cell_type": "code",
   "execution_count": null,
   "metadata": {},
   "outputs": [],
   "source": [
    "compileString(\"\"\"\n",
    "var a: 1..10 → integer\n",
    "program p\n",
    "  var i: integer\n",
    "    a[5] := 3\n",
    "    a[i] := 5\n",
    "    a[i + 7] := i + 9\n",
    "\"\"\", target='ast')"
   ]
  },
  {
   "cell_type": "markdown",
   "metadata": {},
   "source": [
    "### WebAssembly Code Generator Tests"
   ]
  },
  {
   "cell_type": "markdown",
   "metadata": {},
   "source": [
    "#### Error: \"WASM: no local arrays, records\""
   ]
  },
  {
   "cell_type": "code",
   "execution_count": null,
   "metadata": {},
   "outputs": [],
   "source": [
    "compileString(\"\"\"\n",
    "program p\n",
    "  var a: 1..10 → integer\n",
    "\"\"\", target = 'wat')"
   ]
  },
  {
   "cell_type": "markdown",
   "metadata": {},
   "source": [
    "#### Error: \"WASM: no nested procedures\""
   ]
  },
  {
   "cell_type": "code",
   "execution_count": null,
   "metadata": {},
   "outputs": [],
   "source": [
    "compileString(\"\"\"\n",
    "program p\n",
    "  procedure q()\n",
    "    write(5)\n",
    "  q(7)\n",
    "\"\"\", target = 'wat')"
   ]
  },
  {
   "cell_type": "markdown",
   "metadata": {},
   "source": [
    "#### Error: \"WASM: no more than one result parameter\""
   ]
  },
  {
   "cell_type": "code",
   "execution_count": null,
   "metadata": {},
   "outputs": [],
   "source": [
    "compileString(\"\"\"\n",
    "procedure q() → (x, y: integer)\n",
    "  x := y\n",
    "program p\n",
    "  writeln()\n",
    "\"\"\", target = 'wat')"
   ]
  },
  {
   "cell_type": "markdown",
   "metadata": {},
   "source": [
    "#### Error: \"WASM: no structured value parameters\""
   ]
  },
  {
   "cell_type": "code",
   "execution_count": null,
   "metadata": {},
   "outputs": [],
   "source": [
    "compileString(\"\"\"\n",
    "type A = 1..10 → integer\n",
    "procedure q(f: A)\n",
    "  write(5)\n",
    "program p\n",
    "  writeln()\n",
    "\"\"\")"
   ]
  },
  {
   "cell_type": "markdown",
   "metadata": {},
   "source": [
    "#### Error: \"WASM: no structured result parameters\""
   ]
  },
  {
   "cell_type": "code",
   "execution_count": null,
   "metadata": {},
   "outputs": [],
   "source": [
    "compileString(\"\"\"\n",
    "type A = 1..10 → integer\n",
    "procedure q() → (f: A)\n",
    "  write(5)\n",
    "program p\n",
    "  writeln()\n",
    "\"\"\")"
   ]
  },
  {
   "cell_type": "markdown",
   "metadata": {},
   "source": [
    "#### Relational Operators\n",
    "\n",
    "```\n",
    "(module\n",
    "(import \"P0lib\" \"write\" (func $write (param i32)))\n",
    "(import \"P0lib\" \"writeln\" (func $writeln))\n",
    "(import \"P0lib\" \"read\" (func $read (result i32)))\n",
    "(func $q (param $b i32) \n",
    "local.get $b\n",
    "i32.const 0\n",
    "i32.eq\n",
    "local.set $b\n",
    ")\n",
    "(func $program\n",
    "(local $x i32)\n",
    "local.get $x\n",
    "i32.const 7\n",
    "i32.gt_s\n",
    "call $q\n",
    ")\n",
    "(memory 1)\n",
    "(start $program)\n",
    ")\n",
    "```"
   ]
  },
  {
   "cell_type": "code",
   "execution_count": null,
   "metadata": {},
   "outputs": [],
   "source": [
    "compileString(\"\"\"\n",
    "procedure q(b: boolean)\n",
    "  b := b = false\n",
    "program p\n",
    "  var x: integer\n",
    "    q(x > 7)\n",
    "\"\"\", 'relop.wat', target = 'wat')"
   ]
  },
  {
   "cell_type": "code",
   "execution_count": null,
   "metadata": {},
   "outputs": [],
   "source": [
    "!wat2wasm relop.wat"
   ]
  },
  {
   "cell_type": "markdown",
   "metadata": {},
   "source": [
    "#### Input & Output\n",
    "```\n",
    "(module\n",
    "(import \"P0lib\" \"write\" (func $write (param i32)))\n",
    "(import \"P0lib\" \"writeln\" (func $writeln))\n",
    "(import \"P0lib\" \"read\" (func $read (result i32)))\n",
    "(func $program\n",
    "(local $x i32)\n",
    "call $read\n",
    "local.set $x\n",
    "i32.const 3\n",
    "local.get $x\n",
    "i32.mul\n",
    "local.set $x\n",
    "local.get $x\n",
    "call $write\n",
    "call $writeln\n",
    "local.get $x\n",
    "i32.const 5\n",
    "i32.mul\n",
    "call $write\n",
    ")\n",
    "(memory 1)\n",
    "(start $program)\n",
    ")\n",
    "```"
   ]
  },
  {
   "cell_type": "code",
   "execution_count": null,
   "metadata": {},
   "outputs": [],
   "source": [
    "compileString(\"\"\"\n",
    "program p\n",
    "  var x: integer\n",
    "    x ← read(); x := 3 × x\n",
    "    write(x); writeln()\n",
    "    write(x × 5)\n",
    "\"\"\", 'write.wat', target = 'wat')"
   ]
  },
  {
   "cell_type": "code",
   "execution_count": null,
   "metadata": {},
   "outputs": [],
   "source": [
    "!wat2wasm write.wat"
   ]
  },
  {
   "cell_type": "markdown",
   "metadata": {},
   "source": [
    "#### Parameter Passing\n",
    "```\n",
    "(module\n",
    "(import \"P0lib\" \"write\" (func $write (param i32)))\n",
    "(import \"P0lib\" \"writeln\" (func $writeln))\n",
    "(import \"P0lib\" \"read\" (func $read (result i32)))\n",
    "(global $x (mut i32) i32.const 0)\n",
    "(func $q (param $a i32) (param $b i32)\n",
    "(local $y i32)\n",
    "local.get $a\n",
    "local.set $y\n",
    "local.get $y\n",
    "call $write\n",
    "call $writeln\n",
    "local.get $b\n",
    "local.set $a\n",
    "global.get $x\n",
    "call $write\n",
    "local.get $a\n",
    "call $write\n",
    "call $writeln\n",
    "local.get $y\n",
    "local.set $b\n",
    "local.get $b\n",
    "call $write\n",
    "global.get $x\n",
    "call $write\n",
    "call $writeln\n",
    "local.get $a\n",
    "call $write\n",
    "local.get $y\n",
    "call $write\n",
    "call $writeln\n",
    "i32.const 12\n",
    "i32.load\n",
    "call $write\n",
    ")\n",
    "(func $r (param $c i32)\n",
    "local.get $c\n",
    "i32.load\n",
    "global.get $x\n",
    "i32.const 1\n",
    "i32.sub\n",
    "i32.const 4\n",
    "i32.mul_s\n",
    "i32.add\n",
    "global.get $x\n",
    "i32.store\n",
    "i32.const 7\n",
    "local.get $c\n",
    "i32.load\n",
    "global.get $x\n",
    "i32.const 1\n",
    "i32.sub\n",
    "i32.const 4\n",
    "i32.mul_s\n",
    "i32.add\n",
    "i32.load\n",
    "call $q\n",
    "global.get $x\n",
    "call $write\n",
    ")\n",
    "(func $program\n",
    "i32.const 5\n",
    "global.set $x\n",
    "i32.const 0\n",
    "call $r\n",
    ")\n",
    "(memory 1)\n",
    "(start $program)\n",
    ")\n",
    "```"
   ]
  },
  {
   "cell_type": "code",
   "execution_count": null,
   "metadata": {},
   "outputs": [],
   "source": [
    "compileString(\"\"\"\n",
    "type T = 1..10 → integer\n",
    "var a: T\n",
    "procedure q(b: integer, c: integer)\n",
    "    write(b); write(c)\n",
    "procedure r() → (d: integer)\n",
    "    a[3] := 9; d := 5\n",
    "program p\n",
    "  var x: integer\n",
    "  a[2] := 7; q(3, a[2]) {writes 3, 7}\n",
    "  x ← r(); write(x); write(a[3]) {writes 5, 9}\n",
    "\"\"\", 'params.wat', target = 'wat')"
   ]
  },
  {
   "cell_type": "code",
   "execution_count": null,
   "metadata": {},
   "outputs": [],
   "source": [
    "!wat2wasm params.wat"
   ]
  },
  {
   "cell_type": "code",
   "execution_count": null,
   "metadata": {},
   "outputs": [],
   "source": [
    "runpywasm('params.wasm')"
   ]
  },
  {
   "cell_type": "markdown",
   "metadata": {},
   "source": [
    "#### Booleans and Conditions"
   ]
  },
  {
   "cell_type": "code",
   "execution_count": null,
   "metadata": {},
   "outputs": [],
   "source": [
    "compileString(\"\"\"\n",
    "program p\n",
    "  const five = 5\n",
    "  const seven = 7\n",
    "  const always = true\n",
    "  const never = false\n",
    "  var x, y, z: integer\n",
    "  var b, t, f: boolean\n",
    "    x := seven; y := 9; z := 11; t := true; f := false\n",
    "    if true then write(7) else write(9)    {writes 7}\n",
    "    if false then write(7) else write(9)   {writes 9}\n",
    "    if t then write(7) else write(9)       {writes 7}\n",
    "    if f then write(7) else write(9)       {writes 9}\n",
    "    if ¬ t then write(7) else write(9)     {writes 9}\n",
    "    if ¬ f then write(7) else write(9)     {writes 7}\n",
    "    if t or t then write(7) else write(9)  {writes 7}\n",
    "    if t or f then write(7) else write(9)  {writes 7}\n",
    "    if f or t then write(7) else write(9)  {writes 7}\n",
    "    if f or f then write(7) else write(9)  {writes 9}\n",
    "    if t and t then write(7) else write(9) {writes 7}\n",
    "    if t and f then write(7) else write(9) {writes 9}\n",
    "    if f and t then write(7) else write(9) {writes 9}\n",
    "    if f and f then write(7) else write(9) {writes 9}\n",
    "    writeln()\n",
    "    b := true\n",
    "    if b then write(3) else write(5) {writes 3}\n",
    "    b := false\n",
    "    if b then write(3) else write(5) {writes 5}\n",
    "    b := x < y\n",
    "    if b then write(x) else write(y) {writes 7}\n",
    "    b := (x > y) or t\n",
    "    if b then write(3) else write(5) {writes 3}\n",
    "    b := (x > y) or f\n",
    "    if b then write(3) else write(5) {writes 5}\n",
    "    b := (x = y) or (x > y)\n",
    "    if b then write(3) else write(5) {writes 5}\n",
    "    b := (x = y) or (x < y)\n",
    "    if b then write(3) else write(5) {writes 3}\n",
    "    b := f and (x ≥ y)\n",
    "    if b then write(3) else write(5) {writes 5}\n",
    "    writeln()\n",
    "    while y > 3 do                   {writes 9, 8, 7, 6, 5, 4}\n",
    "      write(y); y := y - 1\n",
    "    write(y); writeln()              {writes 3}\n",
    "    if ¬(x < y) and t then\n",
    "      write(x)                       {writes 7}\n",
    "\"\"\", 'cond.wat', target = 'wat')"
   ]
  },
  {
   "cell_type": "code",
   "execution_count": null,
   "metadata": {},
   "outputs": [],
   "source": [
    "!wat2wasm cond.wat"
   ]
  },
  {
   "cell_type": "code",
   "execution_count": null,
   "metadata": {},
   "outputs": [],
   "source": [
    "runpywasm('cond.wasm')"
   ]
  },
  {
   "cell_type": "markdown",
   "metadata": {},
   "source": [
    "#### Constant Folding, Local & Global Variables\n",
    "\n",
    "```\n",
    "(module\n",
    "(import \"P0lib\" \"write\" (func $write (param i32)))\n",
    "(import \"P0lib\" \"writeln\" (func $writeln))\n",
    "(import \"P0lib\" \"read\" (func $read (result i32)))\n",
    "(global $x (mut i32) i32.const 0)\n",
    "(global $y (mut i32) i32.const 0)\n",
    "(func $q  \n",
    "(local $x i32)\n",
    "i32.const 3\n",
    "local.set $x\n",
    "i32.const 1\n",
    "if\n",
    "local.get $x\n",
    "global.set $y\n",
    "else\n",
    "i32.const 7\n",
    "global.set $y\n",
    "end\n",
    "global.get $y\n",
    "call $write\n",
    "i32.const 0\n",
    "if\n",
    "local.get $x\n",
    "global.set $y\n",
    "else\n",
    "i32.const 7\n",
    "global.set $y\n",
    "end\n",
    "global.get $y\n",
    "call $write\n",
    "i32.const 1\n",
    "if\n",
    "local.get $x\n",
    "global.set $y\n",
    "else\n",
    "i32.const 7\n",
    "global.set $y\n",
    "end\n",
    "global.get $y\n",
    "call $write\n",
    "i32.const 0\n",
    "if\n",
    "local.get $x\n",
    "global.set $y\n",
    "else\n",
    "i32.const 7\n",
    "global.set $y\n",
    "end\n",
    "global.get $y\n",
    "call $write\n",
    "i32.const 0\n",
    "if\n",
    "i32.const 5\n",
    "call $write\n",
    "else\n",
    "i32.const 9\n",
    "call $write\n",
    "end\n",
    ")\n",
    "(func $program\n",
    "i32.const 7\n",
    "global.set $x\n",
    "call $q\n",
    "global.get $x\n",
    "call $write\n",
    ")\n",
    "(memory 1)\n",
    "(start $program)\n",
    ")\n",
    "```"
   ]
  },
  {
   "cell_type": "code",
   "execution_count": null,
   "metadata": {},
   "outputs": [],
   "source": [
    "compileString(\"\"\"\n",
    "const seven = (9 mod 3 + 5 × 3) div 2\n",
    "type int = integer\n",
    "var x, y: integer\n",
    "procedure q()\n",
    "  const sotrue = true and true\n",
    "  const sofalse = false and true\n",
    "  const alsotrue = false or true\n",
    "  const alsofalse = false or false\n",
    "  var x: int\n",
    "    x := 3\n",
    "    if sotrue then y := x else y := seven\n",
    "    write(y) {writes 3}\n",
    "    if sofalse then y := x else y := seven\n",
    "    write(y) {writes 7}\n",
    "    if alsotrue then y := x else y := seven\n",
    "    write(y) {writes 3}\n",
    "    if alsofalse then y := x else y := seven\n",
    "    write(y) {writes 7}\n",
    "    if ¬(true or false) then write(5) else write(9)\n",
    "program p\n",
    "  x := 7; q(); write(x) {writes 7}\n",
    "\"\"\", 'folding.wat', target = 'wat')"
   ]
  },
  {
   "cell_type": "code",
   "execution_count": null,
   "metadata": {},
   "outputs": [],
   "source": [
    "!wat2wasm folding.wat"
   ]
  },
  {
   "cell_type": "code",
   "execution_count": null,
   "metadata": {},
   "outputs": [],
   "source": [
    "runpywasm('folding.wasm')"
   ]
  },
  {
   "cell_type": "markdown",
   "metadata": {},
   "source": [
    "#### Procedures\n",
    "```\n",
    "(module\n",
    "(import \"P0lib\" \"write\" (func $write (param i32)))\n",
    "(import \"P0lib\" \"writeln\" (func $writeln))\n",
    "(import \"P0lib\" \"read\" (func $read (result i32)))\n",
    "(global $g (mut i32) i32.const 0)\n",
    "(func $q (param $v i32) \n",
    "(local $l i32)\n",
    "i32.const 9\n",
    "local.set $l\n",
    "local.get $l\n",
    "local.get $v\n",
    "i32.gt_s\n",
    "if\n",
    "local.get $l\n",
    "call $write\n",
    "else\n",
    "global.get $g\n",
    "call $write\n",
    "end\n",
    ")\n",
    "(func $program\n",
    "i32.const 5\n",
    "global.set $g\n",
    "i32.const 7\n",
    "call $q\n",
    ")\n",
    "(memory 1)\n",
    "(start $program)\n",
    ")\n",
    "```"
   ]
  },
  {
   "cell_type": "code",
   "execution_count": null,
   "metadata": {},
   "outputs": [],
   "source": [
    "compileString(\"\"\"\n",
    "var g: integer          {global variable}\n",
    "procedure q(v: integer) {value parameter}\n",
    "  var l: integer        {local variable}\n",
    "    l := 9\n",
    "    if l > v then write(l)\n",
    "    else write(g)\n",
    "program p\n",
    "  g := 5; q(7)\n",
    "\"\"\", 'proc.wat', target = 'wat')"
   ]
  },
  {
   "cell_type": "code",
   "execution_count": null,
   "metadata": {},
   "outputs": [],
   "source": [
    "!wat2wasm proc.wat"
   ]
  },
  {
   "cell_type": "code",
   "execution_count": null,
   "metadata": {},
   "outputs": [],
   "source": [
    "runpywasm('proc.wasm')"
   ]
  },
  {
   "cell_type": "markdown",
   "metadata": {},
   "source": [
    "#### Illustrating Lack of Optimization\n",
    "```\n",
    "(module\n",
    "(import \"P0lib\" \"write\" (func $write (param i32)))\n",
    "(import \"P0lib\" \"writeln\" (func $writeln))\n",
    "(import \"P0lib\" \"read\" (func $read (result i32)))\n",
    "(func $program\n",
    "(local $x i32)\n",
    "i32.const 5\n",
    "local.set $x\n",
    "local.get $x\n",
    "i32.const 0\n",
    "i32.add\n",
    "local.set $x\n",
    "i32.const 0\n",
    "local.get $x\n",
    "i32.add\n",
    "local.set $x\n",
    "local.get $x\n",
    "i32.const 1\n",
    "i32.mul\n",
    "local.set $x\n",
    "i32.const 1\n",
    "local.get $x\n",
    "i32.mul\n",
    "local.set $x\n",
    "local.get $x\n",
    "i32.const 3\n",
    "i32.add\n",
    "local.set $x\n",
    "i32.const 3\n",
    "local.get $x\n",
    "i32.add\n",
    "local.set $x\n",
    ")\n",
    "(memory 1)\n",
    "(start $program)\n",
    ")\n",
    "```"
   ]
  },
  {
   "cell_type": "code",
   "execution_count": null,
   "metadata": {},
   "outputs": [],
   "source": [
    "compileString(\"\"\"\n",
    "program p\n",
    "  var x: integer\n",
    "    x := 5\n",
    "    x := x + 0\n",
    "    x := 0 + x\n",
    "    x := x × 1\n",
    "    x := 1 × x\n",
    "    x := x + 3\n",
    "    x := 3 + x\n",
    "\"\"\", 'opt.wat', target = 'wat')"
   ]
  },
  {
   "cell_type": "markdown",
   "metadata": {},
   "source": [
    "#### Two-dimensional Array\n",
    "```\n",
    "(module\n",
    "(import \"P0lib\" \"write\" (func $write (param i32)))\n",
    "(import \"P0lib\" \"writeln\" (func $writeln))\n",
    "(import \"P0lib\" \"read\" (func $read (result i32)))\n",
    "(global $y (mut i32) i32.const 0)\n",
    "(global $b (mut i32) i32.const 0)\n",
    "(func $program\n",
    "global.get $y\n",
    "i32.const 3\n",
    "i32.sub\n",
    "i32.const 11\n",
    "i32.mul\n",
    "i32.const 0\n",
    "i32.add\n",
    "i32.const 4\n",
    "i32.add\n",
    "i32.const 0\n",
    "i32.store\n",
    "global.get $y\n",
    "i32.const 3\n",
    "i32.sub\n",
    "i32.const 11\n",
    "i32.mul\n",
    "i32.const 0\n",
    "i32.add\n",
    "global.get $y\n",
    "i32.const 1\n",
    "i32.add\n",
    "i32.const 1\n",
    "i32.sub\n",
    "i32.const 1\n",
    "i32.mul\n",
    "i32.add\n",
    "i32.load\n",
    "global.set $b\n",
    ")\n",
    "(memory 1)\n",
    "(start $program)\n",
    ")\n",
    "```"
   ]
  },
  {
   "cell_type": "code",
   "execution_count": null,
   "metadata": {},
   "outputs": [],
   "source": [
    "compileString(\"\"\"\n",
    "type R = boolean\n",
    "type S = 1..11 → R\n",
    "type T = 3..9 → S\n",
    "var x: T\n",
    "var y: integer\n",
    "var b: boolean\n",
    "program p\n",
    "  x[y][5] := false\n",
    "  b := x[y][y + 1]\n",
    "\"\"\", 'twoD.wat', target = 'wat')"
   ]
  },
  {
   "cell_type": "markdown",
   "metadata": {},
   "source": [
    "### MIPS Code Generator Tests"
   ]
  },
  {
   "cell_type": "markdown",
   "metadata": {},
   "source": [
    "#### Error \"value too large\""
   ]
  },
  {
   "cell_type": "code",
   "execution_count": null,
   "metadata": {},
   "outputs": [],
   "source": [
    "compileString(\"\"\"\n",
    "program p\n",
    "  const c = 100000\n",
    "  var x: integer\n",
    "    x := c\n",
    "\"\"\", target = 'mips')"
   ]
  },
  {
   "cell_type": "markdown",
   "metadata": {},
   "source": [
    "#### Error \"MIPS: no structured value parameters\""
   ]
  },
  {
   "cell_type": "code",
   "execution_count": null,
   "metadata": {},
   "outputs": [],
   "source": [
    "compileString(\"\"\"\n",
    "type A = 1..10 → integer\n",
    "var a: A\n",
    "procedure q(f: A)\n",
    "  f[2] := 4\n",
    "program p\n",
    "  q(a)\n",
    "\"\"\", target = 'mips')"
   ]
  },
  {
   "cell_type": "markdown",
   "metadata": {},
   "source": [
    "#### Error \"MIPS: out of registers\""
   ]
  },
  {
   "cell_type": "code",
   "execution_count": null,
   "metadata": {},
   "outputs": [],
   "source": [
    "compileString(\"\"\"\n",
    "program p\n",
    "  var x: integer\n",
    "    x := 0×x + (1×x + (2×x + (3×x + (4×x + (5×x + (6×x + (7×x + (8×x))))))))\n",
    "\"\"\", target = 'mips')"
   ]
  },
  {
   "cell_type": "markdown",
   "metadata": {},
   "source": [
    "#### Error \"MIPS: level!\""
   ]
  },
  {
   "cell_type": "code",
   "execution_count": null,
   "metadata": {},
   "outputs": [],
   "source": [
    "compileString(\"\"\"\n",
    "procedure q()\n",
    "  var x: integer\n",
    "  procedure r()\n",
    "    x := 5\n",
    "  x := 3\n",
    "program p\n",
    "  writeln()\n",
    "\"\"\", target = 'mips')"
   ]
  },
  {
   "cell_type": "markdown",
   "metadata": {},
   "source": [
    "#### Error \"MIPS: unsupported parameter type\""
   ]
  },
  {
   "cell_type": "code",
   "execution_count": null,
   "metadata": {},
   "outputs": [],
   "source": [
    "compileString(\"\"\"\n",
    "var x: integer\n",
    "procedure q(b: boolean)\n",
    "  b := false\n",
    "program p\n",
    "  q(x > 7)\n",
    "\"\"\", target = 'mips')"
   ]
  },
  {
   "cell_type": "markdown",
   "metadata": {},
   "source": [
    "#### Input & Output\n",
    "```\n",
    "\t.data\n",
    "\t.text\n",
    "\t.globl main\n",
    "\t.ent main\n",
    "main:\t\n",
    "\t.globl p\n",
    "\t.ent p\n",
    "p:\t\n",
    "\tsw $fp, -4($sp)\n",
    "\tsw $ra, -8($sp)\n",
    "\tsub $fp, $sp, 0\n",
    "\tsub $sp, $fp, 12\n",
    "\tli $v0, 5\n",
    "\tsyscall\n",
    "\tsw $v0, -12($fp)\n",
    "\taddi $t8, $0, 3\n",
    "\tlw $t0, -12($fp)\n",
    "\tmul $t8, $t8, $t0\n",
    "\tsw $t8, -12($fp)\n",
    "\tlw $t7, -12($fp)\n",
    "\tsw $t7, -4($sp)\n",
    "\tlw $a0, -12($fp)\n",
    "\tli $v0, 1\n",
    "\tsyscall\n",
    "\tli $v0, 11\n",
    "\tli $a0, '\\n'\n",
    "\tsyscall\n",
    "\tli $v0, 11\n",
    "\tli $a0, '\\n'\n",
    "\tsyscall\n",
    "\tlw $t5, -12($fp)\n",
    "\tmul $t5, $t5, 5\n",
    "\tsw $t5, -4($sp)\n",
    "\tadd $a0, $t5, $0\n",
    "\tli $v0, 1\n",
    "\tsyscall\n",
    "\tadd $sp, $fp, 0\n",
    "\tlw $ra, -8($fp)\n",
    "\tlw $fp, -4($fp)\n",
    "\tjr $ra\n",
    "\tli $v0, 10\n",
    "\tsyscall\n",
    "\t.end main\n",
    "```"
   ]
  },
  {
   "cell_type": "code",
   "execution_count": null,
   "metadata": {},
   "outputs": [],
   "source": [
    "compileString(\"\"\"\n",
    "program p\n",
    "  var x: integer\n",
    "    x ← read()\n",
    "    x := 3 × x\n",
    "    write(x)\n",
    "    writeln()\n",
    "    writeln()\n",
    "    write(x × 5)\n",
    "\"\"\", 'write.s', target = 'mips')"
   ]
  },
  {
   "cell_type": "markdown",
   "metadata": {},
   "source": [
    "#### Parameter Passing\n",
    "```\n",
    "\t.data\n",
    "z_:\t.space 40\n",
    "x_:\t.space 4\n",
    "\t.text\n",
    "\t.globl q\n",
    "\t.ent q\n",
    "q:\t\n",
    "\tsw $fp, -4($sp)\n",
    "\tsw $ra, -8($sp)\n",
    "\tsub $fp, $sp, 0\n",
    "\tsub $sp, $fp, 12\n",
    "\tsw $a0, -12($fp)\n",
    "\tlw $a0, -12($fp)\n",
    "\tlw $a0, -12($fp)\n",
    "\tli $v0, 1\n",
    "\tsyscall\n",
    "\tli $v0, 11\n",
    "\tli $a0, '\\n'\n",
    "\tsyscall\n",
    "\taddi $a0, $a1, 0\n",
    "\tlw $a0, x_\n",
    "\tlw $a0, x_\n",
    "\tli $v0, 1\n",
    "\tsyscall\n",
    "\tadd $a0, $a0, $0\n",
    "\tadd $a0, $a0, $0\n",
    "\tli $v0, 1\n",
    "\tsyscall\n",
    "\tli $v0, 11\n",
    "\tli $a0, '\\n'\n",
    "\tsyscall\n",
    "\tlw $a1, -12($fp)\n",
    "\tadd $a0, $a1, $0\n",
    "\tadd $a0, $a1, $0\n",
    "\tli $v0, 1\n",
    "\tsyscall\n",
    "\tlw $a0, x_\n",
    "\tlw $a0, x_\n",
    "\tli $v0, 1\n",
    "\tsyscall\n",
    "\tli $v0, 11\n",
    "\tli $a0, '\\n'\n",
    "\tsyscall\n",
    "\tadd $a0, $a0, $0\n",
    "\tadd $a0, $a0, $0\n",
    "\tli $v0, 1\n",
    "\tsyscall\n",
    "\tlw $a0, -12($fp)\n",
    "\tlw $a0, -12($fp)\n",
    "\tli $v0, 1\n",
    "\tsyscall\n",
    "\tli $v0, 11\n",
    "\tli $a0, '\\n'\n",
    "\tsyscall\n",
    "\tlw $a0, z_+12\n",
    "\tlw $a0, z_+12\n",
    "\tli $v0, 1\n",
    "\tsyscall\n",
    "\tadd $sp, $fp, 0\n",
    "\tlw $ra, -8($fp)\n",
    "\tlw $fp, -4($fp)\n",
    "\tjr $ra\n",
    "\t.globl main\n",
    "\t.ent main\n",
    "main:\t\n",
    "\t.globl p\n",
    "\t.ent p\n",
    "p:\t\n",
    "\tsw $fp, -4($sp)\n",
    "\tsw $ra, -8($sp)\n",
    "\tsub $fp, $sp, 0\n",
    "\tsub $sp, $fp, 8\n",
    "\taddi $t3, $0, 5\n",
    "\tsw $t3, x_\n",
    "\taddi $a0, $0, 7\n",
    "\tlw $a1, x_\n",
    "\tjal, q\n",
    "\tadd $sp, $fp, 0\n",
    "\tlw $ra, -8($fp)\n",
    "\tlw $fp, -4($fp)\n",
    "\tjr $ra\n",
    "\tli $v0, 10\n",
    "\tsyscall\n",
    "\t.end main\n",
    "```"
   ]
  },
  {
   "cell_type": "code",
   "execution_count": null,
   "metadata": {},
   "outputs": [],
   "source": [
    "compileString(\"\"\"\n",
    "type T = 1..10 → integer\n",
    "var x: integer\n",
    "var z: T\n",
    "procedure q({-4($sp)} a: integer {4($fp)}, {-8($sp)} b: integer {($fp)})\n",
    "  var y: integer {-12($fp)}\n",
    "    y := a; write(y); writeln() {writes 7}\n",
    "    a := b; write(x); write(a); writeln() {writes 5, 5}\n",
    "    b := y; write(b); write(x); writeln() {writes 7, 5}\n",
    "    write(y); writeln() {writes 7}\n",
    "    write(z[4]) {writes 0}\n",
    "program p\n",
    "  x := 5; q(7, x)\n",
    "\"\"\", 'params.s', target = 'mips')"
   ]
  },
  {
   "cell_type": "markdown",
   "metadata": {},
   "source": [
    "#### Nested Procedures\n",
    "```\n",
    "\t.data\n",
    "b_:\t.space 4\n",
    "\t.text\n",
    "\t.globl main\n",
    "\t.ent main\n",
    "main:\t\n",
    "\t.globl r\n",
    "\t.ent r\n",
    "r:\t\n",
    "\tsw $fp, -8($sp)\n",
    "\tsw $ra, -12($sp)\n",
    "\tsub $fp, $sp, 4\n",
    "\tsub $sp, $fp, 8\n",
    "\tsw $0, b_\n",
    "\tlw $t8, 0($fp)\n",
    "\tadd $t8, $t8, 1\n",
    "\tsw $t8, 0($fp)\n",
    "\tadd $sp, $fp, 4\n",
    "\tlw $ra, -8($fp)\n",
    "\tlw $fp, -4($fp)\n",
    "\tjr $ra\n",
    "\t.globl q\n",
    "\t.ent q\n",
    "q:\t\n",
    "\tsw $fp, -8($sp)\n",
    "\tsw $ra, -12($sp)\n",
    "\tsub $fp, $sp, 4\n",
    "\tsub $sp, $fp, 12\n",
    "\taddi $t0, $0, 1\n",
    "\tsw $t0, 0($fp)\n",
    "\taddi $t7, $0, 4\n",
    "\tsw $t7, -12($fp)\n",
    "\tlw $t5, -12($fp)\n",
    "\tsw $t5, -4($sp)\n",
    "\tjal, r\n",
    "\tadd $sp, $fp, 4\n",
    "\tlw $ra, -8($fp)\n",
    "\tlw $fp, -4($fp)\n",
    "\tjr $ra\n",
    "\t.globl p\n",
    "\t.ent p\n",
    "p:\t\n",
    "\tsw $fp, -4($sp)\n",
    "\tsw $ra, -8($sp)\n",
    "\tsub $fp, $sp, 0\n",
    "\tsub $sp, $fp, 12\n",
    "\tlw $t4, b_\n",
    "\tsw $t4, -4($sp)\n",
    "\tjal, q\n",
    "\tadd $sp, $fp, 0\n",
    "\tlw $ra, -8($fp)\n",
    "\tlw $fp, -4($fp)\n",
    "\tjr $ra\n",
    "\tli $v0, 10\n",
    "\tsyscall\n",
    "\t.end main\n",
    "```"
   ]
  },
  {
   "cell_type": "code",
   "execution_count": null,
   "metadata": {},
   "outputs": [],
   "source": [
    "compileString(\"\"\"\n",
    "var b: boolean\n",
    "program p\n",
    "  var i: integer\n",
    "  procedure q(z: boolean)\n",
    "    var y: integer\n",
    "    procedure r(x: integer)\n",
    "      b := false; x := x + 1\n",
    "    z := true; y := 4; r(i)\n",
    "  q(b)\n",
    "\"\"\", 'nested.s', target = 'mips')"
   ]
  },
  {
   "cell_type": "markdown",
   "metadata": {},
   "source": [
    "#### Booleans and Conditions\n",
    "```\n",
    "\t.data\n",
    "\t.text\n",
    "\t.globl main\n",
    "\t.ent main\n",
    "main:\t\n",
    "\t.globl p\n",
    "\t.ent p\n",
    "p:\t\n",
    "\tsw $fp, -4($sp)\n",
    "\tsw $ra, -8($sp)\n",
    "\tsub $fp, $sp, 0\n",
    "\tsub $sp, $fp, 32\n",
    "\taddi $t8, $0, 7\n",
    "\tsw $t8, -12($fp)\n",
    "\taddi $t0, $0, 9\n",
    "\tsw $t0, -16($fp)\n",
    "\taddi $t7, $0, 11\n",
    "\tsw $t7, -20($fp)\n",
    "\taddi $t5, $0, 1\n",
    "\tsw $t5, -28($fp)\n",
    "\tsw $0, -32($fp)\n",
    "\taddi $t4, $0, 1\n",
    "\tbeq $t4, $0, L1\n",
    "L2:\t\n",
    "\taddi $t3, $0, 7\n",
    "\tsw $t3, -4($sp)\n",
    "\taddi $a0, $0, 7\n",
    "\tli $v0, 1\n",
    "\tsyscall\n",
    "\tb, L3\n",
    "L1:\t\n",
    "\taddi $t6, $0, 9\n",
    "\tsw $t6, -4($sp)\n",
    "\taddi $a0, $0, 9\n",
    "\tli $v0, 1\n",
    "\tsyscall\n",
    "L3:\t\n",
    "\tbeq $0, $0, L4\n",
    "L5:\t\n",
    "\taddi $t1, $0, 7\n",
    "\tsw $t1, -4($sp)\n",
    "\taddi $a0, $0, 7\n",
    "\tli $v0, 1\n",
    "\tsyscall\n",
    "\tb, L6\n",
    "L4:\t\n",
    "\taddi $t2, $0, 9\n",
    "\tsw $t2, -4($sp)\n",
    "\taddi $a0, $0, 9\n",
    "\tli $v0, 1\n",
    "\tsyscall\n",
    "L6:\t\n",
    "\tlw $t8, -28($fp)\n",
    "\tbeq $t8, $0, L7\n",
    "L8:\t\n",
    "\taddi $t0, $0, 7\n",
    "\tsw $t0, -4($sp)\n",
    "\taddi $a0, $0, 7\n",
    "\tli $v0, 1\n",
    "\tsyscall\n",
    "\tb, L9\n",
    "L7:\t\n",
    "\taddi $t7, $0, 9\n",
    "\tsw $t7, -4($sp)\n",
    "\taddi $a0, $0, 9\n",
    "\tli $v0, 1\n",
    "\tsyscall\n",
    "L9:\t\n",
    "\tlw $t5, -32($fp)\n",
    "\tbeq $t5, $0, L10\n",
    "L11:\t\n",
    "\taddi $t4, $0, 7\n",
    "\tsw $t4, -4($sp)\n",
    "\taddi $a0, $0, 7\n",
    "\tli $v0, 1\n",
    "\tsyscall\n",
    "\tb, L12\n",
    "L10:\t\n",
    "\taddi $t3, $0, 9\n",
    "\tsw $t3, -4($sp)\n",
    "\taddi $a0, $0, 9\n",
    "\tli $v0, 1\n",
    "\tsyscall\n",
    "L12:\t\n",
    "\tlw $t6, -28($fp)\n",
    "\tbne $t6, $0, L14\n",
    "L13:\t\n",
    "\taddi $t1, $0, 7\n",
    "\tsw $t1, -4($sp)\n",
    "\taddi $a0, $0, 7\n",
    "\tli $v0, 1\n",
    "\tsyscall\n",
    "\tb, L15\n",
    "L14:\t\n",
    "\taddi $t2, $0, 9\n",
    "\tsw $t2, -4($sp)\n",
    "\taddi $a0, $0, 9\n",
    "\tli $v0, 1\n",
    "\tsyscall\n",
    "L15:\t\n",
    "\tlw $t8, -32($fp)\n",
    "\tbne $t8, $0, L17\n",
    "L16:\t\n",
    "\taddi $t0, $0, 7\n",
    "\tsw $t0, -4($sp)\n",
    "\taddi $a0, $0, 7\n",
    "\tli $v0, 1\n",
    "\tsyscall\n",
    "\tb, L18\n",
    "L17:\t\n",
    "\taddi $t7, $0, 9\n",
    "\tsw $t7, -4($sp)\n",
    "\taddi $a0, $0, 9\n",
    "\tli $v0, 1\n",
    "\tsyscall\n",
    "L18:\t\n",
    "\tlw $t5, -28($fp)\n",
    "\tbne $t5, $0, L20\n",
    "L19:\t\n",
    "\tlw $t4, -28($fp)\n",
    "\tbeq $t4, $0, L21\n",
    "L22:\t\n",
    "L20:\t\n",
    "\taddi $t3, $0, 7\n",
    "\tsw $t3, -4($sp)\n",
    "\taddi $a0, $0, 7\n",
    "\tli $v0, 1\n",
    "\tsyscall\n",
    "\tb, L23\n",
    "L21:\t\n",
    "\taddi $t6, $0, 9\n",
    "\tsw $t6, -4($sp)\n",
    "\taddi $a0, $0, 9\n",
    "\tli $v0, 1\n",
    "\tsyscall\n",
    "L23:\t\n",
    "\tlw $t1, -28($fp)\n",
    "\tbne $t1, $0, L25\n",
    "L24:\t\n",
    "\tlw $t2, -32($fp)\n",
    "\tbeq $t2, $0, L26\n",
    "L27:\t\n",
    "L25:\t\n",
    "\taddi $t8, $0, 7\n",
    "\tsw $t8, -4($sp)\n",
    "\taddi $a0, $0, 7\n",
    "\tli $v0, 1\n",
    "\tsyscall\n",
    "\tb, L28\n",
    "L26:\t\n",
    "\taddi $t0, $0, 9\n",
    "\tsw $t0, -4($sp)\n",
    "\taddi $a0, $0, 9\n",
    "\tli $v0, 1\n",
    "\tsyscall\n",
    "L28:\t\n",
    "\tlw $t7, -32($fp)\n",
    "\tbne $t7, $0, L30\n",
    "L29:\t\n",
    "\tlw $t5, -28($fp)\n",
    "\tbeq $t5, $0, L31\n",
    "L32:\t\n",
    "L30:\t\n",
    "\taddi $t4, $0, 7\n",
    "\tsw $t4, -4($sp)\n",
    "\taddi $a0, $0, 7\n",
    "\tli $v0, 1\n",
    "\tsyscall\n",
    "\tb, L33\n",
    "L31:\t\n",
    "\taddi $t3, $0, 9\n",
    "\tsw $t3, -4($sp)\n",
    "\taddi $a0, $0, 9\n",
    "\tli $v0, 1\n",
    "\tsyscall\n",
    "L33:\t\n",
    "\tlw $t6, -32($fp)\n",
    "\tbne $t6, $0, L35\n",
    "L34:\t\n",
    "\tlw $t1, -32($fp)\n",
    "\tbeq $t1, $0, L36\n",
    "L37:\t\n",
    "L35:\t\n",
    "\taddi $t2, $0, 7\n",
    "\tsw $t2, -4($sp)\n",
    "\taddi $a0, $0, 7\n",
    "\tli $v0, 1\n",
    "\tsyscall\n",
    "\tb, L38\n",
    "L36:\t\n",
    "\taddi $t8, $0, 9\n",
    "\tsw $t8, -4($sp)\n",
    "\taddi $a0, $0, 9\n",
    "\tli $v0, 1\n",
    "\tsyscall\n",
    "L38:\t\n",
    "\tlw $t0, -28($fp)\n",
    "\tbeq $t0, $0, L39\n",
    "L40:\t\n",
    "\tlw $t7, -28($fp)\n",
    "\tbeq $t7, $0, L41\n",
    "L42:\t\n",
    "\taddi $t5, $0, 7\n",
    "\tsw $t5, -4($sp)\n",
    "\taddi $a0, $0, 7\n",
    "\tli $v0, 1\n",
    "\tsyscall\n",
    "\tb, L43\n",
    "L41:\t\n",
    "L39:\t\n",
    "\taddi $t4, $0, 9\n",
    "\tsw $t4, -4($sp)\n",
    "\taddi $a0, $0, 9\n",
    "\tli $v0, 1\n",
    "\tsyscall\n",
    "L43:\t\n",
    "\tlw $t3, -28($fp)\n",
    "\tbeq $t3, $0, L44\n",
    "L45:\t\n",
    "\tlw $t6, -32($fp)\n",
    "\tbeq $t6, $0, L46\n",
    "L47:\t\n",
    "\taddi $t1, $0, 7\n",
    "\tsw $t1, -4($sp)\n",
    "\taddi $a0, $0, 7\n",
    "\tli $v0, 1\n",
    "\tsyscall\n",
    "\tb, L48\n",
    "L46:\t\n",
    "L44:\t\n",
    "\taddi $t2, $0, 9\n",
    "\tsw $t2, -4($sp)\n",
    "\taddi $a0, $0, 9\n",
    "\tli $v0, 1\n",
    "\tsyscall\n",
    "L48:\t\n",
    "\tlw $t8, -32($fp)\n",
    "\tbeq $t8, $0, L49\n",
    "L50:\t\n",
    "\tlw $t0, -28($fp)\n",
    "\tbeq $t0, $0, L51\n",
    "L52:\t\n",
    "\taddi $t7, $0, 7\n",
    "\tsw $t7, -4($sp)\n",
    "\taddi $a0, $0, 7\n",
    "\tli $v0, 1\n",
    "\tsyscall\n",
    "\tb, L53\n",
    "L51:\t\n",
    "L49:\t\n",
    "\taddi $t5, $0, 9\n",
    "\tsw $t5, -4($sp)\n",
    "\taddi $a0, $0, 9\n",
    "\tli $v0, 1\n",
    "\tsyscall\n",
    "L53:\t\n",
    "\tlw $t4, -32($fp)\n",
    "\tbeq $t4, $0, L54\n",
    "L55:\t\n",
    "\tlw $t3, -32($fp)\n",
    "\tbeq $t3, $0, L56\n",
    "L57:\t\n",
    "\taddi $t6, $0, 7\n",
    "\tsw $t6, -4($sp)\n",
    "\taddi $a0, $0, 7\n",
    "\tli $v0, 1\n",
    "\tsyscall\n",
    "\tb, L58\n",
    "L56:\t\n",
    "L54:\t\n",
    "\taddi $t1, $0, 9\n",
    "\tsw $t1, -4($sp)\n",
    "\taddi $a0, $0, 9\n",
    "\tli $v0, 1\n",
    "\tsyscall\n",
    "L58:\t\n",
    "\tli $v0, 11\n",
    "\tli $a0, '\\n'\n",
    "\tsyscall\n",
    "\taddi $t2, $0, 1\n",
    "\tsw $t2, -24($fp)\n",
    "\tlw $t8, -24($fp)\n",
    "\tbeq $t8, $0, L59\n",
    "L60:\t\n",
    "\taddi $t0, $0, 3\n",
    "\tsw $t0, -4($sp)\n",
    "\taddi $a0, $0, 3\n",
    "\tli $v0, 1\n",
    "\tsyscall\n",
    "\tb, L61\n",
    "L59:\t\n",
    "\taddi $t7, $0, 5\n",
    "\tsw $t7, -4($sp)\n",
    "\taddi $a0, $0, 5\n",
    "\tli $v0, 1\n",
    "\tsyscall\n",
    "L61:\t\n",
    "\tsw $0, -24($fp)\n",
    "\tlw $t5, -24($fp)\n",
    "\tbeq $t5, $0, L62\n",
    "L63:\t\n",
    "\taddi $t4, $0, 3\n",
    "\tsw $t4, -4($sp)\n",
    "\taddi $a0, $0, 3\n",
    "\tli $v0, 1\n",
    "\tsyscall\n",
    "\tb, L64\n",
    "L62:\t\n",
    "\taddi $t3, $0, 5\n",
    "\tsw $t3, -4($sp)\n",
    "\taddi $a0, $0, 5\n",
    "\tli $v0, 1\n",
    "\tsyscall\n",
    "L64:\t\n",
    "\tlw $t6, -12($fp)\n",
    "\tlw $t1, -16($fp)\n",
    "\tbge $t6, $t1, L65\n",
    "L66:\t\n",
    "\taddi $t2, $0, 1\n",
    "\tb, L67\n",
    "L65:\t\n",
    "\taddi $t2, $0, 0\n",
    "L67:\t\n",
    "\tsw $t2, -24($fp)\n",
    "\tlw $t8, -24($fp)\n",
    "\tbeq $t8, $0, L68\n",
    "L69:\t\n",
    "\tlw $t0, -12($fp)\n",
    "\tsw $t0, -4($sp)\n",
    "\tlw $a0, -12($fp)\n",
    "\tli $v0, 1\n",
    "\tsyscall\n",
    "\tb, L70\n",
    "L68:\t\n",
    "\tlw $t7, -16($fp)\n",
    "\tsw $t7, -4($sp)\n",
    "\tlw $a0, -16($fp)\n",
    "\tli $v0, 1\n",
    "\tsyscall\n",
    "L70:\t\n",
    "\tlw $t5, -12($fp)\n",
    "\tlw $t4, -16($fp)\n",
    "\tbgt $t5, $t4, L72\n",
    "L71:\t\n",
    "\tlw $t3, -28($fp)\n",
    "\tbeq $t3, $0, L73\n",
    "L74:\t\n",
    "L72:\t\n",
    "\taddi $t6, $0, 1\n",
    "\tb, L75\n",
    "L73:\t\n",
    "\taddi $t6, $0, 0\n",
    "L75:\t\n",
    "\tsw $t6, -24($fp)\n",
    "\tlw $t1, -24($fp)\n",
    "\tbeq $t1, $0, L76\n",
    "L77:\t\n",
    "\taddi $t2, $0, 3\n",
    "\tsw $t2, -4($sp)\n",
    "\taddi $a0, $0, 3\n",
    "\tli $v0, 1\n",
    "\tsyscall\n",
    "\tb, L78\n",
    "L76:\t\n",
    "\taddi $t8, $0, 5\n",
    "\tsw $t8, -4($sp)\n",
    "\taddi $a0, $0, 5\n",
    "\tli $v0, 1\n",
    "\tsyscall\n",
    "L78:\t\n",
    "\tlw $t0, -12($fp)\n",
    "\tlw $t7, -16($fp)\n",
    "\tbgt $t0, $t7, L80\n",
    "L79:\t\n",
    "\tlw $t5, -32($fp)\n",
    "\tbeq $t5, $0, L81\n",
    "L82:\t\n",
    "L80:\t\n",
    "\taddi $t4, $0, 1\n",
    "\tb, L83\n",
    "L81:\t\n",
    "\taddi $t4, $0, 0\n",
    "L83:\t\n",
    "\tsw $t4, -24($fp)\n",
    "\tlw $t3, -24($fp)\n",
    "\tbeq $t3, $0, L84\n",
    "L85:\t\n",
    "\taddi $t6, $0, 3\n",
    "\tsw $t6, -4($sp)\n",
    "\taddi $a0, $0, 3\n",
    "\tli $v0, 1\n",
    "\tsyscall\n",
    "\tb, L86\n",
    "L84:\t\n",
    "\taddi $t1, $0, 5\n",
    "\tsw $t1, -4($sp)\n",
    "\taddi $a0, $0, 5\n",
    "\tli $v0, 1\n",
    "\tsyscall\n",
    "L86:\t\n",
    "\tlw $t2, -12($fp)\n",
    "\tlw $t8, -16($fp)\n",
    "\tbeq $t2, $t8, L88\n",
    "L87:\t\n",
    "\tlw $t0, -12($fp)\n",
    "\tlw $t7, -16($fp)\n",
    "\tble $t0, $t7, L89\n",
    "L90:\t\n",
    "L88:\t\n",
    "\taddi $t5, $0, 1\n",
    "\tb, L91\n",
    "L89:\t\n",
    "\taddi $t5, $0, 0\n",
    "L91:\t\n",
    "\tsw $t5, -24($fp)\n",
    "\tlw $t4, -24($fp)\n",
    "\tbeq $t4, $0, L92\n",
    "L93:\t\n",
    "\taddi $t3, $0, 3\n",
    "\tsw $t3, -4($sp)\n",
    "\taddi $a0, $0, 3\n",
    "\tli $v0, 1\n",
    "\tsyscall\n",
    "\tb, L94\n",
    "L92:\t\n",
    "\taddi $t6, $0, 5\n",
    "\tsw $t6, -4($sp)\n",
    "\taddi $a0, $0, 5\n",
    "\tli $v0, 1\n",
    "\tsyscall\n",
    "L94:\t\n",
    "\tlw $t1, -12($fp)\n",
    "\tlw $t2, -16($fp)\n",
    "\tbeq $t1, $t2, L96\n",
    "L95:\t\n",
    "\tlw $t8, -12($fp)\n",
    "\tlw $t0, -16($fp)\n",
    "\tbge $t8, $t0, L97\n",
    "L98:\t\n",
    "L96:\t\n",
    "\taddi $t7, $0, 1\n",
    "\tb, L99\n",
    "L97:\t\n",
    "\taddi $t7, $0, 0\n",
    "L99:\t\n",
    "\tsw $t7, -24($fp)\n",
    "\tlw $t5, -24($fp)\n",
    "\tbeq $t5, $0, L100\n",
    "L101:\t\n",
    "\taddi $t4, $0, 3\n",
    "\tsw $t4, -4($sp)\n",
    "\taddi $a0, $0, 3\n",
    "\tli $v0, 1\n",
    "\tsyscall\n",
    "\tb, L102\n",
    "L100:\t\n",
    "\taddi $t3, $0, 5\n",
    "\tsw $t3, -4($sp)\n",
    "\taddi $a0, $0, 5\n",
    "\tli $v0, 1\n",
    "\tsyscall\n",
    "L102:\t\n",
    "\tlw $t6, -32($fp)\n",
    "\tbeq $t6, $0, L103\n",
    "L104:\t\n",
    "\tlw $t1, -12($fp)\n",
    "\tlw $t2, -16($fp)\n",
    "\tblt $t1, $t2, L105\n",
    "L106:\t\n",
    "\taddi $t8, $0, 1\n",
    "\tb, L107\n",
    "L105:\t\n",
    "L103:\t\n",
    "\taddi $t8, $0, 0\n",
    "L107:\t\n",
    "\tsw $t8, -24($fp)\n",
    "\tlw $t0, -24($fp)\n",
    "\tbeq $t0, $0, L108\n",
    "L109:\t\n",
    "\taddi $t7, $0, 3\n",
    "\tsw $t7, -4($sp)\n",
    "\taddi $a0, $0, 3\n",
    "\tli $v0, 1\n",
    "\tsyscall\n",
    "\tb, L110\n",
    "L108:\t\n",
    "\taddi $t5, $0, 5\n",
    "\tsw $t5, -4($sp)\n",
    "\taddi $a0, $0, 5\n",
    "\tli $v0, 1\n",
    "\tsyscall\n",
    "L110:\t\n",
    "\tli $v0, 11\n",
    "\tli $a0, '\\n'\n",
    "\tsyscall\n",
    "L111:\t\n",
    "\tlw $t4, -16($fp)\n",
    "\taddi $t3, $0, 3\n",
    "\tble $t4, $t3, L112\n",
    "L113:\t\n",
    "\tlw $t3, -16($fp)\n",
    "\tsw $t3, -4($sp)\n",
    "\tlw $a0, -16($fp)\n",
    "\tli $v0, 1\n",
    "\tsyscall\n",
    "\tlw $t6, -16($fp)\n",
    "\tsub $t6, $t6, 1\n",
    "\tsw $t6, -16($fp)\n",
    "\tb, L111\n",
    "L112:\t\n",
    "\tlw $t1, -16($fp)\n",
    "\tsw $t1, -4($sp)\n",
    "\tlw $a0, -16($fp)\n",
    "\tli $v0, 1\n",
    "\tsyscall\n",
    "\tli $v0, 11\n",
    "\tli $a0, '\\n'\n",
    "\tsyscall\n",
    "\tlw $t2, -12($fp)\n",
    "\tlw $t8, -16($fp)\n",
    "\tblt $t2, $t8, L115\n",
    "L114:\t\n",
    "\tlw $t0, -28($fp)\n",
    "\tbeq $t0, $0, L116\n",
    "L117:\t\n",
    "\tlw $t7, -12($fp)\n",
    "\tsw $t7, -4($sp)\n",
    "\tlw $a0, -12($fp)\n",
    "\tli $v0, 1\n",
    "\tsyscall\n",
    "L116:\t\n",
    "L115:\t\n",
    "\tadd $sp, $fp, 0\n",
    "\tlw $ra, -8($fp)\n",
    "\tlw $fp, -4($fp)\n",
    "\tjr $ra\n",
    "\tli $v0, 10\n",
    "\tsyscall\n",
    "\t.end main\n",
    "```"
   ]
  },
  {
   "cell_type": "code",
   "execution_count": null,
   "metadata": {},
   "outputs": [],
   "source": [
    "compileString(\"\"\"\n",
    "program p\n",
    "  const five = 5\n",
    "  const seven = 7\n",
    "  const always = true\n",
    "  const never = false\n",
    "  var x, y, z: integer\n",
    "  var b, t, f: boolean\n",
    "    x := seven; y := 9; z := 11; t := true; f := false\n",
    "    if true then write(7) else write(9)    {writes 7}\n",
    "    if false then write(7) else write(9)   {writes 9}\n",
    "    if t then write(7) else write(9)       {writes 7}\n",
    "    if f then write(7) else write(9)       {writes 9}\n",
    "    if ¬ t then write(7) else write(9)   {writes 9}\n",
    "    if ¬ f then write(7) else write(9)   {writes 7}\n",
    "    if t or t then write(7) else write(9)  {writes 7}\n",
    "    if t or f then write(7) else write(9)  {writes 7}\n",
    "    if f or t then write(7) else write(9)  {writes 7}\n",
    "    if f or f then write(7) else write(9)  {writes 9}\n",
    "    if t and t then write(7) else write(9) {writes 7}\n",
    "    if t and f then write(7) else write(9) {writes 9}\n",
    "    if f and t then write(7) else write(9) {writes 9}\n",
    "    if f and f then write(7) else write(9) {writes 9}\n",
    "    writeln()\n",
    "    b := true\n",
    "    if b then write(3) else write(5) {writes 3}\n",
    "    b := false\n",
    "    if b then write(3) else write(5) {writes 5}\n",
    "    b := x < y\n",
    "    if b then write(x) else write(y) {writes 7}\n",
    "    b := (x > y) or t\n",
    "    if b then write(3) else write(5) {writes 3}\n",
    "    b := (x > y) or f\n",
    "    if b then write(3) else write(5) {writes 5}\n",
    "    b := (x = y) or (x > y)\n",
    "    if b then write(3) else write(5) {writes 5}\n",
    "    b := (x = y) or (x < y)\n",
    "    if b then write(3) else write(5) {writes 3}\n",
    "    b := f and (x ≥ y)\n",
    "    if b then write(3) else write(5) {writes 5}\n",
    "    writeln()\n",
    "    while y > 3 do                   {writes 9, 8, 7, 6, 5, 4}\n",
    "      write(y); y := y - 1\n",
    "    write(y); writeln()              {writes 3}\n",
    "    if ¬(x < y) and t then\n",
    "      write(x)                       {writes 7}\n",
    "\"\"\", 'cond.s', target = 'mips')"
   ]
  },
  {
   "cell_type": "markdown",
   "metadata": {},
   "source": [
    "#### Constant Folding, Local & Global Variables\n",
    "```\n",
    "\t.data\n",
    "y_:\t.space 4\n",
    "x_:\t.space 4\n",
    "\t.text\n",
    "\t.globl q\n",
    "\t.ent q\n",
    "q:\t\n",
    "\tsw $fp, -4($sp)\n",
    "\tsw $ra, -8($sp)\n",
    "\tsub $fp, $sp, 0\n",
    "\tsub $sp, $fp, 12\n",
    "\taddi $t8, $0, 3\n",
    "\tsw $t8, -12($fp)\n",
    "\taddi $t0, $0, 1\n",
    "\tbeq $t0, $0, L1\n",
    "L2:\t\n",
    "\tlw $t7, -12($fp)\n",
    "\tsw $t7, y_\n",
    "\tb, L3\n",
    "L1:\t\n",
    "\taddi $t5, $0, 7\n",
    "\tsw $t5, y_\n",
    "L3:\t\n",
    "\tlw $t4, y_\n",
    "\tsw $t4, -4($sp)\n",
    "\tlw $a0, y_\n",
    "\tli $v0, 1\n",
    "\tsyscall\n",
    "\tbeq $0, $0, L4\n",
    "L5:\t\n",
    "\tlw $t3, -12($fp)\n",
    "\tsw $t3, y_\n",
    "\tb, L6\n",
    "L4:\t\n",
    "\taddi $t6, $0, 7\n",
    "\tsw $t6, y_\n",
    "L6:\t\n",
    "\tlw $t1, y_\n",
    "\tsw $t1, -4($sp)\n",
    "\tlw $a0, y_\n",
    "\tli $v0, 1\n",
    "\tsyscall\n",
    "\taddi $t2, $0, 1\n",
    "\tbeq $t2, $0, L7\n",
    "L8:\t\n",
    "\tlw $t8, -12($fp)\n",
    "\tsw $t8, y_\n",
    "\tb, L9\n",
    "L7:\t\n",
    "\taddi $t0, $0, 7\n",
    "\tsw $t0, y_\n",
    "L9:\t\n",
    "\tlw $t7, y_\n",
    "\tsw $t7, -4($sp)\n",
    "\tlw $a0, y_\n",
    "\tli $v0, 1\n",
    "\tsyscall\n",
    "\tbeq $0, $0, L10\n",
    "L11:\t\n",
    "\tlw $t5, -12($fp)\n",
    "\tsw $t5, y_\n",
    "\tb, L12\n",
    "L10:\t\n",
    "\taddi $t4, $0, 7\n",
    "\tsw $t4, y_\n",
    "L12:\t\n",
    "\tlw $t3, y_\n",
    "\tsw $t3, -4($sp)\n",
    "\tlw $a0, y_\n",
    "\tli $v0, 1\n",
    "\tsyscall\n",
    "\tbeq $0, $0, L13\n",
    "L14:\t\n",
    "\taddi $t6, $0, 5\n",
    "\tsw $t6, -4($sp)\n",
    "\taddi $a0, $0, 5\n",
    "\tli $v0, 1\n",
    "\tsyscall\n",
    "\tb, L15\n",
    "L13:\t\n",
    "\taddi $t1, $0, 9\n",
    "\tsw $t1, -4($sp)\n",
    "\taddi $a0, $0, 9\n",
    "\tli $v0, 1\n",
    "\tsyscall\n",
    "L15:\t\n",
    "\tadd $sp, $fp, 0\n",
    "\tlw $ra, -8($fp)\n",
    "\tlw $fp, -4($fp)\n",
    "\tjr $ra\n",
    "\t.globl main\n",
    "\t.ent main\n",
    "main:\t\n",
    "\t.globl p\n",
    "\t.ent p\n",
    "p:\t\n",
    "\tsw $fp, -4($sp)\n",
    "\tsw $ra, -8($sp)\n",
    "\tsub $fp, $sp, 0\n",
    "\tsub $sp, $fp, 8\n",
    "\taddi $t2, $0, 7\n",
    "\tsw $t2, x_\n",
    "\tjal, q\n",
    "\tlw $t8, x_\n",
    "\tsw $t8, -4($sp)\n",
    "\tlw $a0, x_\n",
    "\tli $v0, 1\n",
    "\tsyscall\n",
    "\tadd $sp, $fp, 0\n",
    "\tlw $ra, -8($fp)\n",
    "\tlw $fp, -4($fp)\n",
    "\tjr $ra\n",
    "\tli $v0, 10\n",
    "\tsyscall\n",
    "\t.end main\n",
    "```"
   ]
  },
  {
   "cell_type": "code",
   "execution_count": null,
   "metadata": {},
   "outputs": [],
   "source": [
    "compileString(\"\"\"\n",
    "const seven = (9 mod 3 + 5 × 3) div 2\n",
    "type int = integer\n",
    "var x, y: integer\n",
    "procedure q()\n",
    "  const sotrue = true and true\n",
    "  const sofalse = false and true\n",
    "  const alsotrue = false or true\n",
    "  const alsofalse = false or false\n",
    "  var x: int\n",
    "    x := 3\n",
    "    if sotrue then y := x else y := seven\n",
    "    write(y) {writes 3}\n",
    "    if sofalse then y := x else y := seven\n",
    "    write(y) {writes 7}\n",
    "    if alsotrue then y := x else y := seven\n",
    "    write(y) {writes 3}\n",
    "    if alsofalse then y := x else y := seven\n",
    "    write(y) {writes 7}\n",
    "    if ¬(true or false) then write(5) else write(9)\n",
    "program p\n",
    "  x := 7; q(); write(x) {writes 7}\n",
    "\"\"\", 'folding.s', target = 'mips')"
   ]
  },
  {
   "cell_type": "markdown",
   "metadata": {},
   "source": [
    "#### Procedures\n",
    "```\n",
    "\t.data\n",
    "g_:\t.space 4\n",
    "\t.text\n",
    "\t.globl q\n",
    "\t.ent q\n",
    "q:\t\n",
    "\tsw $fp, -8($sp)\n",
    "\tsw $ra, -12($sp)\n",
    "\tsub $fp, $sp, 4\n",
    "\tsub $sp, $fp, 12\n",
    "\taddi $t8, $0, 9\n",
    "\tsw $t8, -12($fp)\n",
    "\tlw $t0, -12($fp)\n",
    "\tlw $t7, 0($fp)\n",
    "\tble $t0, $t7, L1\n",
    "L2:\t\n",
    "\tlw $t5, -12($fp)\n",
    "\tsw $t5, -4($sp)\n",
    "\tlw $a0, -12($fp)\n",
    "\tli $v0, 1\n",
    "\tsyscall\n",
    "\tb, L3\n",
    "L1:\t\n",
    "\tlw $t4, g_\n",
    "\tsw $t4, -4($sp)\n",
    "\tlw $a0, g_\n",
    "\tli $v0, 1\n",
    "\tsyscall\n",
    "L3:\t\n",
    "\tadd $sp, $fp, 4\n",
    "\tlw $ra, -8($fp)\n",
    "\tlw $fp, -4($fp)\n",
    "\tjr $ra\n",
    "\t.globl main\n",
    "\t.ent main\n",
    "main:\t\n",
    "\t.globl p\n",
    "\t.ent p\n",
    "p:\t\n",
    "\tsw $fp, -4($sp)\n",
    "\tsw $ra, -8($sp)\n",
    "\tsub $fp, $sp, 0\n",
    "\tsub $sp, $fp, 8\n",
    "\taddi $t3, $0, 5\n",
    "\tsw $t3, g_\n",
    "\taddi $t6, $0, 7\n",
    "\tsw $t6, -4($sp)\n",
    "\tjal, q\n",
    "\tadd $sp, $fp, 0\n",
    "\tlw $ra, -8($fp)\n",
    "\tlw $fp, -4($fp)\n",
    "\tjr $ra\n",
    "\tli $v0, 10\n",
    "\tsyscall\n",
    "\t.end main\n",
    "```"
   ]
  },
  {
   "cell_type": "code",
   "execution_count": null,
   "metadata": {},
   "outputs": [],
   "source": [
    "compileString(\"\"\"\n",
    "var g: integer          {global variable}\n",
    "procedure q(v: integer) {value parameter}\n",
    "  var l: integer        {local variable}\n",
    "    l := 9\n",
    "    if l > v then write(l)\n",
    "    else write(g)\n",
    "program p\n",
    "  g := 5; q(7)          {writes 9}\n",
    "\"\"\", 'proc.s', target = 'mips')"
   ]
  },
  {
   "cell_type": "markdown",
   "metadata": {},
   "source": [
    "#### Illustrating Lack of Optimization\n",
    "```\n",
    "\t.data\n",
    "\t.text\n",
    "\t.globl main\n",
    "\t.ent main\n",
    "main:\t\n",
    "\t.globl p\n",
    "\t.ent p\n",
    "p:\t\n",
    "\tsw $fp, -4($sp)\n",
    "\tsw $ra, -8($sp)\n",
    "\tsub $fp, $sp, 0\n",
    "\tsub $sp, $fp, 12\n",
    "\taddi $t8, $0, 5\n",
    "\tsw $t8, -12($fp)\n",
    "\tlw $t0, -12($fp)\n",
    "\tadd $t0, $t0, 0\n",
    "\tsw $t0, -12($fp)\n",
    "\tlw $t5, -12($fp)\n",
    "\tadd $t7, $0, $t5\n",
    "\tsw $t7, -12($fp)\n",
    "\tlw $t4, -12($fp)\n",
    "\tmul $t4, $t4, 1\n",
    "\tsw $t4, -12($fp)\n",
    "\taddi $t3, $0, 1\n",
    "\tlw $t6, -12($fp)\n",
    "\tmul $t3, $t3, $t6\n",
    "\tsw $t3, -12($fp)\n",
    "\tlw $t1, -12($fp)\n",
    "\tadd $t1, $t1, 3\n",
    "\tsw $t1, -12($fp)\n",
    "\taddi $t2, $0, 3\n",
    "\tlw $t8, -12($fp)\n",
    "\tadd $t2, $t2, $t8\n",
    "\tsw $t2, -12($fp)\n",
    "\tadd $sp, $fp, 0\n",
    "\tlw $ra, -8($fp)\n",
    "\tlw $fp, -4($fp)\n",
    "\tjr $ra\n",
    "\tli $v0, 10\n",
    "\tsyscall\n",
    "\t.end main\n",
    "```"
   ]
  },
  {
   "cell_type": "code",
   "execution_count": null,
   "metadata": {},
   "outputs": [],
   "source": [
    "compileString(\"\"\"\n",
    "program p\n",
    "  var x: integer\n",
    "    x := 5\n",
    "    x := x + 0\n",
    "    x := 0 + x\n",
    "    x := x × 1\n",
    "    x := 1 × x\n",
    "    x := x + 3\n",
    "    x := 3 + x\n",
    "\"\"\", 'opt.s', target = 'mips')"
   ]
  },
  {
   "cell_type": "markdown",
   "metadata": {},
   "source": [
    "#### Two-dimensional Array\n",
    "```\n",
    "\t.data\n",
    "b_:\t.space 4\n",
    "y_:\t.space 4\n",
    "x_:\t.space 308\n",
    "\t.text\n",
    "\t.globl main\n",
    "\t.ent main\n",
    "main:\t\n",
    "\t.globl p\n",
    "\t.ent p\n",
    "p:\t\n",
    "\tsw $fp, -4($sp)\n",
    "\tsw $ra, -8($sp)\n",
    "\tsub $fp, $sp, 0\n",
    "\tsub $sp, $fp, 8\n",
    "\tlw $t8, y_\n",
    "\tsub $t8, $t8, 3\n",
    "\tmul $t8, $t8, 44\n",
    "\tsw $0, x_+16($t8)\n",
    "\tlw $t0, y_\n",
    "\tsub $t0, $t0, 3\n",
    "\tmul $t0, $t0, 44\n",
    "\tlw $t7, y_\n",
    "\tadd $t7, $t7, 1\n",
    "\tsub $t7, $t7, 1\n",
    "\tmul $t7, $t7, 4\n",
    "\tadd $t7, $t0, $t7\n",
    "\tlw $t5, x_($t7)\n",
    "\tsw $t5, b_\n",
    "\tadd $sp, $fp, 0\n",
    "\tlw $ra, -8($fp)\n",
    "\tlw $fp, -4($fp)\n",
    "\tjr $ra\n",
    "\tli $v0, 10\n",
    "\tsyscall\n",
    "\t.end main\n",
    "```"
   ]
  },
  {
   "cell_type": "code",
   "execution_count": null,
   "metadata": {},
   "outputs": [],
   "source": [
    "compileString(\"\"\"\n",
    "type R = boolean\n",
    "type S = 1..11 → R\n",
    "type T = 3..9 → S\n",
    "var x: T\n",
    "var y: integer\n",
    "var b: boolean\n",
    "program p\n",
    "  x[y][5] := false\n",
    "  b := x[y][y + 1]\n",
    "\"\"\", 'twoD.s', target = 'mips')"
   ]
  }
 ],
 "metadata": {
  "kernelspec": {
   "display_name": "Python 3",
   "language": "python",
   "name": "python3"
  },
  "language_info": {
   "codemirror_mode": {
    "name": "ipython",
    "version": 3
   },
   "file_extension": ".py",
   "mimetype": "text/x-python",
   "name": "python",
   "nbconvert_exporter": "python",
   "pygments_lexer": "ipython3",
   "version": "3.6.9"
  },
  "toc": {
   "base_numbering": 1,
   "nav_menu": {},
   "number_sections": false,
   "sideBar": false,
   "skip_h1_title": true,
   "title_cell": "Table of Contents",
   "title_sidebar": "Contents",
   "toc_cell": false,
   "toc_position": {},
   "toc_section_display": true,
   "toc_window_display": false
  }
 },
 "nbformat": 4,
 "nbformat_minor": 2
}
