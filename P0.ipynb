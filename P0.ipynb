{
 "cells": [
  {
   "cell_type": "markdown",
   "metadata": {
    "hidePrompt": true
   },
   "source": [
    "## The P0 Compiler\n",
    "#### COMP SCI 4TB3/6TB3, McMaster University\n",
    "#### Original Author: Emil Sekerinski, revised March 2020\n",
    "\n",
    "This collection of _Jupyter notebooks_ develops a compiler for P0, a programming langauge inspired by Pascal, as Pascal was designed for ease of compilation. The compiler currently generates WebAssebmbly and MIPS code, but is modularized to facilitate other targets. WebAssembly is representive of stack-based virtual machines while the MIPS architecture is representative of Reduced Instruction Set Computing (RISC) processors.\n",
    "\n",
    "### The P0 Language\n",
    "The main syntactic elements of P0 are *statements*, *declarations*, *types*, and *expressions*.\n",
    "\n",
    "#### Statements\n",
    "* _Assignment statement_ (`d` designator, `e` expressions):\n",
    "      d := e\n",
    "* _Procedure call_ (`p` procedure identifier, `e₁`, `e₂`, … expressions, `d` designator):\n",
    "      p(e₁, e₂, …)\n",
    "      d ← p(e₁, e₂, …)\n",
    "* _Sequential composition_ (`S₁`, `S₂`, … statements):\n",
    "      S₁; S₂; …\n",
    "* _If-statements_ (`B` Boolean expression, `S`, `T` statements):\n",
    "\t  if B then S\n",
    "      if B then S else T\n",
    "* _While-statements_ (`B` Boolean expression, `S` statement):\n",
    "      while B do S\n",
    "\n",
    "#### Declarations\n",
    "* _Constant declaration_ (`c` constant identifier, `e` constant expression):\n",
    "      const c =  e\n",
    "* _Type declaration_ (`t` type identifier, `T` type):\n",
    "      type t = T\n",
    "* _Variable declaration_ (`x₁`, `x₂`, … variable identifiers, `T` type):\n",
    "      var x₁, x₂, …: T\n",
    "* _Procedure declaration_ (`p` procedure identifier, `v₁`, `v₂`, … variable identifiers, `T₁`, `T₂`, …, `U`  types, `D₁`, `D₂`, … declarations, `S` statement):\n",
    "      procedure p (v₁: T₁, v₂: T₂, …) → (r: U)\n",
    "          D₁\n",
    "          D₂\n",
    "          …\n",
    "              S\n",
    "\n",
    "#### Types\n",
    "* _Elementary Types:_\n",
    "      integer, boolean\n",
    "* _Arrays_ (`m`, `n` integer expressions, `T` type):\n",
    "      m .. n → T\n",
    "\n",
    "#### Expressions:\n",
    "* _Constants:_\n",
    "\t  number, identifier\n",
    "* _Designator_ (`x` identifier, `i` expression):\n",
    "      x\n",
    "\t  x[i]\n",
    "* _Operators,_ in order of their binding power (e, e₁, e₂ are expressions):\n",
    "\t  (e), ¬ e\n",
    "      e₁ × e₂, e₁ div e₂, e₁ mod e₂, e₁ and e₂\n",
    "      + e, – e, e₁ + e₂, e₁ – e₂, e₁ or e₂\n",
    "      e₁ = e₂, e₁ ≠ e₂, e₁ < e₂, e₁ ≤ e₂, e₁ > e₂, e₁ ≥ e₂\n",
    "\n",
    "Types `integer` and `boolean` and procedures `read`, `write`, `writeln` are not symbols of the grammar; they are _standard identifiers_ (*predefined identifiers*)."
   ]
  },
  {
   "cell_type": "markdown",
   "metadata": {},
   "source": [
    "### P0 Examples\n",
    "\n",
    "\n",
    "```Pascal\n",
    "procedure quot(x, y: integer) → (q: integer)\n",
    "    var r: integer\n",
    "      q := 0; r := x\n",
    "      while r ≥ y do { q × y + r = x ∧ r ≥ y }\n",
    "        r := r - y; q := q + 1\n",
    "\n",
    "program arithmetic\n",
    "    var x, y, q, r: integer\n",
    "      x ← read(); y ← read()\n",
    "      q ← quot(x, y)\n",
    "      write(q); writeln()\n",
    "```"
   ]
  },
  {
   "cell_type": "markdown",
   "metadata": {},
   "source": [
    "```Pascal\n",
    "procedure fact(n: integer) → (f: integer)\n",
    "    if n = 0 then f := 1\n",
    "    else\n",
    "        f ← fact(n - 1); f := f × n\n",
    "\n",
    "program factorial;\n",
    "    var y, z: integer\n",
    "        y ← read(); z ← fact(y); write(z)\n",
    "```"
   ]
  },
  {
   "cell_type": "markdown",
   "metadata": {},
   "source": [
    "```Pascal\n",
    "const N = 10\n",
    "var a: 0 .. N - 1 → integer\n",
    "\n",
    "procedure has(x: integer) → (r: boolean)\n",
    "    var i: integer\n",
    "        i := 0\n",
    "        while i < N and a[i] ≠ x do i := i + 1\n",
    "        r := i < N\n",
    "\n",
    "```"
   ]
  },
  {
   "cell_type": "markdown",
   "metadata": {},
   "source": [
    "### The P0 Grammar\n",
    "\n",
    "    designator ::= \"malloc\" ident \":\" type | ident { \"[\" expression \"]\" }\n",
    "    factor ::= designator | integer | \"(\" expression \")\" | \"¬\" factor\n",
    "    term ::= factor {(\"×\" | \"div\" | \"mod\" | \"and\") factor}\n",
    "    simpleExpression ::= [\"+\" | \"-\"] term {(\"+\" | \"-\" | \"or\") term}\n",
    "    expression ::= simpleExpression\n",
    "        {(\"=\" | \"≠\" | \"<\" | \"≤\" | \">\" | \"≥\") simpleExpression}\n",
    "    statementList ::= statement {\";\" statement}\n",
    "    statementBlock ::= statementList {statementList}\n",
    "    statementSuite ::= statementList | INDENT statementBlock DEDENT\n",
    "    statement ::=\n",
    "        designator \":=\" expression |\n",
    "        designator \"←\" ident \"(\" [expression {\",\" expression}] \")\" |\n",
    "        \"if\" expression \"then\" statementSuite [\"else\" statementSuite] |\n",
    "        \"while\" expression \"do\" statementSuite\n",
    "    type ::=\n",
    "        ident |\n",
    "        expression \"..\" expression \"→\" type\n",
    "    typedIds ::= ident \":\" type {\",\" ident \":\" type}\n",
    "    declarations ::= \n",
    "        {\"const\" ident \"=\" expression}\n",
    "        {\"type\" ident \"=\" type}\n",
    "        {\"var\" typedIds}\n",
    "        {\"procedure\" ident \"(\" [typedIds] \")\" [ \"→\" \"(\" typedIds \")\" ] body}\n",
    "    body ::= INDENT declarations (statementBlock | INDENT statementBlock DEDENT) DEDENT\n",
    "    program ::= declarations \"program\" ident body"
   ]
  },
  {
   "cell_type": "markdown",
   "metadata": {
    "hidePrompt": true
   },
   "source": [
    "### Modularization\n",
    "<div><span style=\"float:right\"><img width=\"60%\" src=\"modularization.svg\"/></span></div>\n",
    "\n",
    "- The parser, `P0`, parses the source text, type-checks it, evaluates constant expressions, and generates target code, in one pass over the source text.\n",
    "- The scanner, `SC`, reads characters of the source text and provides the next symbol to the parser; it allows errors to be reported at the current position in the source text.\n",
    "- The symbol table, `ST`, stores all currently valid declarations, as needed for type-checking.\n",
    "- The code generator, `CG`, provides the parser with procedures for generating code for P0 expressions, statements, and variable declarations, and procedure declarations.\n",
    "\n",
    "The parser is the main program that calls the scanner, symbol table, and code generator. All call the scanner for error reporting. The code generator augments the entries in the the symbol table, for example with the size and location of variables. There are three code generators: `CCGwat` generates WebAssembly code, `CGmips` generates MIPS code, and `CGast` generates only an abstract syntax tree."
   ]
  },
  {
   "cell_type": "markdown",
   "metadata": {},
   "source": [
    "### The Parser\n",
    "The scanner and symbol table are always imported. Depending on the selected target, a different code generator is imported when compilation starts."
   ]
  },
  {
   "cell_type": "code",
   "execution_count": null,
   "metadata": {},
   "outputs": [],
   "source": [
    "import nbimporter; nbimporter.options[\"only_defs\"] = False\n",
    "import SC  #  used for SC.init, SC.sym, SC.val, SC.error\n",
    "from SC import TIMES, DIV, MOD, AND, PLUS, MINUS, OR, EQ, NE, LT, GT, \\\n",
    "    LE, GE, PERIOD, COMMA, COLON, NOT, LPAREN, RPAREN, LBRAK, RBRAK, \\\n",
    "    LARROW, RARROW, OF, THEN, DO, BECOMES, NUMBER, IDENT, SEMICOLON, ELSE, \\\n",
    "    IF, WHILE, ARRAY, RECORD, CONST , TYPE, VAR, PROCEDURE, PROGRAM, \\\n",
    "    INDENT, DEDENT, NL, EOF, getSym, mark, MALLOC\n",
    "\n",
    "import ST  #  used for ST.init\n",
    "from ST import Var, Ref, Const, Type, Proc, StdProc, Int, Bool, Enum, \\\n",
    "    Record, Array, newDecl, find, openScope, topScope, closeScope"
   ]
  },
  {
   "cell_type": "markdown",
   "metadata": {},
   "source": [
    "The first sets for recursive descent parsing are:"
   ]
  },
  {
   "cell_type": "code",
   "execution_count": 1,
   "metadata": {},
   "outputs": [
    {
     "ename": "NameError",
     "evalue": "name 'IDENT' is not defined",
     "output_type": "error",
     "traceback": [
      "\u001b[0;31m---------------------------------------------------------------------------\u001b[0m",
      "\u001b[0;31mNameError\u001b[0m                                 Traceback (most recent call last)",
      "\u001b[0;32m<ipython-input-1-bf3ef7be7418>\u001b[0m in \u001b[0;36m<module>\u001b[0;34m\u001b[0m\n\u001b[0;32m----> 1\u001b[0;31m \u001b[0mFIRSTFACTOR\u001b[0m \u001b[0;34m=\u001b[0m \u001b[0;34m{\u001b[0m\u001b[0mIDENT\u001b[0m\u001b[0;34m,\u001b[0m \u001b[0mNUMBER\u001b[0m\u001b[0;34m,\u001b[0m \u001b[0mLPAREN\u001b[0m\u001b[0;34m,\u001b[0m \u001b[0mNOT\u001b[0m\u001b[0;34m}\u001b[0m\u001b[0;34m\u001b[0m\u001b[0;34m\u001b[0m\u001b[0m\n\u001b[0m\u001b[1;32m      2\u001b[0m \u001b[0mFIRSTEXPRESSION\u001b[0m \u001b[0;34m=\u001b[0m \u001b[0;34m{\u001b[0m\u001b[0mPLUS\u001b[0m\u001b[0;34m,\u001b[0m \u001b[0mMINUS\u001b[0m\u001b[0;34m,\u001b[0m \u001b[0mIDENT\u001b[0m\u001b[0;34m,\u001b[0m \u001b[0mNUMBER\u001b[0m\u001b[0;34m,\u001b[0m \u001b[0mLPAREN\u001b[0m\u001b[0;34m,\u001b[0m \u001b[0mNOT\u001b[0m\u001b[0;34m}\u001b[0m\u001b[0;34m\u001b[0m\u001b[0;34m\u001b[0m\u001b[0m\n\u001b[1;32m      3\u001b[0m \u001b[0mFIRSTSTATEMENT\u001b[0m \u001b[0;34m=\u001b[0m \u001b[0;34m{\u001b[0m\u001b[0mMALLOC\u001b[0m\u001b[0;34m,\u001b[0m\u001b[0mIDENT\u001b[0m\u001b[0;34m,\u001b[0m \u001b[0mIF\u001b[0m\u001b[0;34m,\u001b[0m \u001b[0mWHILE\u001b[0m\u001b[0;34m}\u001b[0m\u001b[0;34m\u001b[0m\u001b[0;34m\u001b[0m\u001b[0m\n\u001b[1;32m      4\u001b[0m \u001b[0mFIRSTTYPE\u001b[0m \u001b[0;34m=\u001b[0m \u001b[0;34m{\u001b[0m\u001b[0mIDENT\u001b[0m\u001b[0;34m,\u001b[0m \u001b[0mRECORD\u001b[0m\u001b[0;34m,\u001b[0m \u001b[0mARRAY\u001b[0m\u001b[0;34m,\u001b[0m \u001b[0mLPAREN\u001b[0m\u001b[0;34m}\u001b[0m\u001b[0;34m\u001b[0m\u001b[0;34m\u001b[0m\u001b[0m\n\u001b[1;32m      5\u001b[0m \u001b[0mFIRSTDECL\u001b[0m \u001b[0;34m=\u001b[0m \u001b[0;34m{\u001b[0m\u001b[0mCONST\u001b[0m\u001b[0;34m,\u001b[0m \u001b[0mTYPE\u001b[0m\u001b[0;34m,\u001b[0m \u001b[0mVAR\u001b[0m\u001b[0;34m,\u001b[0m \u001b[0mPROCEDURE\u001b[0m\u001b[0;34m}\u001b[0m\u001b[0;34m\u001b[0m\u001b[0;34m\u001b[0m\u001b[0m\n",
      "\u001b[0;31mNameError\u001b[0m: name 'IDENT' is not defined"
     ]
    }
   ],
   "source": [
    "FIRSTFACTOR = {IDENT, NUMBER, LPAREN, NOT}\n",
    "FIRSTEXPRESSION = {PLUS, MINUS, IDENT, NUMBER, LPAREN, NOT}\n",
    "FIRSTSTATEMENT = {MALLOC, IDENT, IF, WHILE}\n",
    "FIRSTTYPE = {IDENT, RECORD, ARRAY, LPAREN}\n",
    "FIRSTDECL = {CONST, TYPE, VAR, PROCEDURE}"
   ]
  },
  {
   "cell_type": "markdown",
   "metadata": {},
   "source": [
    "Procedure `designator()` parses\n",
    "\n",
    "    designator ::= ident { \"[\" expression \"]\" }\n",
    "\n",
    "and generates code for the designator if not error is reported. If the designator is a constant, a `Const` item is returned (and code may not be generated); if the designator is not a constant, the location of the result is returned. "
   ]
  },
  {
   "cell_type": "code",
   "execution_count": 2,
   "metadata": {},
   "outputs": [],
   "source": [
    "def designator():\n",
    "    x = find(SC.val)\n",
    "    if type(x) == Var: x = CG.genVar(x); getSym()\n",
    "    elif type(x) == Const: x = Const(x.tp, x.val); x = CG.genConst(x); getSym()\n",
    "    else: mark('designator expected')\n",
    "    while SC.sym == LBRAK:\n",
    "        getSym(); y = expression()\n",
    "        if type(x.tp) == Array:\n",
    "            if y.tp == Int:\n",
    "                if type(y) == Const and (y.val < x.tp.lower or y.val >= x.tp.lower + x.tp.length):\n",
    "                    mark('index out of bounds')\n",
    "                else: x = CG.genIndex(x, y)\n",
    "            else: mark('index not integer')\n",
    "        else: mark('not an array')\n",
    "        if SC.sym == RBRAK: getSym()\n",
    "        else: mark(\"] expected\")\n",
    "    return x"
   ]
  },
  {
   "cell_type": "markdown",
   "metadata": {},
   "source": [
    "Procedure `factor()` parses\n",
    "\n",
    "    factor ::= designator | integer | \"(\" expression \")\" | \"¬\" factor.\n",
    "\n",
    "and generates code for the factor if no error is reported. If the factor is a constant, a `Const` item is returned (and code may not be generated); if the factor is not a constant, the location of the result is returned. "
   ]
  },
  {
   "cell_type": "code",
   "execution_count": null,
   "metadata": {},
   "outputs": [],
   "source": [
    "def factor():\n",
    "    if SC.sym == IDENT: x = designator()\n",
    "    elif SC.sym == NUMBER:\n",
    "        x = Const(Int, SC.val); x = CG.genConst(x); getSym()\n",
    "    elif SC.sym == LPAREN:\n",
    "        getSym(); x = expression()\n",
    "        if SC.sym == RPAREN: getSym()\n",
    "        else: mark(\") expected\")\n",
    "    elif SC.sym == NOT:\n",
    "        getSym(); x = factor()\n",
    "        if x.tp != Bool: mark('not boolean')\n",
    "        elif type(x) == Const: x.val = 1 - x.val # constant folding\n",
    "        else: x = CG.genUnaryOp(NOT, x)\n",
    "    else: mark(\"expression expected\")\n",
    "    return x"
   ]
  },
  {
   "cell_type": "markdown",
   "metadata": {},
   "source": [
    "Procedure `term()` parses\n",
    "\n",
    "    term ::= factor {(\"×\" | \"div\" | \"mod\" | \"and\") factor}.\n",
    "\n",
    "and generates code for the term if no error is reported. If the term is a constant, a `Const` item is returned (and code may not be generated); if the term is not a constant, the location of the result is returned. "
   ]
  },
  {
   "cell_type": "code",
   "execution_count": null,
   "metadata": {},
   "outputs": [],
   "source": [
    "def term():\n",
    "    x = factor()\n",
    "    while SC.sym in {TIMES, DIV, MOD, AND}:\n",
    "        op = SC.sym; getSym();\n",
    "        if op == AND and type(x) != Const: x = CG.genUnaryOp(AND, x)\n",
    "        y = factor() # x op y\n",
    "        if x.tp == Int == y.tp and op in {TIMES, DIV, MOD}:\n",
    "            if type(x) == Const == type(y): # constant folding\n",
    "                if op == TIMES: x.val = x.val * y.val\n",
    "                elif op == DIV: x.val = x.val // y.val\n",
    "                elif op == MOD: x.val = x.val % y.val\n",
    "            else: x = CG.genBinaryOp(op, x, y)\n",
    "        elif x.tp == Bool == y.tp and op == AND:\n",
    "            if type(x) == Const: # constant folding\n",
    "                if x.val: x = y # if x is true, take y, else x\n",
    "            else: x = CG.genBinaryOp(AND, x, y)\n",
    "        else: mark('bad type')\n",
    "    return x"
   ]
  },
  {
   "cell_type": "markdown",
   "metadata": {},
   "source": [
    "Procedure `simpleExpression()` parses\n",
    "\n",
    "    simpleExpression ::= [\"+\" | \"-\"] term {(\"+\" | \"-\" | \"or\") term}.\n",
    "\n",
    "and generates code for the simple expression if no error is reported. If the simple expression is a constant, a `Const` item is returned (and code may not be generated); if the simple expression is not constant, the location of the result is returned. "
   ]
  },
  {
   "cell_type": "code",
   "execution_count": null,
   "metadata": {
    "code_folding": []
   },
   "outputs": [],
   "source": [
    "def simpleExpression():\n",
    "    if SC.sym == PLUS:\n",
    "        getSym(); x = term()\n",
    "    elif SC.sym == MINUS:\n",
    "        getSym(); x = term()\n",
    "        if x.tp != Int: mark('bad type')\n",
    "        elif type(x) == Const: x.val = - x.val # constant folding\n",
    "        else: x = CG.genUnaryOp(MINUS, x)\n",
    "    else: x = term()\n",
    "    while SC.sym in {PLUS, MINUS, OR}:\n",
    "        op = SC.sym; getSym()\n",
    "        if op == OR and type(x) != Const: x = CG.genUnaryOp(OR, x)\n",
    "        y = term() # x op y\n",
    "        if x.tp == Int == y.tp and op in {PLUS, MINUS}:\n",
    "            if type(x) == Const == type(y): # constant folding\n",
    "                if op == PLUS: x.val = x.val + y.val\n",
    "                elif op == MINUS: x.val = x.val - y.val\n",
    "            else: x = CG.genBinaryOp(op, x, y)\n",
    "        elif x.tp == Bool == y.tp and op == OR:\n",
    "            if type(x) == Const: # constant folding\n",
    "                if not x.val: x = y # if x is false, take y, else x\n",
    "            else: x = CG.genBinaryOp(OR, x, y)\n",
    "        else: mark('bad type')\n",
    "    return x"
   ]
  },
  {
   "cell_type": "markdown",
   "metadata": {},
   "source": [
    "Procedure `expression()` parses\n",
    "\n",
    "    expression ::= simpleExpression\n",
    "                 {(\"=\" | \"≠\" | \"<\" | \"≤\" | \">\" | \"≥\") simpleExpression}.\n",
    "\n",
    "and generates code for the expression if no error is reported. If the expression is a constant, a `Const` item is returned (and code may not be generated); if the expression is not constant, the location of the result is returned. "
   ]
  },
  {
   "cell_type": "code",
   "execution_count": null,
   "metadata": {},
   "outputs": [],
   "source": [
    "def expression():\n",
    "    x = simpleExpression()\n",
    "    while SC.sym in {EQ, NE, LT, LE, GT, GE}:\n",
    "        op = SC.sym; getSym(); y = simpleExpression() # x op y\n",
    "        if x.tp == y.tp in (Int, Bool):\n",
    "            if type(x) == Const == type(y): # constant folding\n",
    "                if op == EQ: x.val = x.val == y.val\n",
    "                elif op == NE: x.val = x.val != y.val\n",
    "                elif op == LT: x.val = x.val < y.val\n",
    "                elif op == LE: x.val = x.val <= y.val\n",
    "                elif op == GT: x.val = x.val > y.val\n",
    "                elif op == GE: x.val = x.val >= y.val\n",
    "                x.tp = Bool\n",
    "            else: x = CG.genRelation(op, x, y)\n",
    "        else: mark('bad type')\n",
    "    return x"
   ]
  },
  {
   "cell_type": "markdown",
   "metadata": {
    "collapsed": true
   },
   "source": [
    "Procedure `statementList()` parses\n",
    "\n",
    "    statementList ::= statement {\";\" statement}\n",
    "\n",
    "and generates code for the statement list if no error is reported."
   ]
  },
  {
   "cell_type": "code",
   "execution_count": null,
   "metadata": {},
   "outputs": [],
   "source": [
    "def statementList():\n",
    "    x = statement()\n",
    "    while SC.sym == SEMICOLON:\n",
    "        getSym(); y = statement(); x = CG.genSeq(x, y)\n",
    "    return x"
   ]
  },
  {
   "cell_type": "markdown",
   "metadata": {
    "collapsed": true
   },
   "source": [
    "Procedure `statementBlock()` parses\n",
    "\n",
    "    statementBlock ::= statementList {statementList}\n",
    "\n",
    "and generates code for the statement block if no error is reported. Each statement list has to start on a new line."
   ]
  },
  {
   "cell_type": "code",
   "execution_count": null,
   "metadata": {},
   "outputs": [],
   "source": [
    "def statementBlock():\n",
    "    x = statementList()\n",
    "    while SC.sym in FIRSTSTATEMENT:\n",
    "        if not SC.newline: mark('new line expected')\n",
    "        y = statementList(); x = CG.genSeq(x, y)\n",
    "    return x"
   ]
  },
  {
   "cell_type": "markdown",
   "metadata": {
    "collapsed": true
   },
   "source": [
    "Procedure `statementSuite()` parses\n",
    "\n",
    "    statementSuite ::= statementList | INDENT statementBlock DEDENT\n",
    "\n",
    "and generates code for the statement suite if no error is reported."
   ]
  },
  {
   "cell_type": "code",
   "execution_count": null,
   "metadata": {},
   "outputs": [],
   "source": [
    "def statementSuite():\n",
    "    if SC.sym in FIRSTSTATEMENT: x = statementList()\n",
    "    elif SC.sym == INDENT:\n",
    "        getSym(); x = statementBlock()\n",
    "        if SC.sym == DEDENT: getSym();\n",
    "        else: mark('dedent expected')\n",
    "    else: mark(\"(indented) statement expected!\")\n",
    "    return x"
   ]
  },
  {
   "cell_type": "markdown",
   "metadata": {},
   "source": [
    "Procedure `statement()` parses\n",
    "\n",
    "    statement ::=\n",
    "        designator \":=\" expression |\n",
    "        designator \"←\" ident \"(\" [expression {\",\" expression}] \")\" |\n",
    "        \"if\" expression \"then\" statementSuite [\"else\" statementSuite] |\n",
    "        \"while\" expression \"do\" statementSuite\n",
    "\n",
    "and generates code for the statement if no error is reported."
   ]
  },
  {
   "cell_type": "code",
   "execution_count": null,
   "metadata": {},
   "outputs": [],
   "source": [
    "def statement():\n",
    "    if SC.sym == MALLOC:\n",
    "        getSym(); \n",
    "        if SC.sym == IDENT: i = SC.val; getSym()\n",
    "        else: mark(\"identifier expected\")\n",
    "        if SC.sym == COLON: getSym()\n",
    "        else: mark(\"':' expected\")\n",
    "        tp = typ().val\n",
    "        newDecl(i, Var(tp))\n",
    "        x = find(i)\n",
    "        if SC.sym == BECOMES:\n",
    "            getSym(); y = expression(); call = False # x := y\n",
    "            if x.tp == y.tp in {Bool, Int}: x = CG.genAssign(x, y)\n",
    "            else: mark('incompatible assignment')\n",
    "        elif SC.sym == LARROW:\n",
    "            getSym()\n",
    "            if SC.sym == IDENT: y = find(SC.val); getSym(); call = True\n",
    "            else: mark('procedure identifier expected')\n",
    "            if type(y) in {Proc, StdProc}:\n",
    "                if len(y.res) != 1 or x.tp != y.res[0].tp: mark('incompatible call')\n",
    "            else: mark('procedure expected')\n",
    "        else: mark(':= or ← expected')\n",
    "        return x\n",
    "    elif SC.sym == IDENT: # x := y, y(...), x ← y(...)\n",
    "        # type(x) == Proc, StdProc: check no result parameters needed; call, y := true, x\n",
    "        # type(x) ≠ Proc, StdProc: x := designator():\n",
    "        #   sym == BECOMES: assignment; call := false\n",
    "        #   sym == LARROW: check result paramter match, type(y) is Proc, StdProc, \n",
    "        x = find(SC.val)\n",
    "        if type(x) in {Proc, StdProc}: # call\n",
    "            if x.res != []: mark('designator for result expected')\n",
    "            getSym(); call, y, x = True, x, None\n",
    "        elif type(x) in {Var, Ref}:\n",
    "            x = designator()\n",
    "            if SC.sym == BECOMES:\n",
    "                getSym(); y = expression(); call = False # x := y\n",
    "                if x.tp == y.tp in {Bool, Int}: x = CG.genAssign(x, y)\n",
    "                else: mark('incompatible assignment')\n",
    "            elif SC.sym == LARROW:\n",
    "                getSym()\n",
    "                if SC.sym == IDENT: y = find(SC.val); getSym(); call = True\n",
    "                else: mark('procedure identifier expected')\n",
    "                if type(y) in {Proc, StdProc}:\n",
    "                    if len(y.res) != 1 or x.tp != y.res[0].tp: mark('incompatible call')\n",
    "                else: mark('procedure expected')\n",
    "            else: mark(':= or ← expected')\n",
    "        else: mark(\"variable or procedure expected\")\n",
    "        if call: # call y(ap) or x ← y(ap)\n",
    "            fp, ap, i = y.par, [], 0   #  list of formals, list of actuals\n",
    "            if SC.sym == LPAREN: getSym()\n",
    "            else: mark(\"'(' expected\")\n",
    "            if SC.sym in FIRSTEXPRESSION:\n",
    "                a = expression()\n",
    "                if i < len(fp):\n",
    "                    if fp[i].tp == a.tp: ap.append(CG.genActualPara(a, fp[i], i))\n",
    "                    else: mark('incompatible parameter')\n",
    "                else: mark('extra parameter')\n",
    "                i = i + 1\n",
    "                while SC.sym == COMMA:\n",
    "                    getSym()\n",
    "                    a = expression()\n",
    "                    if i < len(fp):\n",
    "                        if fp[i].tp == a.tp: ap.append(CG.genActualPara(a, fp[i], i))\n",
    "                        else: mark('incompatible parameter')\n",
    "                    else: mark('extra parameter')\n",
    "                    i = i + 1\n",
    "            if SC.sym == RPAREN: getSym()\n",
    "            else: mark(\"')' expected\")\n",
    "            if i < len(fp): mark('too few parameters')\n",
    "            elif type(y) == StdProc:\n",
    "                if y.name == 'read': x = CG.genRead(x)\n",
    "                elif y.name == 'write': x = CG.genWrite(a)\n",
    "                elif y.name == 'writeln': x = CG.genWriteln()\n",
    "            else: x = CG.genCall(x, y, ap)\n",
    "    elif SC.sym == IF:\n",
    "        getSym(); x = expression();\n",
    "        if x.tp == Bool: x = CG.genThen(x)\n",
    "        else: mark('boolean expected')\n",
    "        if SC.sym == THEN: getSym()\n",
    "        else: mark(\"'then' expected\")\n",
    "        y = statementSuite()\n",
    "        if SC.sym == ELSE:\n",
    "            getSym()\n",
    "            y = CG.genElse(x, y)\n",
    "            z = statementSuite()\n",
    "            x = CG.genIfElse(x, y, z)\n",
    "        else:\n",
    "            x = CG.genIfThen(x, y)\n",
    "    elif SC.sym == WHILE:\n",
    "        getSym(); t = CG.genWhile(); x = expression()\n",
    "        if x.tp == Bool: x = CG.genDo(x)\n",
    "        else: mark('boolean expected')\n",
    "        if SC.sym == DO: getSym()\n",
    "        else: mark(\"'do' expected\")\n",
    "        y = statementSuite()\n",
    "        x = CG.genWhileDo(t, x, y)\n",
    "    else: mark('statement expected')\n",
    "    return x"
   ]
  },
  {
   "cell_type": "markdown",
   "metadata": {},
   "source": [
    "Procedure `typ` parses\n",
    "\n",
    "    type ::=\n",
    "        ident |\n",
    "        expression \"..\" expression \"→\" type\n",
    "\n",
    "and returns a type descriptor if not error is reported. The array bound are checked to be constants; the lower bound must be smaller or equal to the upper bound."
   ]
  },
  {
   "cell_type": "code",
   "execution_count": null,
   "metadata": {},
   "outputs": [],
   "source": [
    "def typ():\n",
    "    if SC.sym == IDENT:\n",
    "        ident = SC.val; x = find(ident)\n",
    "        if type(x) == Type: x = Type(x.val); getSym()\n",
    "        else: x = None\n",
    "    else: x = None\n",
    "    if not x:\n",
    "        x = expression()\n",
    "        if SC.sym == PERIOD: getSym()\n",
    "        else: mark(\"'.' expected\")\n",
    "        if SC.sym == PERIOD: getSym()\n",
    "        else: mark(\"'.' expected\")\n",
    "        y = expression()\n",
    "        if SC.sym == RARROW: getSym()\n",
    "        else: mark(\"'→' expected\")\n",
    "        z = typ().val;\n",
    "        if type(x) != Const or x.val < 0: mark('bad lower bound')\n",
    "        elif type(y) != Const or y.val < x.val: mark('bad upper bound')\n",
    "        else: x = Type(CG.genArray(Array(z, x.val, y.val - x.val + 1)))\n",
    "    return x"
   ]
  },
  {
   "cell_type": "markdown",
   "metadata": {},
   "source": [
    "Procedure `typeIds()` parses\n",
    "\n",
    "    typedIds ::= ident \":\" type {\",\" ident \":\" type}.\n",
    "\n",
    "and updates the top scope of symbol table; an error is reported if an identifier is already in the top scope."
   ]
  },
  {
   "cell_type": "code",
   "execution_count": null,
   "metadata": {},
   "outputs": [],
   "source": [
    "def typedIds():\n",
    "    if SC.sym == IDENT: tid = [SC.val]; getSym()\n",
    "    else: mark(\"identifier expected\")\n",
    "    while SC.sym == COMMA:\n",
    "        getSym()\n",
    "        if SC.sym == IDENT: tid.append(SC.val); getSym()\n",
    "        else: mark('identifier expected')\n",
    "    if SC.sym == COLON: getSym()\n",
    "    else: mark(\"':' expected\")\n",
    "    tp = typ().val\n",
    "    for i in tid: newDecl(i, Var(tp))\n",
    "    while SC.sym == COMMA:\n",
    "        getSym()\n",
    "        if SC.sym == IDENT: tid = [SC.val]; getSym()\n",
    "        else: mark(\"identifier expected\")\n",
    "        while SC.sym == COMMA:\n",
    "            getSym()\n",
    "            if SC.sym == IDENT: tid.append(SC.val); getSym()\n",
    "            else: mark('identifier expected')\n",
    "        if SC.sym == COLON: getSym()\n",
    "        else: mark(\"':' expected\")\n",
    "        tp = typ().val\n",
    "        for i in tid: newDecl(i, Var(tp))"
   ]
  },
  {
   "cell_type": "markdown",
   "metadata": {},
   "source": [
    "Procedure `declarations(allocVar)` parses\n",
    "\n",
    "    declarations ::= \n",
    "        {\"const\" ident \"=\" expression}\n",
    "        {\"type\" ident \"=\" type}\n",
    "        {\"var\" typedIds}\n",
    "        {\"procedure\" ident \"(\" [typedIds] \")\" [ \"→\" \"(\" typedIds \")\" ] body}\n",
    "\n",
    "and updates the top scope of symbol table; an error is reported if an identifier is already in the top scope. An error is also reported if the expression of a constant declarations is not constant. For each procedure, a new scope is opened for its formal parameters and local declarations, the formal parameters and added to the symbol table, and code is generated for the body. The size of the variable declarations is returned, as determined by calling paramater `allocVar`."
   ]
  },
  {
   "cell_type": "code",
   "execution_count": null,
   "metadata": {},
   "outputs": [],
   "source": [
    "def declarations(allocVar):\n",
    "    while SC.sym == CONST:\n",
    "        getSym()\n",
    "        if SC.sym == IDENT: ident = SC.val; getSym()\n",
    "        else: mark(\"constant name expected\")\n",
    "        if SC.sym == EQ: getSym()\n",
    "        else: mark(\"= expected\")\n",
    "        x = expression()\n",
    "        if type(x) == Const: newDecl(ident, x)\n",
    "        else: mark('expression not constant')\n",
    "    while SC.sym == TYPE:\n",
    "        getSym()\n",
    "        if SC.sym == IDENT: ident = SC.val; getSym()\n",
    "        else: mark(\"type name expected\")\n",
    "        if SC.sym == EQ: getSym()\n",
    "        else: mark(\"= expected\")\n",
    "        x = typ(); newDecl(ident, x)  #  x is of type ST.Type\n",
    "    start = len(topScope())\n",
    "    while SC.sym == VAR:\n",
    "        getSym(); typedIds()\n",
    "    varsize = allocVar(topScope(), start)\n",
    "    while SC.sym == PROCEDURE:\n",
    "        getSym()\n",
    "        if SC.sym == IDENT: ident = SC.val; getSym()\n",
    "        else: mark(\"procedure name expected\")\n",
    "        newDecl(ident, Proc([], [])) #  entered without parameters\n",
    "        sc = topScope(); openScope() # new scope for parameters and body\n",
    "        if SC.sym == LPAREN: getSym()\n",
    "        else: mark(\"( expected\")\n",
    "        if SC.sym == IDENT: typedIds()\n",
    "        fp = topScope()\n",
    "        if SC.sym == RPAREN: getSym()\n",
    "        else: mark(\") expected\")\n",
    "        d = len(fp)\n",
    "        if SC.sym == RARROW:\n",
    "            getSym()\n",
    "            if SC.sym == LPAREN: getSym()\n",
    "            else: mark('( expected')\n",
    "            typedIds()\n",
    "            if SC.sym == RPAREN: getSym()\n",
    "            else: mark(') expected')\n",
    "        sc[-1].par, sc[-1].res = fp[:d], fp[d:] #  procedure parameters updated\n",
    "        parsize = CG.genProcStart(ident, fp[:d], fp[d:])\n",
    "        body(ident, parsize); closeScope() #  scope for parameters and body closed\n",
    "    return varsize"
   ]
  },
  {
   "cell_type": "markdown",
   "metadata": {},
   "source": [
    "Procedure `body` parses\n",
    "\n",
    "    body ::= INDENT declarationBlock (statementBlock | INDENT statementBlock DEDENT) DEDENT\n",
    "\n",
    "and returns the generated code if no error is reported."
   ]
  },
  {
   "cell_type": "code",
   "execution_count": null,
   "metadata": {},
   "outputs": [],
   "source": [
    "def body(ident, parsize):\n",
    "    if SC.sym == INDENT: getSym()\n",
    "    else: mark('indent expected')\n",
    "    start = len(topScope())\n",
    "    localsize = declarations(CG.genLocalVars)\n",
    "    CG.genProcEntry(ident, parsize, localsize)\n",
    "    if SC.sym in FIRSTSTATEMENT: x = statementBlock()\n",
    "    elif SC.sym == INDENT:\n",
    "        getSym(); x = statementBlock()\n",
    "        if SC.sym == DEDENT: getSym()\n",
    "        else: mark('dedent expected')\n",
    "    else: mark('statement expected')\n",
    "    CG.genProcExit(x, parsize, localsize)\n",
    "    if SC.sym == DEDENT: getSym()\n",
    "    else: mark('dedent expected')\n",
    "    return x"
   ]
  },
  {
   "cell_type": "markdown",
   "metadata": {},
   "source": [
    "Procedure `program` parses\n",
    "\n",
    "    program ::= declarations \"program\" ident body\n",
    "    \n",
    "and returns the generated code if no error is reported. The standard identifiers are entered initially in the symbol table."
   ]
  },
  {
   "cell_type": "code",
   "execution_count": null,
   "metadata": {},
   "outputs": [],
   "source": [
    "def program():\n",
    "    newDecl('boolean', Type(CG.genBool(Bool)))\n",
    "    newDecl('integer', Type(CG.genInt(Int)))\n",
    "    newDecl('true', Const(Bool, 1))\n",
    "    newDecl('false', Const(Bool, 0))\n",
    "    newDecl('read', StdProc([], [Var(Int)]))\n",
    "    newDecl('write', StdProc([Var(Int)], []))\n",
    "    newDecl('writeln', StdProc([], []))\n",
    "    CG.genProgStart()\n",
    "    declarations(CG.genGlobalVars)\n",
    "    if SC.sym == PROGRAM: getSym()\n",
    "    else: mark(\"'program' expected, got\" + str(SC.sym))\n",
    "    ident = SC.val\n",
    "    if SC.sym == IDENT: getSym()\n",
    "    else: mark('program name expected')\n",
    "    openScope(); CG.genProgEntry(ident); x = body(ident, 0)\n",
    "    closeScope(); x = CG.genProgExit(x)\n",
    "    return x"
   ]
  },
  {
   "cell_type": "markdown",
   "metadata": {},
   "source": [
    "Procedure `compileString(src, dstfn, target)` compiles the source as given by string `src`; if `dstfn` is provided, the code is written to a file by that name, otherwise printed on the screen. If `target` is omitted, MIPS code is generated."
   ]
  },
  {
   "cell_type": "code",
   "execution_count": null,
   "metadata": {},
   "outputs": [],
   "source": [
    "def compileString(src, dstfn = None, target = 'wat'):\n",
    "    global CG\n",
    "    if target == 'wat': import CGwat as CG\n",
    "    elif target == 'mips': import CGmips as CG\n",
    "    elif target == 'ast': import CGast as CG\n",
    "    else: print('unknown target'); return\n",
    "    try:\n",
    "        SC.init(src); ST.init(); p = program()\n",
    "        if dstfn == None: print(p)\n",
    "        else:\n",
    "            with open(dstfn, 'w') as f: f.write(p)\n",
    "    except Exception as msg:\n",
    "        raise Exception(str(msg))\n",
    "        # print(msg)"
   ]
  },
  {
   "cell_type": "markdown",
   "metadata": {},
   "source": [
    "Procedure `compileFile(srcfn, target)` compiles the file named `scrfn`, which must have the extension `.p`, and generates assembly code in a file with extension `.s`. If `target` is omitted, MIPS code is generated."
   ]
  },
  {
   "cell_type": "code",
   "execution_count": null,
   "metadata": {},
   "outputs": [],
   "source": [
    "def compileFile(srcfn, target = 'wat'):\n",
    "    if srcfn.endswith('.p'):\n",
    "        with open(srcfn, 'r') as f: src = f.read()\n",
    "        dstfn = srcfn[:-2] + '.s'\n",
    "        compileString(src, dstfn, target)\n",
    "    else: print(\"'.p' file extension expected\")"
   ]
  },
  {
   "cell_type": "markdown",
   "metadata": {},
   "source": [
    "Sample usage (in code cell):\n",
    "\n",
    "    cd /path/to/my/prog\n",
    "    compileFile('myprog.p')"
   ]
  }
 ],
 "metadata": {
  "kernelspec": {
   "display_name": "Python 3",
   "language": "python",
   "name": "python3"
  },
  "language_info": {
   "codemirror_mode": {
    "name": "ipython",
    "version": 3
   },
   "file_extension": ".py",
   "mimetype": "text/x-python",
   "name": "python",
   "nbconvert_exporter": "python",
   "pygments_lexer": "ipython3",
   "version": "3.7.7"
  },
  "toc": {
   "base_numbering": 1,
   "nav_menu": {},
   "number_sections": false,
   "sideBar": false,
   "skip_h1_title": true,
   "title_cell": "Table of Contents",
   "title_sidebar": "Contents",
   "toc_cell": false,
   "toc_position": {},
   "toc_section_display": true,
   "toc_window_display": false
  }
 },
 "nbformat": 4,
 "nbformat_minor": 2
}
