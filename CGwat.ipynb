{
 "cells": [
  {
   "cell_type": "markdown",
   "metadata": {},
   "source": [
    "### P0 Code Generator for WASM\n",
    "#### Emil Sekerinski, March 2019, revised March 2020\n",
    "\n",
    "The generated code is kept in memory and all code generation procedures continuously append to that code: procedure `genProgStart` initializes the generator, then `gen`-prefixed procedures are to be called for P0 constructs in the same order in which they are recognized by a recursive descent parser, and finally procedure `genProgExit` returns the generated code in assembly language as a string in textual WebAssembly. The generation procedures are:\n",
    "- `genBool`, `genInt`, `genRec`, `genArray`\n",
    "- `genProgStart`, `genGlobalVars`, `genProgEntry`, `genProgExit`\n",
    "- `genProcStart`, `genActualPara`, `genLocalVars`, `genProcEntry`, `genProcExit`\n",
    "- `genIndex`, `genVar`, `genConst`, `genUnaryOp`, `genBinaryOp`, `genRelation`\n",
    "- `genAssign`, `genActualPara`, `genCall`, `genRead`, `genWrite`, `genWriteln`\n",
    "- `genSeq`, `genThen`, `genIfThen`, `genElse`, `genIfElse`, `genWhile`, `genDo`, `genWhileDo`\n",
    "\n",
    "Errors in the code generator are reported by calling `mark` of the scanner. The data types of the symbol table are used to specify the P0 constructs for which code is to be generated."
   ]
  },
  {
   "cell_type": "code",
   "execution_count": null,
   "metadata": {},
   "outputs": [],
   "source": [
    "import nbimporter; nbimporter.options[\"only_defs\"] = False\n",
    "from SC import TIMES, DIV, MOD, AND, PLUS, MINUS, OR, EQ, NE, LT, GT, LE, \\\n",
    "     GE, NOT, mark\n",
    "from ST import indent, Var, Ref, Const, Type, Proc, StdProc, Int, Bool, Array, Record"
   ]
  },
  {
   "cell_type": "markdown",
   "metadata": {},
   "source": [
    "Following variables determine the state of the code generator:\n",
    "\n",
    "- `curlev` is the current level of nesting of P0 procedures\n",
    "- `memmax` is the size of the memory, in which records and arrays are allocated\n",
    "- `asm` is a list of strings with the WASM instruction in textual form"
   ]
  },
  {
   "cell_type": "markdown",
   "metadata": {},
   "source": [
    "Procedure `genProgStart()` initializes these variables."
   ]
  },
  {
   "cell_type": "code",
   "execution_count": null,
   "metadata": {},
   "outputs": [],
   "source": [
    "def genProgStart():\n",
    "    global curlev, memsize, asm\n",
    "    curlev, memsize = 0, 0\n",
    "    asm = ['(module',\n",
    "           '(import \"P0lib\" \"write\" (func $write (param i32)))',\n",
    "           '(import \"P0lib\" \"writeln\" (func $writeln))',\n",
    "           '(import \"P0lib\" \"read\" (func $read (result i32)))']"
   ]
  },
  {
   "cell_type": "markdown",
   "metadata": {},
   "source": [
    "Following procedures \"generate code\" for all P0 types by determining the size of objects and store in the `size` field.\n",
    "- Integers and booleans occupy 4 bytes\n",
    "- The size of a record is the sum of the sizes of its field; the offset of a field is the sum of the size of the preceding fields\n",
    "- The size of an array is its length times the size of the base type."
   ]
  },
  {
   "cell_type": "code",
   "execution_count": null,
   "metadata": {},
   "outputs": [],
   "source": [
    "def genBool(b):\n",
    "    # b is Bool\n",
    "    b.size = 1; return b\n",
    "\n",
    "def genInt(i):\n",
    "    # i is Int\n",
    "    i.size = 4; return i\n",
    "\n",
    "def genRec(r):\n",
    "    # r is Record\n",
    "    s = 0\n",
    "    for f in r.fields:\n",
    "        f.offset, s = s, s + f.tp.size\n",
    "    r.size = s\n",
    "    return r\n",
    "\n",
    "def genArray(a: Array):\n",
    "    # a is Array\n",
    "    a.size = a.length * a.base.size\n",
    "    return a"
   ]
  },
  {
   "cell_type": "markdown",
   "metadata": {},
   "source": [
    "The symbol table assigns to each entry the level of declaration in the field `lev: int`. Variables are assigned a `name: str` field by the symbol table and an `adr: int` field by the code generator. The use of the `lev` field is extended:\n",
    "- `lev > 0`: local `Int`, `Bool` variable or parameter allocated in the procedure (function) call frame, accessed by `name`,\n",
    "- `lev = 0`: global `Int`, `Bool` variable allocated as a WebAssembly global variable, accessed by `name`,\n",
    "- `lev = -1`: `Int`, `Bool` variable allocated on the expression stack,\n",
    "- `lev = -2`: `Int`, `Bool`, `Array`, `Record` variable allocated in the WebAssembly memory, accessed by `adr`."
   ]
  },
  {
   "cell_type": "markdown",
   "metadata": {},
   "source": [
    "For each declared global variable, `genGlobalVars(sc, start)` allocates a global WebAssembly variable by the same name, if the type is `Int` or `Bool`, or reserves space in the memory, if the type is `Array`, `Record`. The parameter `sc` contains the top scope with all declarations parsed so far; only variable declarations from index `start` on in the top scope are considered."
   ]
  },
  {
   "cell_type": "code",
   "execution_count": null,
   "metadata": {},
   "outputs": [],
   "source": [
    "def genGlobalVars(sc, start):\n",
    "    global memsize\n",
    "    for i in range(start, len(sc)):\n",
    "        if type(sc[i]) == Var:\n",
    "            if sc[i].tp in (Int, Bool):\n",
    "                asm.append('(global $' + sc[i].name + ' (mut i32) i32.const 0)')\n",
    "            elif type(sc[i].tp) in (Array, Record):\n",
    "                sc[i].lev, sc[i].adr, memsize = -2, memsize, memsize + sc[i].tp.size\n",
    "            else: mark('WASM: type?')\n",
    "    \n",
    "def genLocalVars(sc, start):\n",
    "    for i in range(start, len(sc)):\n",
    "        if type(sc[i]) == Var:\n",
    "            if sc[i].tp in (Int, Bool):\n",
    "                asm.append('(local $' + sc[i].name + ' i32)')\n",
    "            elif type(sc[i].tp) in (Array, Record):\n",
    "                mark('WASM: no local arrays, records')\n",
    "            else: mark('WASM: type?')\n",
    "    return None"
   ]
  },
  {
   "cell_type": "markdown",
   "metadata": {},
   "source": [
    "Procedure `loadItem(x)` generates code for loading `x` on the expression stack, assuming `x` is global `Var`, local `Var`, stack `Var`, memory `Var`, local `Ref`, stack `Ref`, `Const`."
   ]
  },
  {
   "cell_type": "code",
   "execution_count": null,
   "metadata": {},
   "outputs": [],
   "source": [
    "def loadItem(x):\n",
    "    if type(x) == Var:\n",
    "        if x.lev == 0: asm.append('global.get $' + x.name) # global Var\n",
    "        elif x.lev == curlev: asm.append('local.get $' + x.name) # local Var\n",
    "        elif x.lev == -2: # memory Var\n",
    "            asm.append('i32.const ' + str(x.adr))\n",
    "            asm.append('i32.load')\n",
    "        elif x.lev != -1: mark('WASM: var level!') # already on stack if lev == -1\n",
    "    elif type(x) == Ref:\n",
    "        if x.lev == -1: asm.append('i32.load')\n",
    "        elif x.lev == curlev:\n",
    "            asm.append('local.get $' + x.name)\n",
    "            asm.append('i32.load')\n",
    "        else: mark('WASM: ref level!')\n",
    "    elif type(x) == Const: asm.append('i32.const ' + str(x.val))"
   ]
  },
  {
   "cell_type": "code",
   "execution_count": null,
   "metadata": {},
   "outputs": [],
   "source": [
    "def genVar(x):\n",
    "    # x is Var, Ref\n",
    "    if 0 < x.lev < curlev: mark('WASM: level!')\n",
    "    if type(x) == Ref:\n",
    "        y = Ref(x.tp); y.lev, y.name = x.lev, x.name\n",
    "        # if type(x.tp) in (Array, Record):\n",
    "        #    if x.lev > 0: y.name = x.name \n",
    "    elif type(x) == Var:\n",
    "        y = Var(x.tp); y.lev, y.name = x.lev, x.name\n",
    "        # if x.lev >= 0: y.name = x.name\n",
    "        if x.lev == -2: y.adr = x.adr\n",
    "    return y"
   ]
  },
  {
   "cell_type": "markdown",
   "metadata": {},
   "source": [
    "Procedure `genConst(x)` does not need to generate any code."
   ]
  },
  {
   "cell_type": "code",
   "execution_count": null,
   "metadata": {},
   "outputs": [],
   "source": [
    "def genConst(x):\n",
    "    # x is Const\n",
    "    return x"
   ]
  },
  {
   "cell_type": "markdown",
   "metadata": {},
   "source": [
    "Procedure `genUnaryOp(op, x)` generates code for `op x` if `op` is `MINUS`, `NOT` and `x` is `Int`, `Bool`, respectively. If `op` is `AND`, `OR`, item `x` is the first operand and an `if` instruction is generated."
   ]
  },
  {
   "cell_type": "code",
   "execution_count": null,
   "metadata": {},
   "outputs": [],
   "source": [
    "def genUnaryOp(op, x):\n",
    "    loadItem(x)\n",
    "    if op == MINUS:\n",
    "        asm.append('i32.const -1')\n",
    "        asm.append('i32.mul')\n",
    "        x = Var(Int); x.lev = -1\n",
    "    elif op == NOT:\n",
    "        asm.append('i32.eqz')\n",
    "        x = Var(Bool); x.lev = -1\n",
    "    elif op == AND:\n",
    "        asm.append('if (result i32)')\n",
    "        x = Var(Bool); x.lev = -1\n",
    "    elif op == OR:\n",
    "        asm.append('if (result i32)')\n",
    "        asm.append('i32.const 1')\n",
    "        asm.append('else')\n",
    "        x = Var(Bool); x.lev = -1\n",
    "    else: mark('WASM: unary operator?')\n",
    "    return x"
   ]
  },
  {
   "cell_type": "markdown",
   "metadata": {},
   "source": [
    "Procedure `genBinaryOp(op, x, y)` generates code for `x op y` if `op` is `PLUS`, `MINUS`, `TIMES`, `DIV`, `MOD`. If `op` is `AND`, `OR`, code for `x` and the start of an `if` instruction has already been generated; code for `y` and the remainder of the `if` instruction is generated."
   ]
  },
  {
   "cell_type": "code",
   "execution_count": null,
   "metadata": {},
   "outputs": [],
   "source": [
    "def genBinaryOp(op, x, y):\n",
    "    if op in (PLUS, MINUS, TIMES, DIV, MOD):\n",
    "        loadItem(x); loadItem(y)\n",
    "        asm.append('i32.add' if op == PLUS else \\\n",
    "                   'i32.sub' if op == MINUS else \\\n",
    "                   'i32.mul' if op == TIMES else \\\n",
    "                   'i32.div_s' if op == DIV else \\\n",
    "                   'i32.rem_s' if op == MOD else '?')\n",
    "        x = Var(Int); x.lev = -1\n",
    "    elif op == AND:\n",
    "        loadItem(y) # x is already on the stack\n",
    "        asm.append('else')\n",
    "        asm.append('i32.const 0')\n",
    "        asm.append('end')\n",
    "        x = Var(Bool); x.lev = -1\n",
    "    elif op == OR:\n",
    "        loadItem(y) # x is already on the stack\n",
    "        asm.append('end')\n",
    "        x = Var(Bool); x.lev = -1\n",
    "    else: mark('WASM: binary operator?')\n",
    "    return x"
   ]
  },
  {
   "cell_type": "markdown",
   "metadata": {},
   "source": [
    "Procedure `genRelation(op, x, y)` generates code for `x op y` if `op` is `EQ`, `NE`, `LT`, `LE`, `GT`, `GE`."
   ]
  },
  {
   "cell_type": "code",
   "execution_count": null,
   "metadata": {},
   "outputs": [],
   "source": [
    "def genRelation(op, x, y):\n",
    "    loadItem(x); loadItem(y)\n",
    "    asm.append('i32.eq' if op == EQ else \\\n",
    "               'i32.ne' if op == NE else \\\n",
    "               'i32.lt_s' if op ==  LT else \\\n",
    "               'i32.gt_s' if op == GT else \\\n",
    "               'i32.le_s' if op == LE else \\\n",
    "               'i32.ge_s' if op == GE else '?')\n",
    "    x = Var(Bool); x.lev = -1\n",
    "    return x"
   ]
  },
  {
   "cell_type": "markdown",
   "metadata": {},
   "source": [
    "Procedure `genIndex(x, y)` generates code for `x[y]`, assuming `x` is `Var` or `Ref`, `x.tp` is `Array`, and `y.tp` is `Int`. If `y` is `Const`, only `x.adr` is updated and no code is generated, otherwise code for array index calculation is generated."
   ]
  },
  {
   "cell_type": "code",
   "execution_count": null,
   "metadata": {},
   "outputs": [],
   "source": [
    "def genIndex(x, y):\n",
    "    # x[y], assuming x.tp is Array and x is global Var, local Ref, stack Ref\n",
    "    # and y is Const, local Var, global Var, stack Var\n",
    "    if type(x) == Var: # at x.adr\n",
    "        if type(y) == Const: \n",
    "            x.adr += (y.val - x.tp.lower) * x.tp.base.size\n",
    "            x.tp = x.tp.base\n",
    "        else: # y is global Var, local Var, stack Var\n",
    "            loadItem(y) # y on stack\n",
    "            if x.tp.lower != 0:\n",
    "                asm.append('i32.const ' + str(x.tp.lower))\n",
    "                asm.append('i32.sub')\n",
    "            asm.append('i32.const ' + str(x.tp.base.size))\n",
    "            asm.append('i32.mul')\n",
    "            asm.append('i32.const ' + str(x.adr))\n",
    "            asm.append('i32.add')\n",
    "            x = Ref(x.tp.base); x.lev = -1\n",
    "    else: # x is local Ref, stack Ref; y is Const, global Var, local Var, stack Var\n",
    "        if x.lev == curlev: loadItem(x); x.lev = -1\n",
    "        if type(y) == Const:\n",
    "            asm.append('i32.const ' + str((y.val - x.tp.lower) * x.tp.base.size))\n",
    "            asm.append('i32.add')\n",
    "        else:\n",
    "            loadItem(y) # y on stack\n",
    "            asm.append('i32.const ' + str(x.tp.lower))\n",
    "            asm.append('i32.sub')\n",
    "            asm.append('i32.const ' + str(x.tp.base.size))\n",
    "            asm.append('i32.mul')\n",
    "            asm.append('i32.add')\n",
    "        x.tp = x.tp.base\n",
    "    return x"
   ]
  },
  {
   "cell_type": "markdown",
   "metadata": {},
   "source": [
    "Procedure `genAssign(x, y)` generates code for `x := y`, provided `x` is `Var`, `Ref` and `y` is `Var`, `Ref`."
   ]
  },
  {
   "cell_type": "code",
   "execution_count": null,
   "metadata": {},
   "outputs": [],
   "source": [
    "def genAssign(x, y):\n",
    "    if type(x) == Var:\n",
    "        if x.lev == -2: asm.append('i32.const ' + str(x.adr))\n",
    "        loadItem(y)\n",
    "        if x.lev == 0: asm.append('global.set $' + x.name)\n",
    "        elif x.lev == curlev: asm.append('local.set $' + x.name)\n",
    "        elif x.lev == -2: asm.append('i32.store')\n",
    "        else: mark('WASM: level!' + str(x.name) + str(x.lev) + \"curlev\" + str(curlev))\n",
    "    elif type(x) == Ref:\n",
    "        if x.lev == curlev: asm.append('local.get $' + x.name)\n",
    "        loadItem(y)\n",
    "        asm.append('i32.store')\n",
    "    else: mark('WASM: assignment?')"
   ]
  },
  {
   "cell_type": "code",
   "execution_count": null,
   "metadata": {},
   "outputs": [],
   "source": [
    "def genProgEntry(ident):\n",
    "    global curlev\n",
    "    curlev = curlev + 1\n",
    "    asm.append('(func $program')\n",
    "\n",
    "def genProgExit(x):\n",
    "    global curlev\n",
    "    curlev = curlev - 1\n",
    "    asm.append('(memory ' + str(memsize // 2** 16 + 1) + ')\\n(start $program)\\n)')\n",
    "    return '\\n'.join(l for l in asm)\n",
    "\n",
    "def genProcStart(ident, fp, rp):\n",
    "    global curlev\n",
    "    if curlev > 0: mark('WASM: no nested procedures')\n",
    "    curlev = curlev + 1\n",
    "    if len(rp) > 1: mark('WASM: no more than one result parameter')\n",
    "    asm.append('(func $' + ident + ' ' + ' '.join('(param $' + e.name + ' i32)' for e in fp) \\\n",
    "              + ' ' + ' '.join('(result i32)' for e in rp) \\\n",
    "              + ('\\n' if len(rp) > 0 else '') + '\\n'.join('(local $' + e.name + ' i32)' for e in rp))\n",
    "    for p in fp:\n",
    "        if p.tp in (Int, Bool) and type(p) == Ref:\n",
    "            mark('WASM: only array and record reference parameters')\n",
    "        elif type(p.tp) in (Array, Record) and type(p) == Var:\n",
    "            mark('WASM: no structured value parameters')\n",
    "    for p in rp:\n",
    "        if p.tp in (Int, Bool) and type(p) == Ref:\n",
    "            mark('WASM: only array and record reference parameters')\n",
    "        elif type(p.tp) in (Array, Record) and type(p) == Var:\n",
    "            mark('WASM: no structured result parameters')\n",
    "    return '\\n'.join('local.get $' + e.name for e in rp)\n",
    "\n",
    "def genProcEntry(ident, parsize, localsize):\n",
    "    pass\n",
    "\n",
    "def genProcExit(x, parsize, localsize):\n",
    "    global curlev\n",
    "    curlev = curlev - 1\n",
    "    asm.append((parsize if parsize else '') + ')')\n",
    "\n",
    "def genActualPara(ap, fp, n):\n",
    "    if type(fp) == Ref:  #  reference parameter, assume ap is Var\n",
    "        if ap.lev == -2: asm.append('i32.const ' + str(ap.adr))\n",
    "        # else ap.lev == -1, on stack already\n",
    "    elif type(ap) in (Var, Ref, Const): loadItem(ap)\n",
    "    else: mark('unsupported parameter type')\n",
    "\n",
    "def genCall(r, pr, ap): # result (or None), procedure, actual parameters\n",
    "    asm.append('call $' + pr.name)\n",
    "    if r: y = Var(Int); y.lev = -1; genAssign(r, y)\n",
    "\n",
    "def genRead(x):\n",
    "    asm.append('call $read')\n",
    "    y = Var(Int); y.lev = -1; genAssign(x, y)\n",
    "\n",
    "def genWrite(x):\n",
    "    asm.append('call $write')\n",
    "\n",
    "def genWriteln():\n",
    "    asm.append('call $writeln')\n",
    "\n",
    "def genSeq(x, y):\n",
    "    pass\n",
    "\n",
    "def genThen(x):\n",
    "    loadItem(x)\n",
    "    asm.append('if')\n",
    "    return x\n",
    "\n",
    "def genIfThen(x, y):\n",
    "    asm.append('end')\n",
    "\n",
    "def genElse(x, y):\n",
    "    asm.append('else')\n",
    "\n",
    "def genIfElse(x, y, z):\n",
    "    asm.append('end')\n",
    "\n",
    "def genWhile():\n",
    "    asm.append('loop')\n",
    "\n",
    "def genDo(x):\n",
    "    loadItem(x)\n",
    "    asm.append('if')\n",
    "    return x\n",
    "\n",
    "def genWhileDo(t, x, y):\n",
    "    asm.append('br 1')\n",
    "    asm.append('end')\n",
    "    asm.append('end')"
   ]
  }
 ],
 "metadata": {
  "kernelspec": {
   "display_name": "Python 3",
   "language": "python",
   "name": "python3"
  },
  "language_info": {
   "codemirror_mode": {
    "name": "ipython",
    "version": 3
   },
   "file_extension": ".py",
   "mimetype": "text/x-python",
   "name": "python",
   "nbconvert_exporter": "python",
   "pygments_lexer": "ipython3",
   "version": "3.8.0"
  },
  "toc": {
   "base_numbering": 1,
   "nav_menu": {},
   "number_sections": false,
   "sideBar": false,
   "skip_h1_title": true,
   "title_cell": "Table of Contents",
   "title_sidebar": "Contents",
   "toc_cell": false,
   "toc_position": {},
   "toc_section_display": true,
   "toc_window_display": false
  }
 },
 "nbformat": 4,
 "nbformat_minor": 2
}
